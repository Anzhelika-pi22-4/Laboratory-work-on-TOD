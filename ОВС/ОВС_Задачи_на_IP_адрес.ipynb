{
  "nbformat": 4,
  "nbformat_minor": 0,
  "metadata": {
    "colab": {
      "provenance": []
    },
    "kernelspec": {
      "name": "python3",
      "display_name": "Python 3"
    },
    "language_info": {
      "name": "python"
    }
  },
  "cells": [
    {
      "cell_type": "code",
      "execution_count": null,
      "metadata": {
        "colab": {
          "base_uri": "https://localhost:8080/",
          "height": 53
        },
        "id": "oEgVrEH4x2sC",
        "outputId": "c11ed6f3-b8d4-4a35-f33f-29c80ca10195"
      },
      "outputs": [
        {
          "name": "stdout",
          "output_type": "stream",
          "text": [
            "Введите IP-адрес: 11111111.00000000.00000000.11000000\n"
          ]
        },
        {
          "output_type": "execute_result",
          "data": {
            "text/plain": [
              "'255.0.0.192'"
            ],
            "application/vnd.google.colaboratory.intrinsic+json": {
              "type": "string"
            }
          },
          "metadata": {},
          "execution_count": 2
        }
      ],
      "source": [
        "#Задача 4.\n",
        "def perevod_IP(a):\n",
        "  s = a.split('.')\n",
        "  rez = ''\n",
        "  if len(s[0])<=3:\n",
        "    a1 = bin(int(s[0]))[2:]\n",
        "    while len(a1) != 8:\n",
        "      a1 = '0' + a1\n",
        "    a2 = bin(int(s[1]))[2:]\n",
        "    while len(a2) != 8:\n",
        "      a2 = '0' + a2\n",
        "    a3 = bin(int(s[2]))[2:]\n",
        "    while len(a3) != 8:\n",
        "      a3 = '0' + a3\n",
        "    a4 = bin(int(s[3]))[2:]\n",
        "    while len(a4) != 8:\n",
        "      a4 = '0' + a4\n",
        "    rez = rez + a1 + '.' + a2 + '.' + a3 + '.' + a4\n",
        "  else:\n",
        "    a1 = int(s[0],2)\n",
        "    a2 = int(s[1],2)\n",
        "    a3 = int(s[2],2)\n",
        "    a4 = int(s[3],2)\n",
        "    rez = rez + str(a1) + '.' + str(a2) + '.' + str(a3) + '.' + str(a4)\n",
        "  return rez\n",
        "perevod_IP(input('Введите IP-адрес: '))"
      ]
    },
    {
      "cell_type": "code",
      "source": [
        "#Задача 5.\n",
        "def Class_IP(IP):\n",
        "  IP = IP.split('.')\n",
        "  if (int(IP[0]) >= 0 and int(IP[0]) <= 127):\n",
        "    print ('Класс A, Маска: 255.0.0.0')\n",
        "    print('Начальный адрес: 0.0.0.0')\n",
        "    print('Конечный адрес: 127.255.255.255')\n",
        "  elif (int(IP[0]) >= 128 and int(IP[0]) <= 191):\n",
        "    print(\"Класс B, Маска: 255.255.0.0\")\n",
        "    print('Начальный адрес: 128.0.0.0')\n",
        "    print('Конечный адрес: 191.255.255.255')\n",
        "  elif (int(IP[0]) >= 192 and int(IP[0]) <= 223):\n",
        "    print(\"Класс C, Маска: 255.255.255.0\")\n",
        "    print('Начальный адрес: 192.0.0.0')\n",
        "    print('Конечный адрес: 223.255.255.255')\n",
        "  elif (int(IP[0]) >= 224 and int(IP[0]) <= 239):\n",
        "    print(\"Класс D\")\n",
        "    print('Начальный адрес: 224.0.0.0')\n",
        "    print('Конечный адрес: 239.255.255.255')\n",
        "  else:\n",
        "    print(\"Класс E\")\n",
        "    print('Начальный адрес: 240.0.0.0')\n",
        "    print('Конечный адрес: 255.255.255.255')\n",
        "Class_IP(input('Введите IP-адрес: '))\n",
        "  \n"
      ],
      "metadata": {
        "id": "TDaTjoOY4mgs",
        "colab": {
          "base_uri": "https://localhost:8080/"
        },
        "outputId": "661c2009-2b9f-4951-c8d4-54a901a398cb"
      },
      "execution_count": null,
      "outputs": [
        {
          "output_type": "stream",
          "name": "stdout",
          "text": [
            "Введите IP-адрес: 192.255.1.3\n",
            "Класс C, Маска: 255.255.255.0\n",
            "Начальный адрес: 192.0.0.0\n",
            "Конечный адрес: 223.255.255.255\n"
          ]
        }
      ]
    },
    {
      "cell_type": "code",
      "source": [
        "#Задача 6.\n",
        "IP = input('IP: ')\n",
        "host = input('Введите кол-во хостов: ')\n",
        "podset = input('Введите кол-во подсетей: ')\n",
        "def Class_IP(IP):\n",
        "  IP = IP.split('.')\n",
        "  global class1\n",
        "  global nach\n",
        "  global kon\n",
        "  if (int(IP[0]) >= 0 and int(IP[0]) <= 127):\n",
        "    class1 = 'Класс A'\n",
        "    nach = 'Начальный адрес: 0.0.0.0'\n",
        "    kon = 'Конечный адрес: 127.255.255.255'\n",
        "  elif (int(IP[0]) >= 128 and int(IP[0]) <= 191):\n",
        "    class1 = \"Класс B\"\n",
        "    nach = 'Начальный адрес: 128.0.0.0'\n",
        "    kon = 'Конечный адрес: 191.255.255.255'\n",
        "  elif (int(IP[0]) >= 192 and int(IP[0]) <= 223):\n",
        "    class1 = \"Класс C\"\n",
        "    nach = 'Начальный адрес: 192.0.0.0'\n",
        "    kon = 'Конечный адрес: 223.255.255.255'\n",
        "  elif (int(IP[0]) >= 224 and int(IP[0]) <= 239):\n",
        "    class1 = \"Класс D\"\n",
        "    nach = 'Начальный адрес: 224.0.0.0'\n",
        "    kon = 'Конечный адрес: 239.255.255.255'\n",
        "  else:\n",
        "    class1 = \"Класс E\"\n",
        "    nach = 'Начальный адрес: 240.0.0.0'\n",
        "    kon = 'Конечный адрес: 255.255.255.255'\n",
        "  return class1, nach, kon\n",
        "print(Class_IP(IP))\n",
        "N = S = H = rez1 = rez2 = rez = m = 0\n",
        "if class1 == 'Класс D' or class1 == 'Класс E':\n",
        "  print('Маски не существует, конец!')\n",
        "elif class1 == 'Класс A' or class1 == 'Класс B' or class1 == 'Класс C':\n",
        "  if class1 == 'Класс A':\n",
        "    N = 8\n",
        "  elif class1 == 'Класс B':\n",
        "    N = 16\n",
        "  else:\n",
        "    N = 24\n",
        "  for i in range(0,32):\n",
        "    if 2**i >= int(podset):\n",
        "      S = i\n",
        "      break\n",
        "  H = 32 - (N+S)\n",
        "  rez1 = 2**H - 2\n",
        "  if rez1 >= int(host):\n",
        "    print('Количество IP-адресов в сети: ', rez1)\n",
        "    rez2 = 2**(H-1) - 2\n",
        "    if rez2 >= int(host):\n",
        "      rez = rez2\n",
        "      print('Минимальное доступное кол-во адресов для хостов = ', rez)\n",
        "    else:\n",
        "      rez = rez1\n",
        "      print('Минимальное доступное кол-во адресов для хостов = ', rez)\n",
        "  else:\n",
        "    print('Кол-во адресов не подходит под условие')\n",
        "  \n",
        "  m = N + S\n",
        "  print('На хосты выделено: ', N)\n",
        "  print('Кол-во бит для подсетей: ', S)\n",
        "  print('На адрес сети уходит: ', m, ', остальные биты под маску: ', 32-m)\n",
        "\n"
      ],
      "metadata": {
        "id": "BhQ9gHEvWAZ3",
        "colab": {
          "base_uri": "https://localhost:8080/"
        },
        "outputId": "9386bae7-9c6f-4ae3-d93b-2e8a99d234f3"
      },
      "execution_count": null,
      "outputs": [
        {
          "output_type": "stream",
          "name": "stdout",
          "text": [
            "IP: 172.16.0.0\n",
            "Введите кол-во хостов: 180\n",
            "Введите кол-во подсетей: 120\n",
            "('Класс B', 'Начальный адрес: 128.0.0.0', 'Конечный адрес: 191.255.255.255')\n",
            "Количество IP-адресов в сети:  510\n",
            "Минимальное доступное кол-во адресов для хостов =  254\n",
            "На хосты выделено:  16\n",
            "Кол-во бит для подсетей:  7\n",
            "На адрес сети уходит:  23 , остальные биты под маску:  9\n"
          ]
        }
      ]
    }
  ]
}