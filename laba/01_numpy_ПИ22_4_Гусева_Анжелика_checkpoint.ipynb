{
  "cells": [
    {
      "cell_type": "markdown",
      "metadata": {
        "id": "v6tSFVb6PM9e"
      },
      "source": [
        "# Numpy"
      ]
    },
    {
      "cell_type": "markdown",
      "metadata": {
        "id": "ESCt91qbPM9i"
      },
      "source": [
        "Материалы:\n",
        "* Макрушин С.В. \"Лекция 1: Библиотека Numpy\"\n",
        "* https://numpy.org/doc/stable/user/index.html\n",
        "* https://numpy.org/doc/stable/reference/index.html"
      ]
    },
    {
      "cell_type": "markdown",
      "metadata": {
        "id": "-jiDIGAqPM9j"
      },
      "source": [
        "## Задачи для совместного разбора"
      ]
    },
    {
      "cell_type": "markdown",
      "metadata": {
        "id": "Bel-ZKBgPM9k"
      },
      "source": [
        "1. Сгенерировать двухмерный массив `arr` размерности (4, 7), состоящий из случайных действительных чисел, равномерно распределенных в диапазоне от 0 до 20. Нормализовать значения массива с помощью преобразования вида  $𝑎𝑥+𝑏$  так, что после нормализации максимальный элемент масcива будет равен 1.0, минимальный 0.0"
      ]
    },
    {
      "cell_type": "markdown",
      "metadata": {
        "id": "K_-DZxUhPM9m"
      },
      "source": [
        "2. Создать матрицу 8 на 10 из случайных целых (используя модуль `numpy.random`) чисел из диапозона от 0 до 10 и найти в ней строку (ее индекс и вывести саму строку), в которой сумма значений минимальна."
      ]
    },
    {
      "cell_type": "markdown",
      "metadata": {
        "id": "5NKWDCcePM9n"
      },
      "source": [
        "3. Найти евклидово расстояние между двумя одномерными векторами одинаковой размерности."
      ]
    },
    {
      "cell_type": "markdown",
      "metadata": {
        "id": "xP7NBW3aPM9o"
      },
      "source": [
        "4. Решить матричное уравнение `A*X*B=-C` - найти матрицу `X`. Где `A = [[-1, 2, 4], [-3, 1, 2], [-3, 0, 1]]`, `B=[[3, -1], [2, 1]]`, `C=[[7, 21], [11, 8], [8, 4]]`."
      ]
    },
    {
      "cell_type": "markdown",
      "metadata": {
        "id": "3RfEAAG0PM9o"
      },
      "source": [
        "## Лабораторная работа №1"
      ]
    },
    {
      "cell_type": "markdown",
      "metadata": {
        "id": "Sqch6kFXPM9p"
      },
      "source": [
        "Замечание: при решении данных задач не подразумевается использования циклов или генераторов Python, если в задании не сказано обратного. Решение должно опираться на использования функционала библиотеки `numpy`."
      ]
    },
    {
      "cell_type": "markdown",
      "metadata": {
        "id": "SwK-nKzFPM9p"
      },
      "source": [
        "1. Файл `minutes_n_ingredients.csv` содержит информацию об идентификаторе рецепта, времени его выполнения в минутах и количестве необходимых ингредиентов. Считайте данные из этого файла в виде массива `numpy` типа `int32`, используя `np.loadtxt`. Выведите на экран первые 5 строк массива."
      ]
    },
    {
      "cell_type": "markdown",
      "metadata": {
        "id": "BW4N_Cr1PM9q"
      },
      "source": [
        "2. Вычислите среднее значение, минимум, максимум и медиану по каждому из столбцов, кроме первого."
      ]
    },
    {
      "cell_type": "markdown",
      "metadata": {
        "id": "lOD_mFMrPM9q"
      },
      "source": [
        "3. Ограничьте сверху значения продолжительности выполнения рецепта значением квантиля $q_{0.75}$. "
      ]
    },
    {
      "cell_type": "markdown",
      "metadata": {
        "id": "RxoyWQTlPM9q"
      },
      "source": [
        "4. Посчитайте, для скольких рецептов указана продолжительность, равная нулю. Замените для таких строк значение в данном столбце на 1."
      ]
    },
    {
      "cell_type": "markdown",
      "metadata": {
        "id": "u9e_eAq-PM9r"
      },
      "source": [
        "5. Посчитайте, сколько уникальных рецептов находится в датасете."
      ]
    },
    {
      "cell_type": "markdown",
      "metadata": {
        "id": "i1HLLwEtPM9r"
      },
      "source": [
        "6. Сколько и каких различных значений кол-ва ингредиентов присутвует в рецептах из датасета?"
      ]
    },
    {
      "cell_type": "markdown",
      "metadata": {
        "id": "Z9fxN28KPM9r"
      },
      "source": [
        "7. Создайте версию массива, содержащую информацию только о рецептах, состоящих не более чем из 5 ингредиентов."
      ]
    },
    {
      "cell_type": "markdown",
      "metadata": {
        "id": "XxggpJsqPM9r"
      },
      "source": [
        "8. Для каждого рецепта посчитайте, сколько в среднем ингредиентов приходится на одну минуту рецепта. Найдите максимальное значение этой величины для всего датасета"
      ]
    },
    {
      "cell_type": "markdown",
      "metadata": {
        "id": "gpiZjpTHPM9s"
      },
      "source": [
        "9. Вычислите среднее количество ингредиентов для топ-100 рецептов с наибольшей продолжительностью"
      ]
    },
    {
      "cell_type": "markdown",
      "metadata": {
        "id": "3bhtyJAiPM9s"
      },
      "source": [
        "10. Выберите случайным образом и выведите информацию о 10 различных рецептах"
      ]
    },
    {
      "cell_type": "markdown",
      "metadata": {
        "id": "XweR3zaAPM9s"
      },
      "source": [
        "11. Выведите процент рецептов, кол-во ингредиентов в которых меньше среднего."
      ]
    },
    {
      "cell_type": "markdown",
      "metadata": {
        "id": "hvCfZDtSPM9s"
      },
      "source": [
        "12. Назовем \"простым\" такой рецепт, длительность выполнения которого не больше 20 минут и кол-во ингредиентов в котором не больше 5. Создайте версию датасета с дополнительным столбцом, значениями которого являются 1, если рецепт простой, и 0 в противном случае."
      ]
    },
    {
      "cell_type": "markdown",
      "metadata": {
        "id": "MM1DrxtTPM9s"
      },
      "source": [
        "13. Выведите процент \"простых\" рецептов в датасете"
      ]
    },
    {
      "cell_type": "markdown",
      "metadata": {
        "id": "s4vU9uC9PM9t"
      },
      "source": [
        "14. Разделим рецепты на группы по следующему правилу. Назовем рецепты короткими, если их продолжительность составляет менее 10 минут; стандартными, если их продолжительность составляет более 10, но менее 20 минут; и длинными, если их продолжительность составляет не менее 20 минут. Создайте трехмерный массив, где нулевая ось отвечает за номер группы (короткий, стандартный или длинный рецепт), первая ось - за сам рецепт и вторая ось - за характеристики рецепта. Выберите максимальное количество рецептов из каждой группы таким образом, чтобы было возможно сформировать трехмерный массив. Выведите форму полученного массива."
      ]
    },
    {
      "cell_type": "code",
      "execution_count": 2,
      "metadata": {
        "id": "UXmCyBMZPM9t"
      },
      "outputs": [],
      "source": [
        "import numpy as np"
      ]
    },
    {
      "cell_type": "code",
      "source": [
        "my_file = \"/content/minutes_n_ingredients.csv\""
      ],
      "metadata": {
        "id": "5nf63pTtWpSy"
      },
      "execution_count": 10,
      "outputs": []
    },
    {
      "cell_type": "code",
      "source": [
        "#Задача 1\n",
        "a_ld = np.loadtxt(my_file, int, skiprows=1, delimiter=',')\n",
        "a_ld[:5, :]"
      ],
      "metadata": {
        "id": "7aeX24vkVTOz",
        "colab": {
          "base_uri": "https://localhost:8080/"
        },
        "outputId": "aabc255d-6541-4353-b975-689e34c880d2"
      },
      "execution_count": 11,
      "outputs": [
        {
          "output_type": "execute_result",
          "data": {
            "text/plain": [
              "array([[127244,     60,     16],\n",
              "       [ 23891,     25,      7],\n",
              "       [ 94746,     10,      6],\n",
              "       [ 67660,      5,      6],\n",
              "       [157911,     60,     14]])"
            ]
          },
          "metadata": {},
          "execution_count": 11
        }
      ]
    },
    {
      "cell_type": "code",
      "source": [
        "#Задача 2\n",
        "print(\"Второй столбик:\")\n",
        "print(np.mean(a_ld[:,1]))\n",
        "print(np.max(a_ld[:,1]))\n",
        "print(np.min(a_ld[:,1]))\n",
        "print(np.median(a_ld[:,1]))\n",
        "print('----------------------')\n",
        "print(\"Третий столбик:\")\n",
        "print(np.mean(a_ld[:, 2]))\n",
        "print(np.min(a_ld[:, 2]))\n",
        "print(np.max(a_ld[:, 2]))\n",
        "print(np.median(a_ld[:, 2]))\n"
      ],
      "metadata": {
        "id": "YIruWE3vW0_i",
        "colab": {
          "base_uri": "https://localhost:8080/"
        },
        "outputId": "2be8353c-9cff-4659-e7dc-5748772add5d"
      },
      "execution_count": 12,
      "outputs": [
        {
          "output_type": "stream",
          "name": "stdout",
          "text": [
            "Второй столбик:\n",
            "21601.00169\n",
            "2147483647\n",
            "0\n",
            "40.0\n",
            "----------------------\n",
            "Третий столбик:\n",
            "9.05528\n",
            "1\n",
            "39\n",
            "9.0\n"
          ]
        }
      ]
    },
    {
      "cell_type": "code",
      "source": [
        "#Задача 3\n",
        "q = np.quantile(a_ld[:, 1], 0.75)\n",
        "a_ld[:, 1] = np.where(a_ld[:, 1] <= q, a_ld[:, 1], q)\n",
        "print(a_ld)"
      ],
      "metadata": {
        "id": "U41cyxy8W4iy",
        "colab": {
          "base_uri": "https://localhost:8080/"
        },
        "outputId": "7096cf5a-3d35-4559-f9c5-fe0d5fe205ab"
      },
      "execution_count": 14,
      "outputs": [
        {
          "output_type": "stream",
          "name": "stdout",
          "text": [
            "[[127244     60     16]\n",
            " [ 23891     25      7]\n",
            " [ 94746     10      6]\n",
            " ...\n",
            " [498432     65     15]\n",
            " [370915      5      4]\n",
            " [ 81993     65     14]]\n"
          ]
        }
      ]
    },
    {
      "cell_type": "code",
      "source": [
        "#Задача 4\n",
        "print(np.count_nonzero(a_ld[:, 1] == 0))\n",
        "a_ld[:, 1] = np.where(a_ld[:, 1] != 0, a_ld[:, 1], 1)"
      ],
      "metadata": {
        "id": "oDeKj6PLW46S",
        "colab": {
          "base_uri": "https://localhost:8080/"
        },
        "outputId": "798070b9-f934-49b5-ce8a-82a40394e5f9"
      },
      "execution_count": 15,
      "outputs": [
        {
          "output_type": "stream",
          "name": "stdout",
          "text": [
            "479\n"
          ]
        }
      ]
    },
    {
      "cell_type": "code",
      "source": [
        "#Задача 5\n",
        "print(len(np.unique(a_ld[:, 0])))"
      ],
      "metadata": {
        "id": "y0Umf2w2W5Ou",
        "colab": {
          "base_uri": "https://localhost:8080/"
        },
        "outputId": "8dfec886-e6ad-4bb7-8104-828d1e5729fa"
      },
      "execution_count": 16,
      "outputs": [
        {
          "output_type": "stream",
          "name": "stdout",
          "text": [
            "100000\n"
          ]
        }
      ]
    },
    {
      "cell_type": "code",
      "source": [
        "#Задача 6\n",
        "print(len(np.unique(a_ld[:, 2])))\n",
        "print(np.unique(a_ld[:, 2]))"
      ],
      "metadata": {
        "id": "Mwwr44i5W5i2",
        "colab": {
          "base_uri": "https://localhost:8080/"
        },
        "outputId": "400cfbd7-d9c5-4373-a131-3db7dfaa54e8"
      },
      "execution_count": 17,
      "outputs": [
        {
          "output_type": "stream",
          "name": "stdout",
          "text": [
            "37\n",
            "[ 1  2  3  4  5  6  7  8  9 10 11 12 13 14 15 16 17 18 19 20 21 22 23 24\n",
            " 25 26 27 28 29 30 31 32 33 34 35 37 39]\n"
          ]
        }
      ]
    },
    {
      "cell_type": "code",
      "source": [
        "#Задача 7\n",
        "a_ld_2 = a_ld[np.where(a_ld[:, 2] <= 5)]\n",
        "print(a_ld_2)"
      ],
      "metadata": {
        "id": "kUMiOwe5W51z",
        "colab": {
          "base_uri": "https://localhost:8080/"
        },
        "outputId": "fbf662ea-ad75-431d-a95c-9159d951ee6d"
      },
      "execution_count": 18,
      "outputs": [
        {
          "output_type": "stream",
          "name": "stdout",
          "text": [
            "[[446597     15      5]\n",
            " [204134      5      3]\n",
            " [ 25623      6      4]\n",
            " ...\n",
            " [ 52088     60      5]\n",
            " [128811     15      4]\n",
            " [370915      5      4]]\n"
          ]
        }
      ]
    },
    {
      "cell_type": "code",
      "source": [
        "#Задача 8\n",
        "ingr_1_min = a_ld[:, 2] / a_ld[: ,1]\n",
        "print(np.max(ingr_1_min))"
      ],
      "metadata": {
        "id": "Ma5ACAOHW6Ui",
        "colab": {
          "base_uri": "https://localhost:8080/"
        },
        "outputId": "0f7343a4-fae2-4f49-9206-809b578f6f03"
      },
      "execution_count": 19,
      "outputs": [
        {
          "output_type": "stream",
          "name": "stdout",
          "text": [
            "24.0\n"
          ]
        }
      ]
    },
    {
      "cell_type": "code",
      "source": [
        "#Задача 9\n",
        "sort0 = np.array(sorted(a_ld, key=lambda a_entry: a_entry[1], reverse=True))\n",
        "print(np.mean(sort0[:100, 2]))"
      ],
      "metadata": {
        "id": "pBes88rPW6lO",
        "colab": {
          "base_uri": "https://localhost:8080/"
        },
        "outputId": "19f86c18-79fa-4242-d82c-11f84bf135aa"
      },
      "execution_count": 20,
      "outputs": [
        {
          "output_type": "stream",
          "name": "stdout",
          "text": [
            "10.03\n"
          ]
        }
      ]
    },
    {
      "cell_type": "code",
      "source": [
        "#Задача 10\n",
        "rand = np.random.randint(len(a_ld), size=10)\n",
        "print(a_ld[rand, :])"
      ],
      "metadata": {
        "id": "S0iKFAMSW602",
        "colab": {
          "base_uri": "https://localhost:8080/"
        },
        "outputId": "f04e2498-dbc6-4e75-e9ae-7011a0de5238"
      },
      "execution_count": 21,
      "outputs": [
        {
          "output_type": "stream",
          "name": "stdout",
          "text": [
            "[[285961     45      9]\n",
            " [317448     65     19]\n",
            " [178444     15      5]\n",
            " [456744     20      7]\n",
            " [ 91884     65      5]\n",
            " [161530     15      7]\n",
            " [260535     30      5]\n",
            " [ 59160     65     12]\n",
            " [101304     25      7]\n",
            " [ 64869     65      7]]\n"
          ]
        }
      ]
    },
    {
      "cell_type": "code",
      "source": [
        "#Задача 11\n",
        "print(len(a_ld[np.where(a_ld[:, 2] < np.mean(a_ld[:, 2]))]) / len(a_ld) * 100)"
      ],
      "metadata": {
        "id": "IsIqEE5hW7Ei",
        "colab": {
          "base_uri": "https://localhost:8080/"
        },
        "outputId": "05e322d9-4e9c-46f0-d033-c1f8592591a0"
      },
      "execution_count": 22,
      "outputs": [
        {
          "output_type": "stream",
          "name": "stdout",
          "text": [
            "58.802\n"
          ]
        }
      ]
    },
    {
      "cell_type": "code",
      "source": [
        "#Задача 12\n",
        "prosto = np.c_[a_ld, np.zeros(len(a_ld)).astype(int)]\n",
        "prosto[:, 3] = np.where((a_ld[:, 1] <= 20) & (a_ld[:, 2] <= 5), 1, 0)\n",
        "prosto"
      ],
      "metadata": {
        "id": "JEF790n2W7cr",
        "colab": {
          "base_uri": "https://localhost:8080/"
        },
        "outputId": "0b80d99f-c864-4d7b-ca75-99fb6c17bb73"
      },
      "execution_count": 24,
      "outputs": [
        {
          "output_type": "execute_result",
          "data": {
            "text/plain": [
              "array([[127244,     60,     16,      0],\n",
              "       [ 23891,     25,      7,      0],\n",
              "       [ 94746,     10,      6,      0],\n",
              "       ...,\n",
              "       [498432,     65,     15,      0],\n",
              "       [370915,      5,      4,      1],\n",
              "       [ 81993,     65,     14,      0]])"
            ]
          },
          "metadata": {},
          "execution_count": 24
        }
      ]
    },
    {
      "cell_type": "code",
      "source": [
        "#Задача 13\n",
        "print(len(prosto[np.where(prosto[:, 3] == 1)]) / len(prosto) * 100)"
      ],
      "metadata": {
        "id": "9mjyRyhmW7tk",
        "colab": {
          "base_uri": "https://localhost:8080/"
        },
        "outputId": "85a33238-9be0-420a-ad61-acc08a2de599"
      },
      "execution_count": 25,
      "outputs": [
        {
          "output_type": "stream",
          "name": "stdout",
          "text": [
            "9.552\n"
          ]
        }
      ]
    },
    {
      "cell_type": "code",
      "source": [
        "#Задача 14\n",
        "time = np.array([np.zeros(len(a_ld)).astype(int), a_ld[:, 0], prosto[:, 3]]).transpose()\n",
        "time[:, 0] = np.where((a_ld[:, 1] >= 10) & (a_ld[:, 1] < 20), 1, time[:, 0])\n",
        "time[:, 0] = np.where(a_ld[:, 1] >= 20, 2, time[:, 0])\n",
        "time"
      ],
      "metadata": {
        "id": "onorWClpW8Gq",
        "colab": {
          "base_uri": "https://localhost:8080/"
        },
        "outputId": "e83fe242-052a-439a-ab46-1124c9ff3a09"
      },
      "execution_count": 26,
      "outputs": [
        {
          "output_type": "execute_result",
          "data": {
            "text/plain": [
              "array([[     2, 127244,      0],\n",
              "       [     2,  23891,      0],\n",
              "       [     1,  94746,      0],\n",
              "       ...,\n",
              "       [     2, 498432,      0],\n",
              "       [     0, 370915,      1],\n",
              "       [     2,  81993,      0]])"
            ]
          },
          "metadata": {},
          "execution_count": 26
        }
      ]
    }
  ],
  "metadata": {
    "kernelspec": {
      "display_name": "Python 3 (ipykernel)",
      "language": "python",
      "name": "python3"
    },
    "language_info": {
      "codemirror_mode": {
        "name": "ipython",
        "version": 3
      },
      "file_extension": ".py",
      "mimetype": "text/x-python",
      "name": "python",
      "nbconvert_exporter": "python",
      "pygments_lexer": "ipython3",
      "version": "3.9.12"
    },
    "colab": {
      "provenance": []
    }
  },
  "nbformat": 4,
  "nbformat_minor": 0
}