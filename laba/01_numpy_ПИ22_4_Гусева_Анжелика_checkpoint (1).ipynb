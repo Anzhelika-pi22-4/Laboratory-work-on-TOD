{
  "cells": [
    {
      "cell_type": "markdown",
      "metadata": {
        "id": "v6tSFVb6PM9e"
      },
      "source": [
        "# Numpy"
      ]
    },
    {
      "cell_type": "markdown",
      "metadata": {
        "id": "ESCt91qbPM9i"
      },
      "source": [
        "Материалы:\n",
        "* Макрушин С.В. \"Лекция 1: Библиотека Numpy\"\n",
        "* https://numpy.org/doc/stable/user/index.html\n",
        "* https://numpy.org/doc/stable/reference/index.html"
      ]
    },
    {
      "cell_type": "markdown",
      "metadata": {
        "id": "-jiDIGAqPM9j"
      },
      "source": [
        "## Задачи для совместного разбора"
      ]
    },
    {
      "cell_type": "markdown",
      "metadata": {
        "id": "Bel-ZKBgPM9k"
      },
      "source": [
        "1. Сгенерировать двухмерный массив `arr` размерности (4, 7), состоящий из случайных действительных чисел, равномерно распределенных в диапазоне от 0 до 20. Нормализовать значения массива с помощью преобразования вида  $𝑎𝑥+𝑏$  так, что после нормализации максимальный элемент масcива будет равен 1.0, минимальный 0.0"
      ]
    },
    {
      "cell_type": "code",
      "source": [
        "import numpy as np\n",
        "\n",
        "a = np.random.uniform(0,20,28).reshape(4,7)\n",
        "a_rez = (a - np.min(a))/(np.max(a)-np.min(a))\n",
        "print(a_rez)"
      ],
      "metadata": {
        "colab": {
          "base_uri": "https://localhost:8080/"
        },
        "id": "JHgBCq5F6IZv",
        "outputId": "e3f2cf22-68b0-4d8f-d9ce-f125c7061a45"
      },
      "execution_count": 1,
      "outputs": [
        {
          "output_type": "stream",
          "name": "stdout",
          "text": [
            "[[0.48258925 0.81154479 0.99043018 0.22379202 0.00237084 1.\n",
            "  0.34957218]\n",
            " [0.44988044 0.96655062 0.30147761 0.69025886 0.54904659 0.33123809\n",
            "  0.53945818]\n",
            " [0.5258352  0.48515326 0.47394811 0.14725254 0.97682908 0.\n",
            "  0.77915344]\n",
            " [0.78373333 0.33783688 0.28337952 0.34341279 0.03188148 0.46693672\n",
            "  0.65136346]]\n"
          ]
        }
      ]
    },
    {
      "cell_type": "markdown",
      "metadata": {
        "id": "K_-DZxUhPM9m"
      },
      "source": [
        "2. Создать матрицу 8 на 10 из случайных целых (используя модуль `numpy.random`) чисел из диапозона от 0 до 10 и найти в ней строку (ее индекс и вывести саму строку), в которой сумма значений минимальна."
      ]
    },
    {
      "cell_type": "code",
      "source": [
        "import numpy as np\n",
        "a = np.random.randint(0,10,80).reshape(8,10)\n",
        "print(min(a.sum(axis=1)))"
      ],
      "metadata": {
        "colab": {
          "base_uri": "https://localhost:8080/"
        },
        "id": "mDhmiKOp57mP",
        "outputId": "5d03be11-1646-4d86-b764-2431161b9828"
      },
      "execution_count": 2,
      "outputs": [
        {
          "output_type": "stream",
          "name": "stdout",
          "text": [
            "38\n"
          ]
        }
      ]
    },
    {
      "cell_type": "markdown",
      "metadata": {
        "id": "5NKWDCcePM9n"
      },
      "source": [
        "3. Найти евклидово расстояние между двумя одномерными векторами одинаковой размерности."
      ]
    },
    {
      "cell_type": "code",
      "source": [
        "a1 = np.array((0,0,0))\n",
        "a2 = np.array((3,3,3))\n",
        "ev = np.sqrt(np.sum(np.square(a2-a1)))\n",
        "print(ev)"
      ],
      "metadata": {
        "colab": {
          "base_uri": "https://localhost:8080/"
        },
        "id": "8qKuym0x7K2U",
        "outputId": "86fc3027-5e70-4e44-cbf7-69b63000667d"
      },
      "execution_count": 3,
      "outputs": [
        {
          "output_type": "stream",
          "name": "stdout",
          "text": [
            "5.196152422706632\n"
          ]
        }
      ]
    },
    {
      "cell_type": "markdown",
      "metadata": {
        "id": "xP7NBW3aPM9o"
      },
      "source": [
        "4. Решить матричное уравнение `A*X*B=-C` - найти матрицу `X`. Где `A = [[-1, 2, 4], [-3, 1, 2], [-3, 0, 1]]`, `B=[[3, -1], [2, 1]]`, `C=[[7, 21], [11, 8], [8, 4]]`."
      ]
    },
    {
      "cell_type": "code",
      "source": [
        "A = np.array([[-1,2,4], [-3,1,2], [-3,0,1]])\n",
        "B = np.array([[3,-1], [2,1]])\n",
        "C = np.array([[7,21], [11,8], [8,4]])\n",
        "X = np.linalg.inv(A) @ (C*(-1)) @ np.linalg.inv(B)\n",
        "print(X)"
      ],
      "metadata": {
        "id": "7nP3s2_u9N8i",
        "colab": {
          "base_uri": "https://localhost:8080/"
        },
        "outputId": "8a60a585-7bbb-438e-fe02-02d658030b41"
      },
      "execution_count": 5,
      "outputs": [
        {
          "output_type": "stream",
          "name": "stdout",
          "text": [
            "[[ 1.00000000e+00  5.32907052e-16]\n",
            " [-2.00000000e+00  1.00000000e+00]\n",
            " [ 3.00000000e+00 -4.00000000e+00]]\n"
          ]
        }
      ]
    },
    {
      "cell_type": "markdown",
      "metadata": {
        "id": "3RfEAAG0PM9o"
      },
      "source": [
        "## Лабораторная работа №1"
      ]
    },
    {
      "cell_type": "markdown",
      "metadata": {
        "id": "Sqch6kFXPM9p"
      },
      "source": [
        "Замечание: при решении данных задач не подразумевается использования циклов или генераторов Python, если в задании не сказано обратного. Решение должно опираться на использования функционала библиотеки `numpy`."
      ]
    },
    {
      "cell_type": "markdown",
      "metadata": {
        "id": "SwK-nKzFPM9p"
      },
      "source": [
        "1. Файл `minutes_n_ingredients.csv` содержит информацию об идентификаторе рецепта, времени его выполнения в минутах и количестве необходимых ингредиентов. Считайте данные из этого файла в виде массива `numpy` типа `int32`, используя `np.loadtxt`. Выведите на экран первые 5 строк массива."
      ]
    },
    {
      "cell_type": "markdown",
      "metadata": {
        "id": "BW4N_Cr1PM9q"
      },
      "source": [
        "2. Вычислите среднее значение, минимум, максимум и медиану по каждому из столбцов, кроме первого."
      ]
    },
    {
      "cell_type": "markdown",
      "metadata": {
        "id": "lOD_mFMrPM9q"
      },
      "source": [
        "3. Ограничьте сверху значения продолжительности выполнения рецепта значением квантиля $q_{0.75}$. "
      ]
    },
    {
      "cell_type": "markdown",
      "metadata": {
        "id": "RxoyWQTlPM9q"
      },
      "source": [
        "4. Посчитайте, для скольких рецептов указана продолжительность, равная нулю. Замените для таких строк значение в данном столбце на 1."
      ]
    },
    {
      "cell_type": "markdown",
      "metadata": {
        "id": "u9e_eAq-PM9r"
      },
      "source": [
        "5. Посчитайте, сколько уникальных рецептов находится в датасете."
      ]
    },
    {
      "cell_type": "markdown",
      "metadata": {
        "id": "i1HLLwEtPM9r"
      },
      "source": [
        "6. Сколько и каких различных значений кол-ва ингредиентов присутвует в рецептах из датасета?"
      ]
    },
    {
      "cell_type": "markdown",
      "metadata": {
        "id": "Z9fxN28KPM9r"
      },
      "source": [
        "7. Создайте версию массива, содержащую информацию только о рецептах, состоящих не более чем из 5 ингредиентов."
      ]
    },
    {
      "cell_type": "markdown",
      "metadata": {
        "id": "XxggpJsqPM9r"
      },
      "source": [
        "8. Для каждого рецепта посчитайте, сколько в среднем ингредиентов приходится на одну минуту рецепта. Найдите максимальное значение этой величины для всего датасета"
      ]
    },
    {
      "cell_type": "markdown",
      "metadata": {
        "id": "gpiZjpTHPM9s"
      },
      "source": [
        "9. Вычислите среднее количество ингредиентов для топ-100 рецептов с наибольшей продолжительностью"
      ]
    },
    {
      "cell_type": "markdown",
      "metadata": {
        "id": "3bhtyJAiPM9s"
      },
      "source": [
        "10. Выберите случайным образом и выведите информацию о 10 различных рецептах"
      ]
    },
    {
      "cell_type": "markdown",
      "metadata": {
        "id": "XweR3zaAPM9s"
      },
      "source": [
        "11. Выведите процент рецептов, кол-во ингредиентов в которых меньше среднего."
      ]
    },
    {
      "cell_type": "markdown",
      "metadata": {
        "id": "hvCfZDtSPM9s"
      },
      "source": [
        "12. Назовем \"простым\" такой рецепт, длительность выполнения которого не больше 20 минут и кол-во ингредиентов в котором не больше 5. Создайте версию датасета с дополнительным столбцом, значениями которого являются 1, если рецепт простой, и 0 в противном случае."
      ]
    },
    {
      "cell_type": "markdown",
      "metadata": {
        "id": "MM1DrxtTPM9s"
      },
      "source": [
        "13. Выведите процент \"простых\" рецептов в датасете"
      ]
    },
    {
      "cell_type": "markdown",
      "metadata": {
        "id": "s4vU9uC9PM9t"
      },
      "source": [
        "14. Разделим рецепты на группы по следующему правилу. Назовем рецепты короткими, если их продолжительность составляет менее 10 минут; стандартными, если их продолжительность составляет более 10, но менее 20 минут; и длинными, если их продолжительность составляет не менее 20 минут. Создайте трехмерный массив, где нулевая ось отвечает за номер группы (короткий, стандартный или длинный рецепт), первая ось - за сам рецепт и вторая ось - за характеристики рецепта. Выберите максимальное количество рецептов из каждой группы таким образом, чтобы было возможно сформировать трехмерный массив. Выведите форму полученного массива."
      ]
    },
    {
      "cell_type": "code",
      "execution_count": 7,
      "metadata": {
        "id": "UXmCyBMZPM9t"
      },
      "outputs": [],
      "source": [
        "import numpy as np"
      ]
    },
    {
      "cell_type": "code",
      "source": [
        "my_file = \"/content/minutes_n_ingredients.csv\""
      ],
      "metadata": {
        "id": "5nf63pTtWpSy"
      },
      "execution_count": 8,
      "outputs": []
    },
    {
      "cell_type": "code",
      "source": [
        "#Задача 1\n",
        "a_ld = np.loadtxt(my_file, int, skiprows=1, delimiter=',')\n",
        "a_ld[:5, :]"
      ],
      "metadata": {
        "id": "7aeX24vkVTOz",
        "colab": {
          "base_uri": "https://localhost:8080/"
        },
        "outputId": "cf41e60f-9734-4b05-8f4b-de987e4ba0c5"
      },
      "execution_count": 9,
      "outputs": [
        {
          "output_type": "execute_result",
          "data": {
            "text/plain": [
              "array([[127244,     60,     16],\n",
              "       [ 23891,     25,      7],\n",
              "       [ 94746,     10,      6],\n",
              "       [ 67660,      5,      6],\n",
              "       [157911,     60,     14]])"
            ]
          },
          "metadata": {},
          "execution_count": 9
        }
      ]
    },
    {
      "cell_type": "code",
      "source": [
        "#Задача 2\n",
        "print(\"Второй столбик:\")\n",
        "print(np.mean(a_ld[:,1]))\n",
        "print(np.max(a_ld[:,1]))\n",
        "print(np.min(a_ld[:,1]))\n",
        "print(np.median(a_ld[:,1]))\n",
        "print('----------------------')\n",
        "print(\"Третий столбик:\")\n",
        "print(np.mean(a_ld[:, 2]))\n",
        "print(np.min(a_ld[:, 2]))\n",
        "print(np.max(a_ld[:, 2]))\n",
        "print(np.median(a_ld[:, 2]))\n"
      ],
      "metadata": {
        "id": "YIruWE3vW0_i",
        "colab": {
          "base_uri": "https://localhost:8080/"
        },
        "outputId": "292c0e8b-53ae-449e-a250-cc9d0cff42da"
      },
      "execution_count": 10,
      "outputs": [
        {
          "output_type": "stream",
          "name": "stdout",
          "text": [
            "Второй столбик:\n",
            "21601.00169\n",
            "2147483647\n",
            "0\n",
            "40.0\n",
            "----------------------\n",
            "Третий столбик:\n",
            "9.05528\n",
            "1\n",
            "39\n",
            "9.0\n"
          ]
        }
      ]
    },
    {
      "cell_type": "code",
      "source": [
        "#Задача 3\n",
        "q = np.quantile(a_ld[:, 1], 0.75)\n",
        "a_ld[:, 1] = np.where(a_ld[:, 1] <= q, a_ld[:, 1], q)\n",
        "print(a_ld)"
      ],
      "metadata": {
        "id": "U41cyxy8W4iy",
        "colab": {
          "base_uri": "https://localhost:8080/"
        },
        "outputId": "4496f739-1c4f-484e-a37e-6d69a2f0223b"
      },
      "execution_count": 12,
      "outputs": [
        {
          "output_type": "stream",
          "name": "stdout",
          "text": [
            "[[127244     60     16]\n",
            " [ 23891     25      7]\n",
            " [ 94746     10      6]\n",
            " ...\n",
            " [498432     65     15]\n",
            " [370915      5      4]\n",
            " [ 81993     65     14]]\n"
          ]
        }
      ]
    },
    {
      "cell_type": "code",
      "source": [
        "#Задача 4\n",
        "print(np.count_nonzero(a_ld[:, 1] == 0))\n",
        "a_ld[:, 1] = np.where(a_ld[:, 1] != 0, a_ld[:, 1], 1)"
      ],
      "metadata": {
        "id": "oDeKj6PLW46S",
        "colab": {
          "base_uri": "https://localhost:8080/"
        },
        "outputId": "d5a9b903-59dc-45b2-8b69-ca407bf6b220"
      },
      "execution_count": 11,
      "outputs": [
        {
          "output_type": "stream",
          "name": "stdout",
          "text": [
            "479\n"
          ]
        }
      ]
    },
    {
      "cell_type": "code",
      "source": [
        "#Задача 5\n",
        "print(len(np.unique(a_ld[:, 0])))"
      ],
      "metadata": {
        "id": "y0Umf2w2W5Ou",
        "colab": {
          "base_uri": "https://localhost:8080/"
        },
        "outputId": "555eef3c-6b0d-4697-a3a1-be478efafe48"
      },
      "execution_count": 13,
      "outputs": [
        {
          "output_type": "stream",
          "name": "stdout",
          "text": [
            "100000\n"
          ]
        }
      ]
    },
    {
      "cell_type": "code",
      "source": [
        "#Задача 6\n",
        "print(len(np.unique(a_ld[:, 2])))\n",
        "print(np.unique(a_ld[:, 2]))"
      ],
      "metadata": {
        "id": "Mwwr44i5W5i2",
        "colab": {
          "base_uri": "https://localhost:8080/"
        },
        "outputId": "a8b6e111-ab65-4ba2-bb1e-5bdec0953682"
      },
      "execution_count": 14,
      "outputs": [
        {
          "output_type": "stream",
          "name": "stdout",
          "text": [
            "37\n",
            "[ 1  2  3  4  5  6  7  8  9 10 11 12 13 14 15 16 17 18 19 20 21 22 23 24\n",
            " 25 26 27 28 29 30 31 32 33 34 35 37 39]\n"
          ]
        }
      ]
    },
    {
      "cell_type": "code",
      "source": [
        "#Задача 7\n",
        "a_ld_2 = a_ld[np.where(a_ld[:, 2] <= 5)]\n",
        "print(a_ld_2)"
      ],
      "metadata": {
        "id": "kUMiOwe5W51z",
        "colab": {
          "base_uri": "https://localhost:8080/"
        },
        "outputId": "84f8294b-d8db-4b2a-8181-d5036996efde"
      },
      "execution_count": 15,
      "outputs": [
        {
          "output_type": "stream",
          "name": "stdout",
          "text": [
            "[[446597     15      5]\n",
            " [204134      5      3]\n",
            " [ 25623      6      4]\n",
            " ...\n",
            " [ 52088     60      5]\n",
            " [128811     15      4]\n",
            " [370915      5      4]]\n"
          ]
        }
      ]
    },
    {
      "cell_type": "code",
      "source": [
        "#Задача 8\n",
        "ingr_1_min = a_ld[:, 2] / a_ld[: ,1]\n",
        "print(np.max(ingr_1_min))"
      ],
      "metadata": {
        "id": "Ma5ACAOHW6Ui",
        "colab": {
          "base_uri": "https://localhost:8080/"
        },
        "outputId": "0dfaeb27-d5e6-43a8-9e51-8b7eadb08da2"
      },
      "execution_count": 18,
      "outputs": [
        {
          "output_type": "stream",
          "name": "stdout",
          "text": [
            "24.0\n"
          ]
        }
      ]
    },
    {
      "cell_type": "code",
      "source": [
        "#Задача 9\n",
        "sort0 = np.array(sorted(a_ld, key=lambda a_entry: a_entry[1], reverse=True))\n",
        "print(np.mean(sort0[:100, 2]))"
      ],
      "metadata": {
        "id": "pBes88rPW6lO",
        "colab": {
          "base_uri": "https://localhost:8080/"
        },
        "outputId": "2e34a909-2de8-4c29-e2b8-4cdc9276f9d3"
      },
      "execution_count": 19,
      "outputs": [
        {
          "output_type": "stream",
          "name": "stdout",
          "text": [
            "10.03\n"
          ]
        }
      ]
    },
    {
      "cell_type": "code",
      "source": [
        "#Задача 10\n",
        "rand = np.random.randint(len(a_ld), size=10)\n",
        "print(a_ld[rand, :])"
      ],
      "metadata": {
        "id": "S0iKFAMSW602",
        "colab": {
          "base_uri": "https://localhost:8080/"
        },
        "outputId": "a54ae836-fc66-40e4-d92e-656e7a494931"
      },
      "execution_count": 20,
      "outputs": [
        {
          "output_type": "stream",
          "name": "stdout",
          "text": [
            "[[ 82617     55      7]\n",
            " [181276      5      6]\n",
            " [ 82779     65     15]\n",
            " [429453     65     15]\n",
            " [457963     20      6]\n",
            " [155200     65     16]\n",
            " [150909      5      4]\n",
            " [302110     50     12]\n",
            " [433269     50      8]\n",
            " [334658     65      8]]\n"
          ]
        }
      ]
    },
    {
      "cell_type": "code",
      "source": [
        "#Задача 11\n",
        "print(len(a_ld[np.where(a_ld[:, 2] < np.mean(a_ld[:, 2]))]) / len(a_ld) * 100)"
      ],
      "metadata": {
        "id": "IsIqEE5hW7Ei",
        "colab": {
          "base_uri": "https://localhost:8080/"
        },
        "outputId": "61355af5-f89c-41d7-e069-b8bb02992c97"
      },
      "execution_count": 21,
      "outputs": [
        {
          "output_type": "stream",
          "name": "stdout",
          "text": [
            "58.802\n"
          ]
        }
      ]
    },
    {
      "cell_type": "code",
      "source": [
        "#Задача 12\n",
        "prosto = np.c_[a_ld, np.zeros(len(a_ld)).astype(int)]\n",
        "prosto[:, 3] = np.where((a_ld[:, 1] <= 20) & (a_ld[:, 2] <= 5), 1, 0)\n",
        "prosto"
      ],
      "metadata": {
        "id": "JEF790n2W7cr",
        "colab": {
          "base_uri": "https://localhost:8080/"
        },
        "outputId": "30b1749e-431f-44ff-c498-e57f496302fb"
      },
      "execution_count": 22,
      "outputs": [
        {
          "output_type": "execute_result",
          "data": {
            "text/plain": [
              "array([[127244,     60,     16,      0],\n",
              "       [ 23891,     25,      7,      0],\n",
              "       [ 94746,     10,      6,      0],\n",
              "       ...,\n",
              "       [498432,     65,     15,      0],\n",
              "       [370915,      5,      4,      1],\n",
              "       [ 81993,     65,     14,      0]])"
            ]
          },
          "metadata": {},
          "execution_count": 22
        }
      ]
    },
    {
      "cell_type": "code",
      "source": [
        "#Задача 13\n",
        "print(len(prosto[np.where(prosto[:, 3] == 1)]) / len(prosto) * 100)"
      ],
      "metadata": {
        "id": "9mjyRyhmW7tk",
        "colab": {
          "base_uri": "https://localhost:8080/"
        },
        "outputId": "e73f4eaa-f6de-4e79-8da3-21a080abd9b8"
      },
      "execution_count": 23,
      "outputs": [
        {
          "output_type": "stream",
          "name": "stdout",
          "text": [
            "9.552\n"
          ]
        }
      ]
    },
    {
      "cell_type": "code",
      "source": [
        "#Задача 14\n",
        "time = min(len(a[np.where((a[:,1]<=10))]), len(a[np.where((a[:,1]>10) & (a[:,1]<20))]), len(a[np.where((a[:,1]>=20))]))\n",
        "a = np.arange(time*3*3).reshape(3,time,3)\n",
        "a[0,:,:] = a[np.where((a[:,1]<=10))][:time]\n",
        "a[1,:,:] = a[np.where((a[:,1]>10) & (a[:,1]<20))][:time]\n",
        "a[2,:,:] = a[np.where((a[:,1]>=20))][:time]\n",
        "print(a)\n"
      ],
      "metadata": {
        "id": "onorWClpW8Gq",
        "colab": {
          "base_uri": "https://localhost:8080/",
          "height": 235
        },
        "outputId": "da633ff7-0c46-4358-fab8-9100da976a66"
      },
      "execution_count": 24,
      "outputs": [
        {
          "output_type": "error",
          "ename": "IndexError",
          "evalue": "ignored",
          "traceback": [
            "\u001b[0;31m---------------------------------------------------------------------------\u001b[0m",
            "\u001b[0;31mIndexError\u001b[0m                                Traceback (most recent call last)",
            "\u001b[0;32m<ipython-input-24-91196f1e3bc1>\u001b[0m in \u001b[0;36m<module>\u001b[0;34m\u001b[0m\n\u001b[1;32m      1\u001b[0m \u001b[0;31m#Задача 14\u001b[0m\u001b[0;34m\u001b[0m\u001b[0;34m\u001b[0m\u001b[0;34m\u001b[0m\u001b[0m\n\u001b[0;32m----> 2\u001b[0;31m \u001b[0mtime\u001b[0m \u001b[0;34m=\u001b[0m \u001b[0mmin\u001b[0m\u001b[0;34m(\u001b[0m\u001b[0mlen\u001b[0m\u001b[0;34m(\u001b[0m\u001b[0ma\u001b[0m\u001b[0;34m[\u001b[0m\u001b[0mnp\u001b[0m\u001b[0;34m.\u001b[0m\u001b[0mwhere\u001b[0m\u001b[0;34m(\u001b[0m\u001b[0;34m(\u001b[0m\u001b[0ma\u001b[0m\u001b[0;34m[\u001b[0m\u001b[0;34m:\u001b[0m\u001b[0;34m,\u001b[0m\u001b[0;36m1\u001b[0m\u001b[0;34m]\u001b[0m\u001b[0;34m<=\u001b[0m\u001b[0;36m10\u001b[0m\u001b[0;34m)\u001b[0m\u001b[0;34m)\u001b[0m\u001b[0;34m]\u001b[0m\u001b[0;34m)\u001b[0m\u001b[0;34m,\u001b[0m \u001b[0mlen\u001b[0m\u001b[0;34m(\u001b[0m\u001b[0ma\u001b[0m\u001b[0;34m[\u001b[0m\u001b[0mnp\u001b[0m\u001b[0;34m.\u001b[0m\u001b[0mwhere\u001b[0m\u001b[0;34m(\u001b[0m\u001b[0;34m(\u001b[0m\u001b[0ma\u001b[0m\u001b[0;34m[\u001b[0m\u001b[0;34m:\u001b[0m\u001b[0;34m,\u001b[0m\u001b[0;36m1\u001b[0m\u001b[0;34m]\u001b[0m\u001b[0;34m>\u001b[0m\u001b[0;36m10\u001b[0m\u001b[0;34m)\u001b[0m \u001b[0;34m&\u001b[0m \u001b[0;34m(\u001b[0m\u001b[0ma\u001b[0m\u001b[0;34m[\u001b[0m\u001b[0;34m:\u001b[0m\u001b[0;34m,\u001b[0m\u001b[0;36m1\u001b[0m\u001b[0;34m]\u001b[0m\u001b[0;34m<\u001b[0m\u001b[0;36m20\u001b[0m\u001b[0;34m)\u001b[0m\u001b[0;34m)\u001b[0m\u001b[0;34m]\u001b[0m\u001b[0;34m)\u001b[0m\u001b[0;34m,\u001b[0m \u001b[0mlen\u001b[0m\u001b[0;34m(\u001b[0m\u001b[0ma\u001b[0m\u001b[0;34m[\u001b[0m\u001b[0mnp\u001b[0m\u001b[0;34m.\u001b[0m\u001b[0mwhere\u001b[0m\u001b[0;34m(\u001b[0m\u001b[0;34m(\u001b[0m\u001b[0ma\u001b[0m\u001b[0;34m[\u001b[0m\u001b[0;34m:\u001b[0m\u001b[0;34m,\u001b[0m\u001b[0;36m1\u001b[0m\u001b[0;34m]\u001b[0m\u001b[0;34m>=\u001b[0m\u001b[0;36m20\u001b[0m\u001b[0;34m)\u001b[0m\u001b[0;34m)\u001b[0m\u001b[0;34m]\u001b[0m\u001b[0;34m)\u001b[0m\u001b[0;34m)\u001b[0m\u001b[0;34m\u001b[0m\u001b[0;34m\u001b[0m\u001b[0m\n\u001b[0m\u001b[1;32m      3\u001b[0m \u001b[0ma\u001b[0m \u001b[0;34m=\u001b[0m \u001b[0mnp\u001b[0m\u001b[0;34m.\u001b[0m\u001b[0marange\u001b[0m\u001b[0;34m(\u001b[0m\u001b[0mtime\u001b[0m\u001b[0;34m*\u001b[0m\u001b[0;36m3\u001b[0m\u001b[0;34m*\u001b[0m\u001b[0;36m3\u001b[0m\u001b[0;34m)\u001b[0m\u001b[0;34m.\u001b[0m\u001b[0mreshape\u001b[0m\u001b[0;34m(\u001b[0m\u001b[0;36m3\u001b[0m\u001b[0;34m,\u001b[0m\u001b[0mtime\u001b[0m\u001b[0;34m,\u001b[0m\u001b[0;36m3\u001b[0m\u001b[0;34m)\u001b[0m\u001b[0;34m\u001b[0m\u001b[0;34m\u001b[0m\u001b[0m\n\u001b[1;32m      4\u001b[0m \u001b[0ma\u001b[0m\u001b[0;34m[\u001b[0m\u001b[0;36m0\u001b[0m\u001b[0;34m,\u001b[0m\u001b[0;34m:\u001b[0m\u001b[0;34m,\u001b[0m\u001b[0;34m:\u001b[0m\u001b[0;34m]\u001b[0m \u001b[0;34m=\u001b[0m \u001b[0ma\u001b[0m\u001b[0;34m[\u001b[0m\u001b[0mnp\u001b[0m\u001b[0;34m.\u001b[0m\u001b[0mwhere\u001b[0m\u001b[0;34m(\u001b[0m\u001b[0;34m(\u001b[0m\u001b[0ma\u001b[0m\u001b[0;34m[\u001b[0m\u001b[0;34m:\u001b[0m\u001b[0;34m,\u001b[0m\u001b[0;36m1\u001b[0m\u001b[0;34m]\u001b[0m\u001b[0;34m<=\u001b[0m\u001b[0;36m10\u001b[0m\u001b[0;34m)\u001b[0m\u001b[0;34m)\u001b[0m\u001b[0;34m]\u001b[0m\u001b[0;34m[\u001b[0m\u001b[0;34m:\u001b[0m\u001b[0mtime\u001b[0m\u001b[0;34m]\u001b[0m\u001b[0;34m\u001b[0m\u001b[0;34m\u001b[0m\u001b[0m\n\u001b[1;32m      5\u001b[0m \u001b[0ma\u001b[0m\u001b[0;34m[\u001b[0m\u001b[0;36m1\u001b[0m\u001b[0;34m,\u001b[0m\u001b[0;34m:\u001b[0m\u001b[0;34m,\u001b[0m\u001b[0;34m:\u001b[0m\u001b[0;34m]\u001b[0m \u001b[0;34m=\u001b[0m \u001b[0ma\u001b[0m\u001b[0;34m[\u001b[0m\u001b[0mnp\u001b[0m\u001b[0;34m.\u001b[0m\u001b[0mwhere\u001b[0m\u001b[0;34m(\u001b[0m\u001b[0;34m(\u001b[0m\u001b[0ma\u001b[0m\u001b[0;34m[\u001b[0m\u001b[0;34m:\u001b[0m\u001b[0;34m,\u001b[0m\u001b[0;36m1\u001b[0m\u001b[0;34m]\u001b[0m\u001b[0;34m>\u001b[0m\u001b[0;36m10\u001b[0m\u001b[0;34m)\u001b[0m \u001b[0;34m&\u001b[0m \u001b[0;34m(\u001b[0m\u001b[0ma\u001b[0m\u001b[0;34m[\u001b[0m\u001b[0;34m:\u001b[0m\u001b[0;34m,\u001b[0m\u001b[0;36m1\u001b[0m\u001b[0;34m]\u001b[0m\u001b[0;34m<\u001b[0m\u001b[0;36m20\u001b[0m\u001b[0;34m)\u001b[0m\u001b[0;34m)\u001b[0m\u001b[0;34m]\u001b[0m\u001b[0;34m[\u001b[0m\u001b[0;34m:\u001b[0m\u001b[0mtime\u001b[0m\u001b[0;34m]\u001b[0m\u001b[0;34m\u001b[0m\u001b[0;34m\u001b[0m\u001b[0m\n",
            "\u001b[0;31mIndexError\u001b[0m: index 1 is out of bounds for axis 1 with size 0"
          ]
        }
      ]
    }
  ],
  "metadata": {
    "kernelspec": {
      "display_name": "Python 3 (ipykernel)",
      "language": "python",
      "name": "python3"
    },
    "language_info": {
      "codemirror_mode": {
        "name": "ipython",
        "version": 3
      },
      "file_extension": ".py",
      "mimetype": "text/x-python",
      "name": "python",
      "nbconvert_exporter": "python",
      "pygments_lexer": "ipython3",
      "version": "3.9.12"
    },
    "colab": {
      "provenance": []
    }
  },
  "nbformat": 4,
  "nbformat_minor": 0
}