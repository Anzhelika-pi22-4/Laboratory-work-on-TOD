{
  "cells": [
    {
      "cell_type": "markdown",
      "metadata": {
        "id": "OWHcZLmaqsZG"
      },
      "source": [
        "# Работа со строковыми значениями"
      ]
    },
    {
      "cell_type": "markdown",
      "metadata": {
        "id": "1IoKOCw2qsZM"
      },
      "source": [
        "__Автор задач: Блохин Н.В. (NVBlokhin@fa.ru)__\n",
        "\n",
        "Материалы:\n",
        "* Макрушин С.В. Лекция \"Работа со строковыми значениям\"\n",
        "* https://pyformat.info/\n",
        "* https://docs.python.org/3/library/re.html\n",
        "    * https://docs.python.org/3/library/re.html#flags\n",
        "    * https://docs.python.org/3/library/re.html#functions\n",
        "* https://pythonru.com/primery/primery-primeneniya-regulyarnyh-vyrazheniy-v-python\n",
        "* https://kanoki.org/2019/11/12/how-to-use-regex-in-pandas/\n",
        "* https://realpython.com/nltk-nlp-python/"
      ]
    },
    {
      "cell_type": "markdown",
      "metadata": {
        "id": "8CQbnkVGqsZP"
      },
      "source": [
        "## Задачи для совместного разбора"
      ]
    },
    {
      "cell_type": "markdown",
      "metadata": {
        "id": "UQI4w8hcqsZQ"
      },
      "source": [
        "1. Вывести на экран данные из словаря `obj` построчно в виде `k = v`, задав формат таким образом, чтобы знак равенства оказался на одной и той же позиции во всех строках. Строковые литералы обернуть в кавычки."
      ]
    },
    {
      "cell_type": "code",
      "execution_count": null,
      "metadata": {
        "colab": {
          "base_uri": "https://localhost:8080/"
        },
        "id": "VUjXMC6oqsZR",
        "outputId": "090de92b-9ece-4255-fcfd-13ec4fa7143b"
      },
      "outputs": [
        {
          "output_type": "stream",
          "name": "stdout",
          "text": [
            "home_page  = \"https://github.com/pypa/sampleproject\"\n",
            "keywords   = \"sample setuptools development\"\n",
            "license    = \"MIT\"\n"
          ]
        }
      ],
      "source": [
        "import re\n",
        "obj = {\n",
        "    \"home_page\": \"https://github.com/pypa/sampleproject\",\n",
        "    \"keywords\": \"sample setuptools development\",\n",
        "    \"license\": \"MIT\",\n",
        "}\n",
        "\n",
        "ind = len(max(obj.keys(), key=len))\n",
        "for k, v in obj.items():\n",
        "  print(k + f'{{:>{ind - len(k) + 3}}} '.format('=') + f'\"{v}\"')"
      ]
    },
    {
      "cell_type": "markdown",
      "metadata": {
        "id": "8avzvMEOqsZV"
      },
      "source": [
        "2. Написать регулярное выражение,которое позволит найти номера групп студентов."
      ]
    },
    {
      "cell_type": "code",
      "execution_count": null,
      "metadata": {
        "colab": {
          "base_uri": "https://localhost:8080/",
          "height": 143
        },
        "id": "-FnzUvIBqsZW",
        "outputId": "beaac76d-9e7b-4042-f1ad-f3780076c873"
      },
      "outputs": [
        {
          "output_type": "execute_result",
          "data": {
            "text/plain": [
              "                Name Number\n",
              "0  Евгения гр.ПМ19-1   19-1\n",
              "1       Илья пм 20-4   20-4\n",
              "2          Анна 20-3   20-3"
            ],
            "text/html": [
              "\n",
              "  <div id=\"df-8f511d43-48ed-48d9-ade4-60fca98e0ba3\">\n",
              "    <div class=\"colab-df-container\">\n",
              "      <div>\n",
              "<style scoped>\n",
              "    .dataframe tbody tr th:only-of-type {\n",
              "        vertical-align: middle;\n",
              "    }\n",
              "\n",
              "    .dataframe tbody tr th {\n",
              "        vertical-align: top;\n",
              "    }\n",
              "\n",
              "    .dataframe thead th {\n",
              "        text-align: right;\n",
              "    }\n",
              "</style>\n",
              "<table border=\"1\" class=\"dataframe\">\n",
              "  <thead>\n",
              "    <tr style=\"text-align: right;\">\n",
              "      <th></th>\n",
              "      <th>Name</th>\n",
              "      <th>Number</th>\n",
              "    </tr>\n",
              "  </thead>\n",
              "  <tbody>\n",
              "    <tr>\n",
              "      <th>0</th>\n",
              "      <td>Евгения гр.ПМ19-1</td>\n",
              "      <td>19-1</td>\n",
              "    </tr>\n",
              "    <tr>\n",
              "      <th>1</th>\n",
              "      <td>Илья пм 20-4</td>\n",
              "      <td>20-4</td>\n",
              "    </tr>\n",
              "    <tr>\n",
              "      <th>2</th>\n",
              "      <td>Анна 20-3</td>\n",
              "      <td>20-3</td>\n",
              "    </tr>\n",
              "  </tbody>\n",
              "</table>\n",
              "</div>\n",
              "      <button class=\"colab-df-convert\" onclick=\"convertToInteractive('df-8f511d43-48ed-48d9-ade4-60fca98e0ba3')\"\n",
              "              title=\"Convert this dataframe to an interactive table.\"\n",
              "              style=\"display:none;\">\n",
              "        \n",
              "  <svg xmlns=\"http://www.w3.org/2000/svg\" height=\"24px\"viewBox=\"0 0 24 24\"\n",
              "       width=\"24px\">\n",
              "    <path d=\"M0 0h24v24H0V0z\" fill=\"none\"/>\n",
              "    <path d=\"M18.56 5.44l.94 2.06.94-2.06 2.06-.94-2.06-.94-.94-2.06-.94 2.06-2.06.94zm-11 1L8.5 8.5l.94-2.06 2.06-.94-2.06-.94L8.5 2.5l-.94 2.06-2.06.94zm10 10l.94 2.06.94-2.06 2.06-.94-2.06-.94-.94-2.06-.94 2.06-2.06.94z\"/><path d=\"M17.41 7.96l-1.37-1.37c-.4-.4-.92-.59-1.43-.59-.52 0-1.04.2-1.43.59L10.3 9.45l-7.72 7.72c-.78.78-.78 2.05 0 2.83L4 21.41c.39.39.9.59 1.41.59.51 0 1.02-.2 1.41-.59l7.78-7.78 2.81-2.81c.8-.78.8-2.07 0-2.86zM5.41 20L4 18.59l7.72-7.72 1.47 1.35L5.41 20z\"/>\n",
              "  </svg>\n",
              "      </button>\n",
              "      \n",
              "  <style>\n",
              "    .colab-df-container {\n",
              "      display:flex;\n",
              "      flex-wrap:wrap;\n",
              "      gap: 12px;\n",
              "    }\n",
              "\n",
              "    .colab-df-convert {\n",
              "      background-color: #E8F0FE;\n",
              "      border: none;\n",
              "      border-radius: 50%;\n",
              "      cursor: pointer;\n",
              "      display: none;\n",
              "      fill: #1967D2;\n",
              "      height: 32px;\n",
              "      padding: 0 0 0 0;\n",
              "      width: 32px;\n",
              "    }\n",
              "\n",
              "    .colab-df-convert:hover {\n",
              "      background-color: #E2EBFA;\n",
              "      box-shadow: 0px 1px 2px rgba(60, 64, 67, 0.3), 0px 1px 3px 1px rgba(60, 64, 67, 0.15);\n",
              "      fill: #174EA6;\n",
              "    }\n",
              "\n",
              "    [theme=dark] .colab-df-convert {\n",
              "      background-color: #3B4455;\n",
              "      fill: #D2E3FC;\n",
              "    }\n",
              "\n",
              "    [theme=dark] .colab-df-convert:hover {\n",
              "      background-color: #434B5C;\n",
              "      box-shadow: 0px 1px 3px 1px rgba(0, 0, 0, 0.15);\n",
              "      filter: drop-shadow(0px 1px 2px rgba(0, 0, 0, 0.3));\n",
              "      fill: #FFFFFF;\n",
              "    }\n",
              "  </style>\n",
              "\n",
              "      <script>\n",
              "        const buttonEl =\n",
              "          document.querySelector('#df-8f511d43-48ed-48d9-ade4-60fca98e0ba3 button.colab-df-convert');\n",
              "        buttonEl.style.display =\n",
              "          google.colab.kernel.accessAllowed ? 'block' : 'none';\n",
              "\n",
              "        async function convertToInteractive(key) {\n",
              "          const element = document.querySelector('#df-8f511d43-48ed-48d9-ade4-60fca98e0ba3');\n",
              "          const dataTable =\n",
              "            await google.colab.kernel.invokeFunction('convertToInteractive',\n",
              "                                                     [key], {});\n",
              "          if (!dataTable) return;\n",
              "\n",
              "          const docLinkHtml = 'Like what you see? Visit the ' +\n",
              "            '<a target=\"_blank\" href=https://colab.research.google.com/notebooks/data_table.ipynb>data table notebook</a>'\n",
              "            + ' to learn more about interactive tables.';\n",
              "          element.innerHTML = '';\n",
              "          dataTable['output_type'] = 'display_data';\n",
              "          await google.colab.output.renderOutput(dataTable, element);\n",
              "          const docLink = document.createElement('div');\n",
              "          docLink.innerHTML = docLinkHtml;\n",
              "          element.appendChild(docLink);\n",
              "        }\n",
              "      </script>\n",
              "    </div>\n",
              "  </div>\n",
              "  "
            ]
          },
          "metadata": {},
          "execution_count": 2
        }
      ],
      "source": [
        "import re\n",
        "import pandas as pd\n",
        "\n",
        "obj = pd.Series([\"Евгения гр.ПМ19-1\", \"Илья пм 20-4\", \"Анна 20-3\"])\n",
        "tab = pd.DataFrame(obj, columns = ['Name'])\n",
        "tab['Number'] = tab.Name.apply(lambda x: re.search(\"\\d{2}-\\d\", x).group())\n",
        "tab"
      ]
    },
    {
      "cell_type": "markdown",
      "metadata": {
        "id": "l04VWUWGqsZZ"
      },
      "source": [
        "3. Разбейте текст формулировки задачи 2 на слова."
      ]
    },
    {
      "cell_type": "code",
      "source": [
        "import re\n",
        "text = 'Написать регулярное выражение,которое позволит найти номера групп студентов'\n",
        "re.findall('\\w+', text)"
      ],
      "metadata": {
        "colab": {
          "base_uri": "https://localhost:8080/"
        },
        "id": "_eWDJ0Wj2Joq",
        "outputId": "b5b19dcc-2b68-4a4d-c1d4-6cda5039b11b"
      },
      "execution_count": null,
      "outputs": [
        {
          "output_type": "execute_result",
          "data": {
            "text/plain": [
              "['Написать',\n",
              " 'регулярное',\n",
              " 'выражение',\n",
              " 'которое',\n",
              " 'позволит',\n",
              " 'найти',\n",
              " 'номера',\n",
              " 'групп',\n",
              " 'студентов']"
            ]
          },
          "metadata": {},
          "execution_count": 1
        }
      ]
    },
    {
      "cell_type": "markdown",
      "metadata": {
        "id": "htjRbyALqsZa"
      },
      "source": [
        "## Лабораторная работа 6"
      ]
    },
    {
      "cell_type": "markdown",
      "metadata": {
        "id": "pd6oef_bqsZc"
      },
      "source": [
        "### Форматирование строк"
      ]
    },
    {
      "cell_type": "markdown",
      "metadata": {
        "id": "8CBbdKptqsZd"
      },
      "source": [
        "1\\. Загрузите данные из файла `recipes_sample.csv` (__ЛР2__) в виде `pd.DataFrame` `recipes` При помощи форматирования строк выведите информацию об id рецепта и времени выполнения 5 случайных рецептов в виде таблицы следующего вида:\n",
        "\n",
        "    \n",
        "    |      id      |  minutes  |\n",
        "    |--------------------------|\n",
        "    |    61178     |    65     |\n",
        "    |    202352    |    80     |\n",
        "    |    364322    |    150    |\n",
        "    |    26177     |    20     |\n",
        "    |    224785    |    35     |\n",
        "    \n",
        "Обратите внимание, что ширина столбцов заранее неизвестна и должна рассчитываться динамически, в зависимости от тех данных, которые были выбраны. "
      ]
    },
    {
      "cell_type": "code",
      "source": [
        "recipes = pd.read_csv('recipes_sample.csv')\n",
        "recipes_random = recipes.sample(n=5)[['id', 'minutes']]\n",
        "len_id = len(str(max(recipes_random.id))) + 5\n",
        "len_min = len(str(max(recipes_random.minutes))) + 5\n",
        "print(f\"|{'id':^{len_id}}\" + f\"|{'minutes':^{len_min}}|\")\n",
        "print(\"|\" + \"-\"*(len_id + len_min+1) + \"|\")\n",
        "for i in recipes_random.index:\n",
        "  print(f\"|{recipes_random.loc[i, 'id']:^{len_id}}|\" + f\"{recipes_random.loc[i, 'minutes']:^{len_min}}|\")"
      ],
      "metadata": {
        "colab": {
          "base_uri": "https://localhost:8080/"
        },
        "id": "9Xj5Nu3iFgsj",
        "outputId": "79bcfdae-bbab-4127-d184-1bab2aa32fb0"
      },
      "execution_count": null,
      "outputs": [
        {
          "output_type": "stream",
          "name": "stdout",
          "text": [
            "|    id     |minutes|\n",
            "|-------------------|\n",
            "|   82065   |  26   |\n",
            "|  125967   |   6   |\n",
            "|  482038   |  60   |\n",
            "|   53203   |  40   |\n",
            "|   32059   |  35   |\n"
          ]
        }
      ]
    },
    {
      "cell_type": "markdown",
      "metadata": {
        "id": "IomBmGiqqsZf"
      },
      "source": [
        "2\\. Напишите функцию `show_info`, которая по данным о рецепте создает строку (в смысле объекта python) с описанием следующего вида:\n",
        "\n",
        "```\n",
        "\"Название Из Нескольких Слов\"\n",
        "\n",
        "1. Шаг 1\n",
        "2. Шаг 2\n",
        "----------\n",
        "Автор: contributor_id\n",
        "Среднее время приготовления: minutes минут\n",
        "```\n",
        "\n",
        "    \n",
        "Данные для создания строки получите из файлов `recipes_sample.csv` (__ЛР2__) и `steps_sample.xml` (__ЛР3__). \n",
        "Вызовите данную функцию для рецепта с id `170895` и выведите (через `print`) полученную строку на экран."
      ]
    },
    {
      "cell_type": "code",
      "source": [
        "from bs4 import BeautifulSoup\n",
        "with open('/content/steps_sample.xml') as f:\n",
        "  fail = f.read()\n",
        "sts = BeautifulSoup(fail, 'xml')\n",
        "recipes.loc[recipes.id==170895]"
      ],
      "metadata": {
        "colab": {
          "base_uri": "https://localhost:8080/",
          "height": 81
        },
        "id": "ySsGbKBYLdGl",
        "outputId": "9b8f6e9b-561e-4d19-bc65-967fdb1b9014"
      },
      "execution_count": null,
      "outputs": [
        {
          "output_type": "execute_result",
          "data": {
            "text/plain": [
              "                                         name      id  minutes  \\\n",
              "15754  leeks and parsnips  sauteed or creamed  170895       27   \n",
              "\n",
              "       contributor_id   submitted  n_steps  \\\n",
              "15754            8377  2006-05-31     21.0   \n",
              "\n",
              "                                             description  n_ingredients  \n",
              "15754  this is good sauteed only or creamed. very eas...            9.0  "
            ],
            "text/html": [
              "\n",
              "  <div id=\"df-5f1a0bc8-bb88-47c2-9f27-79dec8a3f136\">\n",
              "    <div class=\"colab-df-container\">\n",
              "      <div>\n",
              "<style scoped>\n",
              "    .dataframe tbody tr th:only-of-type {\n",
              "        vertical-align: middle;\n",
              "    }\n",
              "\n",
              "    .dataframe tbody tr th {\n",
              "        vertical-align: top;\n",
              "    }\n",
              "\n",
              "    .dataframe thead th {\n",
              "        text-align: right;\n",
              "    }\n",
              "</style>\n",
              "<table border=\"1\" class=\"dataframe\">\n",
              "  <thead>\n",
              "    <tr style=\"text-align: right;\">\n",
              "      <th></th>\n",
              "      <th>name</th>\n",
              "      <th>id</th>\n",
              "      <th>minutes</th>\n",
              "      <th>contributor_id</th>\n",
              "      <th>submitted</th>\n",
              "      <th>n_steps</th>\n",
              "      <th>description</th>\n",
              "      <th>n_ingredients</th>\n",
              "    </tr>\n",
              "  </thead>\n",
              "  <tbody>\n",
              "    <tr>\n",
              "      <th>15754</th>\n",
              "      <td>leeks and parsnips  sauteed or creamed</td>\n",
              "      <td>170895</td>\n",
              "      <td>27</td>\n",
              "      <td>8377</td>\n",
              "      <td>2006-05-31</td>\n",
              "      <td>21.0</td>\n",
              "      <td>this is good sauteed only or creamed. very eas...</td>\n",
              "      <td>9.0</td>\n",
              "    </tr>\n",
              "  </tbody>\n",
              "</table>\n",
              "</div>\n",
              "      <button class=\"colab-df-convert\" onclick=\"convertToInteractive('df-5f1a0bc8-bb88-47c2-9f27-79dec8a3f136')\"\n",
              "              title=\"Convert this dataframe to an interactive table.\"\n",
              "              style=\"display:none;\">\n",
              "        \n",
              "  <svg xmlns=\"http://www.w3.org/2000/svg\" height=\"24px\"viewBox=\"0 0 24 24\"\n",
              "       width=\"24px\">\n",
              "    <path d=\"M0 0h24v24H0V0z\" fill=\"none\"/>\n",
              "    <path d=\"M18.56 5.44l.94 2.06.94-2.06 2.06-.94-2.06-.94-.94-2.06-.94 2.06-2.06.94zm-11 1L8.5 8.5l.94-2.06 2.06-.94-2.06-.94L8.5 2.5l-.94 2.06-2.06.94zm10 10l.94 2.06.94-2.06 2.06-.94-2.06-.94-.94-2.06-.94 2.06-2.06.94z\"/><path d=\"M17.41 7.96l-1.37-1.37c-.4-.4-.92-.59-1.43-.59-.52 0-1.04.2-1.43.59L10.3 9.45l-7.72 7.72c-.78.78-.78 2.05 0 2.83L4 21.41c.39.39.9.59 1.41.59.51 0 1.02-.2 1.41-.59l7.78-7.78 2.81-2.81c.8-.78.8-2.07 0-2.86zM5.41 20L4 18.59l7.72-7.72 1.47 1.35L5.41 20z\"/>\n",
              "  </svg>\n",
              "      </button>\n",
              "      \n",
              "  <style>\n",
              "    .colab-df-container {\n",
              "      display:flex;\n",
              "      flex-wrap:wrap;\n",
              "      gap: 12px;\n",
              "    }\n",
              "\n",
              "    .colab-df-convert {\n",
              "      background-color: #E8F0FE;\n",
              "      border: none;\n",
              "      border-radius: 50%;\n",
              "      cursor: pointer;\n",
              "      display: none;\n",
              "      fill: #1967D2;\n",
              "      height: 32px;\n",
              "      padding: 0 0 0 0;\n",
              "      width: 32px;\n",
              "    }\n",
              "\n",
              "    .colab-df-convert:hover {\n",
              "      background-color: #E2EBFA;\n",
              "      box-shadow: 0px 1px 2px rgba(60, 64, 67, 0.3), 0px 1px 3px 1px rgba(60, 64, 67, 0.15);\n",
              "      fill: #174EA6;\n",
              "    }\n",
              "\n",
              "    [theme=dark] .colab-df-convert {\n",
              "      background-color: #3B4455;\n",
              "      fill: #D2E3FC;\n",
              "    }\n",
              "\n",
              "    [theme=dark] .colab-df-convert:hover {\n",
              "      background-color: #434B5C;\n",
              "      box-shadow: 0px 1px 3px 1px rgba(0, 0, 0, 0.15);\n",
              "      filter: drop-shadow(0px 1px 2px rgba(0, 0, 0, 0.3));\n",
              "      fill: #FFFFFF;\n",
              "    }\n",
              "  </style>\n",
              "\n",
              "      <script>\n",
              "        const buttonEl =\n",
              "          document.querySelector('#df-5f1a0bc8-bb88-47c2-9f27-79dec8a3f136 button.colab-df-convert');\n",
              "        buttonEl.style.display =\n",
              "          google.colab.kernel.accessAllowed ? 'block' : 'none';\n",
              "\n",
              "        async function convertToInteractive(key) {\n",
              "          const element = document.querySelector('#df-5f1a0bc8-bb88-47c2-9f27-79dec8a3f136');\n",
              "          const dataTable =\n",
              "            await google.colab.kernel.invokeFunction('convertToInteractive',\n",
              "                                                     [key], {});\n",
              "          if (!dataTable) return;\n",
              "\n",
              "          const docLinkHtml = 'Like what you see? Visit the ' +\n",
              "            '<a target=\"_blank\" href=https://colab.research.google.com/notebooks/data_table.ipynb>data table notebook</a>'\n",
              "            + ' to learn more about interactive tables.';\n",
              "          element.innerHTML = '';\n",
              "          dataTable['output_type'] = 'display_data';\n",
              "          await google.colab.output.renderOutput(dataTable, element);\n",
              "          const docLink = document.createElement('div');\n",
              "          docLink.innerHTML = docLinkHtml;\n",
              "          element.appendChild(docLink);\n",
              "        }\n",
              "      </script>\n",
              "    </div>\n",
              "  </div>\n",
              "  "
            ]
          },
          "metadata": {},
          "execution_count": 13
        }
      ]
    },
    {
      "cell_type": "code",
      "source": [
        "r = sts.find_all('recipe')\n",
        "def show_info(id):\n",
        "  cur = recipes.loc[recipes.id==170895]\n",
        "  for recipe in r:\n",
        "    if recipe.find('id').text == str(id):\n",
        "      steps = recipe.find_all('step')\n",
        "      n = 1\n",
        "      l_s = 0\n",
        "      print(f\"'{cur.name.values[0]}'\")\n",
        "      for step in steps:\n",
        "        print(f\"{n}. \" + step.text)\n",
        "        n += 1\n",
        "        l_s = max(l_s, len(step.text))\n",
        "  print('-' * (l_s+3))\n",
        "  print(f\"Автор: {cur.contributor_id.values[0]}\")\n",
        "  print(f\"Среднее время приготовления: {cur.minutes.values[0]} минут\")\n",
        "\n",
        "show_info(170895)"
      ],
      "metadata": {
        "colab": {
          "base_uri": "https://localhost:8080/"
        },
        "id": "Z9tgDOA3NYJi",
        "outputId": "30381178-3ccf-4868-a91b-53381201ea51"
      },
      "execution_count": null,
      "outputs": [
        {
          "output_type": "stream",
          "name": "stdout",
          "text": [
            "'leeks and parsnips  sauteed or creamed'\n",
            "1. clean the leeks and discard the dark green portions\n",
            "2. cut the leeks lengthwise then into one-inch pieces\n",
            "3. melt the butter in a medium skillet , med\n",
            "4. heat\n",
            "5. add the garlic and fry 'til fragrant\n",
            "6. add leeks and fry until the leeks are tender , about 6-minutes\n",
            "7. meanwhile , peel and chunk the parsnips into one-inch pieces\n",
            "8. place in a steaming basket and steam 'til they are as tender as you prefer\n",
            "9. i like them fork-tender\n",
            "10. drain parsnips and add to the skillet with the leeks\n",
            "11. add salt and pepper\n",
            "12. gently sautee together for 5-minutes\n",
            "13. at this point you can serve it , or continue on and cream it:\n",
            "14. in a jar with a screw top , add the half-n-half and arrowroot\n",
            "15. shake 'til blended\n",
            "16. turn heat to low under the leeks and parsnips\n",
            "17. pour in the arrowroot mixture , stirring gently as you pour\n",
            "18. if too thick , gradually add the water\n",
            "19. let simmer for a couple of minutes\n",
            "20. taste to adjust seasoning , probably an additional 1 / 2 teaspoon salt\n",
            "21. serve warm\n",
            "-----------------------------------------------------------------------------\n",
            "Автор: 8377\n",
            "Среднее время приготовления: 27 минут\n"
          ]
        }
      ]
    },
    {
      "cell_type": "markdown",
      "metadata": {
        "id": "ukakMsY5qsZi"
      },
      "source": [
        "## Работа с регулярными выражениями"
      ]
    },
    {
      "cell_type": "markdown",
      "metadata": {
        "id": "7VjFcfzFqsZj"
      },
      "source": [
        "3\\. Напишите регулярное выражение, которое ищет следующий паттерн в строке: число (1 цифра или более), затем пробел, затем слова: hour или hours или minute или minutes. Произведите поиск по данному регулярному выражению в каждом шаге рецепта с id 25082. Выведите на экран все непустые результаты, найденные по данному шаблону."
      ]
    },
    {
      "cell_type": "code",
      "source": [
        "recipes1 = sts.find_all('recipe')\n",
        "def pattern(id):\n",
        "  pattern = '\\d+\\s(?:hour|hours|minute|minutes)'\n",
        "  for recipe in recipes1:\n",
        "    if int(recipe.find('id').text) == id:\n",
        "      steps = recipe.find_all('step')\n",
        "      for step in steps:\n",
        "        t = re.findall(pattern, step.text)\n",
        "        if t:\n",
        "          for i in t:\n",
        "            print(i)\n",
        "pattern(25082)"
      ],
      "metadata": {
        "colab": {
          "base_uri": "https://localhost:8080/"
        },
        "id": "o9JSjrI2QrYk",
        "outputId": "8d2a8b72-2253-43d3-a34c-d1945b296207"
      },
      "execution_count": null,
      "outputs": [
        {
          "output_type": "stream",
          "name": "stdout",
          "text": [
            "20 minute\n",
            "10 minute\n",
            "2 hour\n",
            "10 minute\n",
            "20 minute\n",
            "30 minute\n"
          ]
        }
      ]
    },
    {
      "cell_type": "markdown",
      "metadata": {
        "id": "Rbdx4JbRqsZk"
      },
      "source": [
        "4\\. Напишите регулярное выражение, которое ищет шаблон вида \"this..., but\" _в начале строки_ . Между словом \"this\" и частью \", but\" может находиться произвольное число букв, цифр, знаков подчеркивания и пробелов. Никаких других символов вместо многоточия быть не может. Пробел между запятой и словом \"but\" может присутствовать или отсутствовать.\n",
        "\n",
        "Используя строковые методы `pd.Series`, выясните, для каких рецептов данный шаблон содержится в тексте описания. Выведите на экран количество таких рецептов и 3 примера подходящих описаний (текст описания должен быть виден на экране полностью)."
      ]
    },
    {
      "cell_type": "code",
      "source": [
        "recipes = pd.read_csv('/content/recipes_sample.csv')"
      ],
      "metadata": {
        "id": "3OBr6IPEV3VC"
      },
      "execution_count": null,
      "outputs": []
    },
    {
      "cell_type": "code",
      "source": [
        "patt = 'this[\\w\\s]*,(?:but| but)'\n",
        "r = recipes.loc[recipes.description.str.match(patt)==True]\n",
        "print(f\"Количество рецептов: {r.shape[0]}\\n\")\n",
        "for rec in range(1,4):\n",
        "  print(f\"Рецепт №{rec}: {r.description.values[rec]}\")"
      ],
      "metadata": {
        "colab": {
          "base_uri": "https://localhost:8080/"
        },
        "id": "YXOU1XhJS_Ik",
        "outputId": "84f402a4-4181-4f49-8893-42fe7d60d402"
      },
      "execution_count": null,
      "outputs": [
        {
          "output_type": "stream",
          "name": "stdout",
          "text": [
            "Количество рецептов: 134\n",
            "\n",
            "Рецепт №1: this was adapted from a recipe i found on the net, but i added julienne onion to the peppers.  this is a meal in itself, or you could have a small slice with a meat dish.  for those that like to have brunch, it's a bit different to your traditional quiche recipes.  if you love cheese, you could add 1/2 cup of your favorite to the egg mixture, then pour over peppers.\n",
            "Рецепт №2: this is kind of similar to some of the other versions out there, but it is the best and easiest i have found\n",
            "Рецепт №3: this is a moist, buttery apple cake.  the dough is best made the night before, put in the fridge and then filled and baked the next morning.\n"
          ]
        }
      ]
    },
    {
      "cell_type": "markdown",
      "metadata": {
        "id": "Ljqyuu7bqsZl"
      },
      "source": [
        "5\\. В текстах шагов рецептов обыкновенные дроби имеют вид \"a / b\". Используя регулярные выражения, уберите в тексте шагов рецепта с id 72367 пробелы до и после символа дроби. Выведите на экран шаги этого рецепта после их изменения."
      ]
    },
    {
      "cell_type": "code",
      "source": [
        "r = sts.find_all('recipe')\n",
        "def pattern2(id):\n",
        "  pattern = '\\d+ \\/ \\d+'\n",
        "  for recipe in r:\n",
        "    if int(recipe.find('id').text) == id:\n",
        "      steps = recipe.find_all('step')\n",
        "      for step in steps:\n",
        "        step = step.text\n",
        "        rez = re.search(pattern, step)\n",
        "        if rez:\n",
        "          rez2 = rez.group().split(' / ')\n",
        "          step = re.sub(pattern, f\"{rez2[0]}/{rez2[1]}\", step)\n",
        "        print(step)\n",
        "\n",
        "pattern2(72367)"
      ],
      "metadata": {
        "colab": {
          "base_uri": "https://localhost:8080/"
        },
        "id": "d3Lx15kLXAY8",
        "outputId": "adec8087-5539-4eb1-d0eb-72591538c857"
      },
      "execution_count": null,
      "outputs": [
        {
          "output_type": "stream",
          "name": "stdout",
          "text": [
            "mix butter , flour , 1/3 c\n",
            "sugar and 1-1/4 t\n",
            "vanilla\n",
            "press into greased 9\" springform pan\n",
            "mix cream cheese , 1/4 c\n",
            "sugar , eggs and 1/2 t\n",
            "vanilla beating until fluffy\n",
            "pour over dough\n",
            "combine apples , 1/3 c\n",
            "sugar and cinnamon\n",
            "arrange on top of cream cheese mixture and sprinkle with almonds\n",
            "bake at 350 for 45-55 minutes , or until tester comes out clean\n"
          ]
        }
      ]
    },
    {
      "cell_type": "markdown",
      "metadata": {
        "id": "SM6Bcv3vqsZm"
      },
      "source": [
        "### Сегментация текста"
      ]
    },
    {
      "cell_type": "markdown",
      "metadata": {
        "id": "j9CD8AzOqsZn"
      },
      "source": [
        "6\\. Разбейте тексты шагов рецептов на слова при помощи пакета `nltk`. Посчитайте и выведите на экран кол-во уникальных слов среди всех рецептов. Словом называется любая последовательность алфавитных символов (для проверки можно воспользоваться `str.isalpha`). При подсчете количества уникальных слов не учитывайте регистр."
      ]
    },
    {
      "cell_type": "code",
      "source": [
        "pip install nltk"
      ],
      "metadata": {
        "colab": {
          "base_uri": "https://localhost:8080/"
        },
        "id": "RwDJDZ7Gc8DK",
        "outputId": "a93a2125-07a8-4143-86ac-b82164ba2b53"
      },
      "execution_count": null,
      "outputs": [
        {
          "output_type": "stream",
          "name": "stdout",
          "text": [
            "Looking in indexes: https://pypi.org/simple, https://us-python.pkg.dev/colab-wheels/public/simple/\n",
            "Requirement already satisfied: nltk in /usr/local/lib/python3.9/dist-packages (3.8.1)\n",
            "Requirement already satisfied: regex>=2021.8.3 in /usr/local/lib/python3.9/dist-packages (from nltk) (2022.10.31)\n",
            "Requirement already satisfied: tqdm in /usr/local/lib/python3.9/dist-packages (from nltk) (4.65.0)\n",
            "Requirement already satisfied: joblib in /usr/local/lib/python3.9/dist-packages (from nltk) (1.1.1)\n",
            "Requirement already satisfied: click in /usr/local/lib/python3.9/dist-packages (from nltk) (8.1.3)\n"
          ]
        }
      ]
    },
    {
      "cell_type": "code",
      "source": [
        "import nltk\n",
        "nltk.download('punkt')"
      ],
      "metadata": {
        "colab": {
          "base_uri": "https://localhost:8080/"
        },
        "id": "s83NSTEIdJM1",
        "outputId": "ba7640d2-2b40-4d7c-bb75-098eec6a44a4"
      },
      "execution_count": null,
      "outputs": [
        {
          "output_type": "stream",
          "name": "stderr",
          "text": [
            "[nltk_data] Downloading package punkt to /root/nltk_data...\n",
            "[nltk_data]   Unzipping tokenizers/punkt.zip.\n"
          ]
        },
        {
          "output_type": "execute_result",
          "data": {
            "text/plain": [
              "True"
            ]
          },
          "metadata": {},
          "execution_count": 19
        }
      ]
    },
    {
      "cell_type": "code",
      "source": [
        "r = sts.find_all('recipe')\n",
        "def wordF():\n",
        "  words = set()\n",
        "  for recipe in r:\n",
        "    steps = recipe.find_all('step')\n",
        "    for step in steps:\n",
        "      step = step.text\n",
        "      words.update(nltk.word_tokenize(step))\n",
        "  words2 = set()\n",
        "  for word in words:\n",
        "    if word.isalpha():\n",
        "      words2.add(word)\n",
        "  return words2\n",
        "  \n",
        "print(len(wordF()))"
      ],
      "metadata": {
        "colab": {
          "base_uri": "https://localhost:8080/"
        },
        "id": "Cgk051Z1d9OK",
        "outputId": "66a242d7-5e31-4d58-9581-32794a97cf59"
      },
      "execution_count": null,
      "outputs": [
        {
          "output_type": "stream",
          "name": "stdout",
          "text": [
            "14926\n"
          ]
        }
      ]
    },
    {
      "cell_type": "markdown",
      "metadata": {
        "id": "NpFI5YBTqsZo"
      },
      "source": [
        "7\\. Разбейте описания рецептов из `recipes` на предложения при помощи пакета `nltk`. Найдите 5 самых длинных описаний (по количеству _предложений_) рецептов в датасете и выведите строки фрейма, соответствующие этим рецептами, в порядке убывания длины."
      ]
    },
    {
      "cell_type": "code",
      "source": [
        "def sentence():\n",
        "  ids = [i for i in recipes.id.values[:5]]\n",
        "  l_sent = [0 for i in range(5)]\n",
        "  for recipe in r:\n",
        "    id = recipe.find('id').text\n",
        "    steps = recipe.find_all('step')\n",
        "    l_s = 0\n",
        "    for step in steps:\n",
        "      step = step.text\n",
        "      l_s = len(nltk.sent_tokenize(step))\n",
        "    for i in range(len(l_sent)):\n",
        "      if l_s > l_sent[i]:\n",
        "        ids[i] = int(id)\n",
        "        l_sent[i] = l_s\n",
        "        break\n",
        "  return ids, l_sent\n",
        "\n",
        "ids, l_sent = sentence()\n",
        "recipes.loc[recipes.id.isin(ids)]"
      ],
      "metadata": {
        "colab": {
          "base_uri": "https://localhost:8080/",
          "height": 337
        },
        "id": "lHCiNFYStymr",
        "outputId": "cf8ce64c-06e6-44cd-ae7d-daf0d5732568"
      },
      "execution_count": null,
      "outputs": [
        {
          "output_type": "execute_result",
          "data": {
            "text/plain": [
              "                                                 name      id  minutes  \\\n",
              "10677                fabulous honey   mustard chicken  115105       50   \n",
              "13440                healthy breakfast bars    my way  385874       90   \n",
              "13822  home style beef n noodles w mushrooms   onions  138239      135   \n",
              "14329        hungarian style cabbage rolls soooo good  151074      380   \n",
              "21718              pumpkin nuggets with vanilla sauce  391047       30   \n",
              "\n",
              "       contributor_id   submitted  n_steps  \\\n",
              "10677          205967  2005-04-02      9.0   \n",
              "13440          381180  2009-08-17     10.0   \n",
              "13822          113941  2005-09-21      NaN   \n",
              "14329           76503  2006-01-09     12.0   \n",
              "21718         1375473  2009-09-21      NaN   \n",
              "\n",
              "                                             description  n_ingredients  \n",
              "10677  beautiful on a warm summers day served with a ...            NaN  \n",
              "13440  a moist (adult) breakfast bar chocked full of ...           13.0  \n",
              "13822  wish you could smell my kitchen right now, i'm...           14.0  \n",
              "14329  these are some of the best cabbage rolls i hav...            6.0  \n",
              "21718  i think few adore sugar and pumpkin as much as...           13.0  "
            ],
            "text/html": [
              "\n",
              "  <div id=\"df-4ba8460f-704e-46f0-8cee-fa4da56ede56\">\n",
              "    <div class=\"colab-df-container\">\n",
              "      <div>\n",
              "<style scoped>\n",
              "    .dataframe tbody tr th:only-of-type {\n",
              "        vertical-align: middle;\n",
              "    }\n",
              "\n",
              "    .dataframe tbody tr th {\n",
              "        vertical-align: top;\n",
              "    }\n",
              "\n",
              "    .dataframe thead th {\n",
              "        text-align: right;\n",
              "    }\n",
              "</style>\n",
              "<table border=\"1\" class=\"dataframe\">\n",
              "  <thead>\n",
              "    <tr style=\"text-align: right;\">\n",
              "      <th></th>\n",
              "      <th>name</th>\n",
              "      <th>id</th>\n",
              "      <th>minutes</th>\n",
              "      <th>contributor_id</th>\n",
              "      <th>submitted</th>\n",
              "      <th>n_steps</th>\n",
              "      <th>description</th>\n",
              "      <th>n_ingredients</th>\n",
              "    </tr>\n",
              "  </thead>\n",
              "  <tbody>\n",
              "    <tr>\n",
              "      <th>10677</th>\n",
              "      <td>fabulous honey   mustard chicken</td>\n",
              "      <td>115105</td>\n",
              "      <td>50</td>\n",
              "      <td>205967</td>\n",
              "      <td>2005-04-02</td>\n",
              "      <td>9.0</td>\n",
              "      <td>beautiful on a warm summers day served with a ...</td>\n",
              "      <td>NaN</td>\n",
              "    </tr>\n",
              "    <tr>\n",
              "      <th>13440</th>\n",
              "      <td>healthy breakfast bars    my way</td>\n",
              "      <td>385874</td>\n",
              "      <td>90</td>\n",
              "      <td>381180</td>\n",
              "      <td>2009-08-17</td>\n",
              "      <td>10.0</td>\n",
              "      <td>a moist (adult) breakfast bar chocked full of ...</td>\n",
              "      <td>13.0</td>\n",
              "    </tr>\n",
              "    <tr>\n",
              "      <th>13822</th>\n",
              "      <td>home style beef n noodles w mushrooms   onions</td>\n",
              "      <td>138239</td>\n",
              "      <td>135</td>\n",
              "      <td>113941</td>\n",
              "      <td>2005-09-21</td>\n",
              "      <td>NaN</td>\n",
              "      <td>wish you could smell my kitchen right now, i'm...</td>\n",
              "      <td>14.0</td>\n",
              "    </tr>\n",
              "    <tr>\n",
              "      <th>14329</th>\n",
              "      <td>hungarian style cabbage rolls soooo good</td>\n",
              "      <td>151074</td>\n",
              "      <td>380</td>\n",
              "      <td>76503</td>\n",
              "      <td>2006-01-09</td>\n",
              "      <td>12.0</td>\n",
              "      <td>these are some of the best cabbage rolls i hav...</td>\n",
              "      <td>6.0</td>\n",
              "    </tr>\n",
              "    <tr>\n",
              "      <th>21718</th>\n",
              "      <td>pumpkin nuggets with vanilla sauce</td>\n",
              "      <td>391047</td>\n",
              "      <td>30</td>\n",
              "      <td>1375473</td>\n",
              "      <td>2009-09-21</td>\n",
              "      <td>NaN</td>\n",
              "      <td>i think few adore sugar and pumpkin as much as...</td>\n",
              "      <td>13.0</td>\n",
              "    </tr>\n",
              "  </tbody>\n",
              "</table>\n",
              "</div>\n",
              "      <button class=\"colab-df-convert\" onclick=\"convertToInteractive('df-4ba8460f-704e-46f0-8cee-fa4da56ede56')\"\n",
              "              title=\"Convert this dataframe to an interactive table.\"\n",
              "              style=\"display:none;\">\n",
              "        \n",
              "  <svg xmlns=\"http://www.w3.org/2000/svg\" height=\"24px\"viewBox=\"0 0 24 24\"\n",
              "       width=\"24px\">\n",
              "    <path d=\"M0 0h24v24H0V0z\" fill=\"none\"/>\n",
              "    <path d=\"M18.56 5.44l.94 2.06.94-2.06 2.06-.94-2.06-.94-.94-2.06-.94 2.06-2.06.94zm-11 1L8.5 8.5l.94-2.06 2.06-.94-2.06-.94L8.5 2.5l-.94 2.06-2.06.94zm10 10l.94 2.06.94-2.06 2.06-.94-2.06-.94-.94-2.06-.94 2.06-2.06.94z\"/><path d=\"M17.41 7.96l-1.37-1.37c-.4-.4-.92-.59-1.43-.59-.52 0-1.04.2-1.43.59L10.3 9.45l-7.72 7.72c-.78.78-.78 2.05 0 2.83L4 21.41c.39.39.9.59 1.41.59.51 0 1.02-.2 1.41-.59l7.78-7.78 2.81-2.81c.8-.78.8-2.07 0-2.86zM5.41 20L4 18.59l7.72-7.72 1.47 1.35L5.41 20z\"/>\n",
              "  </svg>\n",
              "      </button>\n",
              "      \n",
              "  <style>\n",
              "    .colab-df-container {\n",
              "      display:flex;\n",
              "      flex-wrap:wrap;\n",
              "      gap: 12px;\n",
              "    }\n",
              "\n",
              "    .colab-df-convert {\n",
              "      background-color: #E8F0FE;\n",
              "      border: none;\n",
              "      border-radius: 50%;\n",
              "      cursor: pointer;\n",
              "      display: none;\n",
              "      fill: #1967D2;\n",
              "      height: 32px;\n",
              "      padding: 0 0 0 0;\n",
              "      width: 32px;\n",
              "    }\n",
              "\n",
              "    .colab-df-convert:hover {\n",
              "      background-color: #E2EBFA;\n",
              "      box-shadow: 0px 1px 2px rgba(60, 64, 67, 0.3), 0px 1px 3px 1px rgba(60, 64, 67, 0.15);\n",
              "      fill: #174EA6;\n",
              "    }\n",
              "\n",
              "    [theme=dark] .colab-df-convert {\n",
              "      background-color: #3B4455;\n",
              "      fill: #D2E3FC;\n",
              "    }\n",
              "\n",
              "    [theme=dark] .colab-df-convert:hover {\n",
              "      background-color: #434B5C;\n",
              "      box-shadow: 0px 1px 3px 1px rgba(0, 0, 0, 0.15);\n",
              "      filter: drop-shadow(0px 1px 2px rgba(0, 0, 0, 0.3));\n",
              "      fill: #FFFFFF;\n",
              "    }\n",
              "  </style>\n",
              "\n",
              "      <script>\n",
              "        const buttonEl =\n",
              "          document.querySelector('#df-4ba8460f-704e-46f0-8cee-fa4da56ede56 button.colab-df-convert');\n",
              "        buttonEl.style.display =\n",
              "          google.colab.kernel.accessAllowed ? 'block' : 'none';\n",
              "\n",
              "        async function convertToInteractive(key) {\n",
              "          const element = document.querySelector('#df-4ba8460f-704e-46f0-8cee-fa4da56ede56');\n",
              "          const dataTable =\n",
              "            await google.colab.kernel.invokeFunction('convertToInteractive',\n",
              "                                                     [key], {});\n",
              "          if (!dataTable) return;\n",
              "\n",
              "          const docLinkHtml = 'Like what you see? Visit the ' +\n",
              "            '<a target=\"_blank\" href=https://colab.research.google.com/notebooks/data_table.ipynb>data table notebook</a>'\n",
              "            + ' to learn more about interactive tables.';\n",
              "          element.innerHTML = '';\n",
              "          dataTable['output_type'] = 'display_data';\n",
              "          await google.colab.output.renderOutput(dataTable, element);\n",
              "          const docLink = document.createElement('div');\n",
              "          docLink.innerHTML = docLinkHtml;\n",
              "          element.appendChild(docLink);\n",
              "        }\n",
              "      </script>\n",
              "    </div>\n",
              "  </div>\n",
              "  "
            ]
          },
          "metadata": {},
          "execution_count": 27
        }
      ]
    }
  ],
  "metadata": {
    "kernelspec": {
      "display_name": "Python 3 (ipykernel)",
      "language": "python",
      "name": "python3"
    },
    "language_info": {
      "codemirror_mode": {
        "name": "ipython",
        "version": 3
      },
      "file_extension": ".py",
      "mimetype": "text/x-python",
      "name": "python",
      "nbconvert_exporter": "python",
      "pygments_lexer": "ipython3",
      "version": "3.9.7"
    },
    "colab": {
      "provenance": []
    }
  },
  "nbformat": 4,
  "nbformat_minor": 0
}