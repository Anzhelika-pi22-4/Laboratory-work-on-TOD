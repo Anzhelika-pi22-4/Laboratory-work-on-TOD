{
  "cells": [
    {
      "cell_type": "markdown",
      "metadata": {
        "id": "0oP6lM1JGTce"
      },
      "source": [
        "## Оптимизация выполнения кода, векторизация, Numba"
      ]
    },
    {
      "cell_type": "markdown",
      "metadata": {
        "id": "qQne0aDZGTcj"
      },
      "source": [
        "Материалы:\n",
        "* Макрушин С.В. Лекция 3: Оптимизация выполнения кода, векторизация, Numba\n",
        "* IPython Cookbook, Second Edition (2018), глава 4\n",
        "* https://numba.pydata.org/numba-doc/latest/user/5minguide.html"
      ]
    },
    {
      "cell_type": "markdown",
      "metadata": {
        "id": "STBv29rDGTcl"
      },
      "source": [
        "## Задачи для совместного разбора"
      ]
    },
    {
      "cell_type": "code",
      "source": [
        "from numba import njit\n",
        "import numpy as np\n",
        "import pandas as pd"
      ],
      "metadata": {
        "id": "11zW5-7aRij-"
      },
      "execution_count": 3,
      "outputs": []
    },
    {
      "cell_type": "markdown",
      "metadata": {
        "id": "btjJGrXIGTcm"
      },
      "source": [
        "1. Сгенерируйте массив `A` из `N=1млн` случайных целых чисел на отрезке от 0 до 1000. Пусть `B[i] = A[i] + 100`. Посчитайте среднее значение массива `B`."
      ]
    },
    {
      "cell_type": "code",
      "execution_count": null,
      "metadata": {
        "id": "1Y0JZg0hGTcn",
        "colab": {
          "base_uri": "https://localhost:8080/"
        },
        "outputId": "15d605a7-1664-4675-9270-e1426db3df6b"
      },
      "outputs": [
        {
          "output_type": "execute_result",
          "data": {
            "text/plain": [
              "array([416, 449, 678, ..., 331, 507, 144])"
            ]
          },
          "metadata": {},
          "execution_count": 2
        }
      ],
      "source": [
        "A = np.random.randint(1,1000, 10**6)\n",
        "A"
      ]
    },
    {
      "cell_type": "code",
      "source": [
        "def f(A):\n",
        "    sums, cnt = 0, 0\n",
        "    for a in A:\n",
        "        b = a + 100\n",
        "        sums += b\n",
        "        cnt += 1\n",
        "    return sums/cnt\n",
        "f(A)"
      ],
      "metadata": {
        "colab": {
          "base_uri": "https://localhost:8080/"
        },
        "id": "HTbwLmc5Ry76",
        "outputId": "598a2947-306a-4c3f-9816-248e5f4051a0"
      },
      "execution_count": null,
      "outputs": [
        {
          "output_type": "execute_result",
          "data": {
            "text/plain": [
              "600.015137"
            ]
          },
          "metadata": {},
          "execution_count": 3
        }
      ]
    },
    {
      "cell_type": "code",
      "source": [
        "%timeit f(A)"
      ],
      "metadata": {
        "colab": {
          "base_uri": "https://localhost:8080/"
        },
        "id": "XN2VBKEwSQ8W",
        "outputId": "3266b521-e708-404a-df1c-ba523a315464"
      },
      "execution_count": null,
      "outputs": [
        {
          "output_type": "stream",
          "name": "stdout",
          "text": [
            "366 ms ± 105 ms per loop (mean ± std. dev. of 7 runs, 1 loop each)\n"
          ]
        }
      ]
    },
    {
      "cell_type": "code",
      "source": [
        "def f1(A):\n",
        "    sums, cnt = 0, 0\n",
        "    for a in A:\n",
        "        sums +=a\n",
        "        cnt += 1\n",
        "    sums += cnt*100\n",
        "    return sums/cnt\n",
        "f1(A)"
      ],
      "metadata": {
        "colab": {
          "base_uri": "https://localhost:8080/"
        },
        "id": "I76tfAduSj0U",
        "outputId": "3bb6d54b-4bce-456b-da66-8e519af54b0d"
      },
      "execution_count": null,
      "outputs": [
        {
          "output_type": "execute_result",
          "data": {
            "text/plain": [
              "600.015137"
            ]
          },
          "metadata": {},
          "execution_count": 6
        }
      ]
    },
    {
      "cell_type": "code",
      "source": [
        "%timeit f1(A)"
      ],
      "metadata": {
        "colab": {
          "base_uri": "https://localhost:8080/"
        },
        "id": "mMGFgupfSv5J",
        "outputId": "5fb6f456-09a9-4963-f02c-497231a61e05"
      },
      "execution_count": null,
      "outputs": [
        {
          "output_type": "stream",
          "name": "stdout",
          "text": [
            "184 ms ± 51.5 ms per loop (mean ± std. dev. of 7 runs, 10 loops each)\n"
          ]
        }
      ]
    },
    {
      "cell_type": "markdown",
      "metadata": {
        "id": "tEErVSa6GTco"
      },
      "source": [
        "2. Создайте таблицу 2млн строк и с 4 столбцами, заполненными случайными числами. Добавьте столбец `key`, которые содержит элементы из множества английских букв. Выберите из таблицы подмножество строк, для которых в столбце `key` указаны первые 5 английских букв."
      ]
    },
    {
      "cell_type": "code",
      "source": [
        "import string\n",
        "import random\n",
        "tab = pd.DataFrame(np.random.randint ( 0 , 1000 ,size=( 2000000 , 4 )), columns=list('ABCD'))\n",
        "randomLetter = string.ascii_letters.lower()\n",
        "tab['key'] = [random.choice(randomLetter) for i in range(2_000_000)] \n",
        "tab"
      ],
      "metadata": {
        "colab": {
          "base_uri": "https://localhost:8080/",
          "height": 424
        },
        "id": "uOaetpcITS5u",
        "outputId": "794403b6-d935-4714-bd7c-d688eff6f0c5"
      },
      "execution_count": null,
      "outputs": [
        {
          "output_type": "execute_result",
          "data": {
            "text/plain": [
              "           A    B    C    D key\n",
              "0        149  159  551  255   g\n",
              "1        251  844  615  293   b\n",
              "2        841  549  400  891   w\n",
              "3        743  474  886  791   d\n",
              "4        592  428  732  811   u\n",
              "...      ...  ...  ...  ...  ..\n",
              "1999995    0  861  528  794   f\n",
              "1999996  180  886  569  803   a\n",
              "1999997  693  871  993  124   b\n",
              "1999998  797  667  197   34   q\n",
              "1999999  547  818  736   77   t\n",
              "\n",
              "[2000000 rows x 5 columns]"
            ],
            "text/html": [
              "\n",
              "  <div id=\"df-f38e6352-d4ea-43e8-be3e-a81f10777221\">\n",
              "    <div class=\"colab-df-container\">\n",
              "      <div>\n",
              "<style scoped>\n",
              "    .dataframe tbody tr th:only-of-type {\n",
              "        vertical-align: middle;\n",
              "    }\n",
              "\n",
              "    .dataframe tbody tr th {\n",
              "        vertical-align: top;\n",
              "    }\n",
              "\n",
              "    .dataframe thead th {\n",
              "        text-align: right;\n",
              "    }\n",
              "</style>\n",
              "<table border=\"1\" class=\"dataframe\">\n",
              "  <thead>\n",
              "    <tr style=\"text-align: right;\">\n",
              "      <th></th>\n",
              "      <th>A</th>\n",
              "      <th>B</th>\n",
              "      <th>C</th>\n",
              "      <th>D</th>\n",
              "      <th>key</th>\n",
              "    </tr>\n",
              "  </thead>\n",
              "  <tbody>\n",
              "    <tr>\n",
              "      <th>0</th>\n",
              "      <td>149</td>\n",
              "      <td>159</td>\n",
              "      <td>551</td>\n",
              "      <td>255</td>\n",
              "      <td>g</td>\n",
              "    </tr>\n",
              "    <tr>\n",
              "      <th>1</th>\n",
              "      <td>251</td>\n",
              "      <td>844</td>\n",
              "      <td>615</td>\n",
              "      <td>293</td>\n",
              "      <td>b</td>\n",
              "    </tr>\n",
              "    <tr>\n",
              "      <th>2</th>\n",
              "      <td>841</td>\n",
              "      <td>549</td>\n",
              "      <td>400</td>\n",
              "      <td>891</td>\n",
              "      <td>w</td>\n",
              "    </tr>\n",
              "    <tr>\n",
              "      <th>3</th>\n",
              "      <td>743</td>\n",
              "      <td>474</td>\n",
              "      <td>886</td>\n",
              "      <td>791</td>\n",
              "      <td>d</td>\n",
              "    </tr>\n",
              "    <tr>\n",
              "      <th>4</th>\n",
              "      <td>592</td>\n",
              "      <td>428</td>\n",
              "      <td>732</td>\n",
              "      <td>811</td>\n",
              "      <td>u</td>\n",
              "    </tr>\n",
              "    <tr>\n",
              "      <th>...</th>\n",
              "      <td>...</td>\n",
              "      <td>...</td>\n",
              "      <td>...</td>\n",
              "      <td>...</td>\n",
              "      <td>...</td>\n",
              "    </tr>\n",
              "    <tr>\n",
              "      <th>1999995</th>\n",
              "      <td>0</td>\n",
              "      <td>861</td>\n",
              "      <td>528</td>\n",
              "      <td>794</td>\n",
              "      <td>f</td>\n",
              "    </tr>\n",
              "    <tr>\n",
              "      <th>1999996</th>\n",
              "      <td>180</td>\n",
              "      <td>886</td>\n",
              "      <td>569</td>\n",
              "      <td>803</td>\n",
              "      <td>a</td>\n",
              "    </tr>\n",
              "    <tr>\n",
              "      <th>1999997</th>\n",
              "      <td>693</td>\n",
              "      <td>871</td>\n",
              "      <td>993</td>\n",
              "      <td>124</td>\n",
              "      <td>b</td>\n",
              "    </tr>\n",
              "    <tr>\n",
              "      <th>1999998</th>\n",
              "      <td>797</td>\n",
              "      <td>667</td>\n",
              "      <td>197</td>\n",
              "      <td>34</td>\n",
              "      <td>q</td>\n",
              "    </tr>\n",
              "    <tr>\n",
              "      <th>1999999</th>\n",
              "      <td>547</td>\n",
              "      <td>818</td>\n",
              "      <td>736</td>\n",
              "      <td>77</td>\n",
              "      <td>t</td>\n",
              "    </tr>\n",
              "  </tbody>\n",
              "</table>\n",
              "<p>2000000 rows × 5 columns</p>\n",
              "</div>\n",
              "      <button class=\"colab-df-convert\" onclick=\"convertToInteractive('df-f38e6352-d4ea-43e8-be3e-a81f10777221')\"\n",
              "              title=\"Convert this dataframe to an interactive table.\"\n",
              "              style=\"display:none;\">\n",
              "        \n",
              "  <svg xmlns=\"http://www.w3.org/2000/svg\" height=\"24px\"viewBox=\"0 0 24 24\"\n",
              "       width=\"24px\">\n",
              "    <path d=\"M0 0h24v24H0V0z\" fill=\"none\"/>\n",
              "    <path d=\"M18.56 5.44l.94 2.06.94-2.06 2.06-.94-2.06-.94-.94-2.06-.94 2.06-2.06.94zm-11 1L8.5 8.5l.94-2.06 2.06-.94-2.06-.94L8.5 2.5l-.94 2.06-2.06.94zm10 10l.94 2.06.94-2.06 2.06-.94-2.06-.94-.94-2.06-.94 2.06-2.06.94z\"/><path d=\"M17.41 7.96l-1.37-1.37c-.4-.4-.92-.59-1.43-.59-.52 0-1.04.2-1.43.59L10.3 9.45l-7.72 7.72c-.78.78-.78 2.05 0 2.83L4 21.41c.39.39.9.59 1.41.59.51 0 1.02-.2 1.41-.59l7.78-7.78 2.81-2.81c.8-.78.8-2.07 0-2.86zM5.41 20L4 18.59l7.72-7.72 1.47 1.35L5.41 20z\"/>\n",
              "  </svg>\n",
              "      </button>\n",
              "      \n",
              "  <style>\n",
              "    .colab-df-container {\n",
              "      display:flex;\n",
              "      flex-wrap:wrap;\n",
              "      gap: 12px;\n",
              "    }\n",
              "\n",
              "    .colab-df-convert {\n",
              "      background-color: #E8F0FE;\n",
              "      border: none;\n",
              "      border-radius: 50%;\n",
              "      cursor: pointer;\n",
              "      display: none;\n",
              "      fill: #1967D2;\n",
              "      height: 32px;\n",
              "      padding: 0 0 0 0;\n",
              "      width: 32px;\n",
              "    }\n",
              "\n",
              "    .colab-df-convert:hover {\n",
              "      background-color: #E2EBFA;\n",
              "      box-shadow: 0px 1px 2px rgba(60, 64, 67, 0.3), 0px 1px 3px 1px rgba(60, 64, 67, 0.15);\n",
              "      fill: #174EA6;\n",
              "    }\n",
              "\n",
              "    [theme=dark] .colab-df-convert {\n",
              "      background-color: #3B4455;\n",
              "      fill: #D2E3FC;\n",
              "    }\n",
              "\n",
              "    [theme=dark] .colab-df-convert:hover {\n",
              "      background-color: #434B5C;\n",
              "      box-shadow: 0px 1px 3px 1px rgba(0, 0, 0, 0.15);\n",
              "      filter: drop-shadow(0px 1px 2px rgba(0, 0, 0, 0.3));\n",
              "      fill: #FFFFFF;\n",
              "    }\n",
              "  </style>\n",
              "\n",
              "      <script>\n",
              "        const buttonEl =\n",
              "          document.querySelector('#df-f38e6352-d4ea-43e8-be3e-a81f10777221 button.colab-df-convert');\n",
              "        buttonEl.style.display =\n",
              "          google.colab.kernel.accessAllowed ? 'block' : 'none';\n",
              "\n",
              "        async function convertToInteractive(key) {\n",
              "          const element = document.querySelector('#df-f38e6352-d4ea-43e8-be3e-a81f10777221');\n",
              "          const dataTable =\n",
              "            await google.colab.kernel.invokeFunction('convertToInteractive',\n",
              "                                                     [key], {});\n",
              "          if (!dataTable) return;\n",
              "\n",
              "          const docLinkHtml = 'Like what you see? Visit the ' +\n",
              "            '<a target=\"_blank\" href=https://colab.research.google.com/notebooks/data_table.ipynb>data table notebook</a>'\n",
              "            + ' to learn more about interactive tables.';\n",
              "          element.innerHTML = '';\n",
              "          dataTable['output_type'] = 'display_data';\n",
              "          await google.colab.output.renderOutput(dataTable, element);\n",
              "          const docLink = document.createElement('div');\n",
              "          docLink.innerHTML = docLinkHtml;\n",
              "          element.appendChild(docLink);\n",
              "        }\n",
              "      </script>\n",
              "    </div>\n",
              "  </div>\n",
              "  "
            ]
          },
          "metadata": {},
          "execution_count": 16
        }
      ]
    },
    {
      "cell_type": "code",
      "source": [
        "a = ['a', 'b', 'c', 'd', 'e']\n",
        "tab[tab['key'].isin(a)]"
      ],
      "metadata": {
        "colab": {
          "base_uri": "https://localhost:8080/",
          "height": 424
        },
        "id": "9Pu03IcrUbQV",
        "outputId": "07ff24f2-9291-4959-fc12-c2952a3b0430"
      },
      "execution_count": null,
      "outputs": [
        {
          "output_type": "execute_result",
          "data": {
            "text/plain": [
              "           A    B    C    D key\n",
              "1        251  844  615  293   b\n",
              "3        743  474  886  791   d\n",
              "16       442  809  161  588   a\n",
              "18       343  142  196  981   e\n",
              "22       173  831  827  135   b\n",
              "...      ...  ...  ...  ...  ..\n",
              "1999978  136  578  162  303   c\n",
              "1999979  570  980  111  599   a\n",
              "1999981  372  532  103  268   b\n",
              "1999996  180  886  569  803   a\n",
              "1999997  693  871  993  124   b\n",
              "\n",
              "[384899 rows x 5 columns]"
            ],
            "text/html": [
              "\n",
              "  <div id=\"df-84327a96-0e52-43fc-933e-2d97db0a68af\">\n",
              "    <div class=\"colab-df-container\">\n",
              "      <div>\n",
              "<style scoped>\n",
              "    .dataframe tbody tr th:only-of-type {\n",
              "        vertical-align: middle;\n",
              "    }\n",
              "\n",
              "    .dataframe tbody tr th {\n",
              "        vertical-align: top;\n",
              "    }\n",
              "\n",
              "    .dataframe thead th {\n",
              "        text-align: right;\n",
              "    }\n",
              "</style>\n",
              "<table border=\"1\" class=\"dataframe\">\n",
              "  <thead>\n",
              "    <tr style=\"text-align: right;\">\n",
              "      <th></th>\n",
              "      <th>A</th>\n",
              "      <th>B</th>\n",
              "      <th>C</th>\n",
              "      <th>D</th>\n",
              "      <th>key</th>\n",
              "    </tr>\n",
              "  </thead>\n",
              "  <tbody>\n",
              "    <tr>\n",
              "      <th>1</th>\n",
              "      <td>251</td>\n",
              "      <td>844</td>\n",
              "      <td>615</td>\n",
              "      <td>293</td>\n",
              "      <td>b</td>\n",
              "    </tr>\n",
              "    <tr>\n",
              "      <th>3</th>\n",
              "      <td>743</td>\n",
              "      <td>474</td>\n",
              "      <td>886</td>\n",
              "      <td>791</td>\n",
              "      <td>d</td>\n",
              "    </tr>\n",
              "    <tr>\n",
              "      <th>16</th>\n",
              "      <td>442</td>\n",
              "      <td>809</td>\n",
              "      <td>161</td>\n",
              "      <td>588</td>\n",
              "      <td>a</td>\n",
              "    </tr>\n",
              "    <tr>\n",
              "      <th>18</th>\n",
              "      <td>343</td>\n",
              "      <td>142</td>\n",
              "      <td>196</td>\n",
              "      <td>981</td>\n",
              "      <td>e</td>\n",
              "    </tr>\n",
              "    <tr>\n",
              "      <th>22</th>\n",
              "      <td>173</td>\n",
              "      <td>831</td>\n",
              "      <td>827</td>\n",
              "      <td>135</td>\n",
              "      <td>b</td>\n",
              "    </tr>\n",
              "    <tr>\n",
              "      <th>...</th>\n",
              "      <td>...</td>\n",
              "      <td>...</td>\n",
              "      <td>...</td>\n",
              "      <td>...</td>\n",
              "      <td>...</td>\n",
              "    </tr>\n",
              "    <tr>\n",
              "      <th>1999978</th>\n",
              "      <td>136</td>\n",
              "      <td>578</td>\n",
              "      <td>162</td>\n",
              "      <td>303</td>\n",
              "      <td>c</td>\n",
              "    </tr>\n",
              "    <tr>\n",
              "      <th>1999979</th>\n",
              "      <td>570</td>\n",
              "      <td>980</td>\n",
              "      <td>111</td>\n",
              "      <td>599</td>\n",
              "      <td>a</td>\n",
              "    </tr>\n",
              "    <tr>\n",
              "      <th>1999981</th>\n",
              "      <td>372</td>\n",
              "      <td>532</td>\n",
              "      <td>103</td>\n",
              "      <td>268</td>\n",
              "      <td>b</td>\n",
              "    </tr>\n",
              "    <tr>\n",
              "      <th>1999996</th>\n",
              "      <td>180</td>\n",
              "      <td>886</td>\n",
              "      <td>569</td>\n",
              "      <td>803</td>\n",
              "      <td>a</td>\n",
              "    </tr>\n",
              "    <tr>\n",
              "      <th>1999997</th>\n",
              "      <td>693</td>\n",
              "      <td>871</td>\n",
              "      <td>993</td>\n",
              "      <td>124</td>\n",
              "      <td>b</td>\n",
              "    </tr>\n",
              "  </tbody>\n",
              "</table>\n",
              "<p>384899 rows × 5 columns</p>\n",
              "</div>\n",
              "      <button class=\"colab-df-convert\" onclick=\"convertToInteractive('df-84327a96-0e52-43fc-933e-2d97db0a68af')\"\n",
              "              title=\"Convert this dataframe to an interactive table.\"\n",
              "              style=\"display:none;\">\n",
              "        \n",
              "  <svg xmlns=\"http://www.w3.org/2000/svg\" height=\"24px\"viewBox=\"0 0 24 24\"\n",
              "       width=\"24px\">\n",
              "    <path d=\"M0 0h24v24H0V0z\" fill=\"none\"/>\n",
              "    <path d=\"M18.56 5.44l.94 2.06.94-2.06 2.06-.94-2.06-.94-.94-2.06-.94 2.06-2.06.94zm-11 1L8.5 8.5l.94-2.06 2.06-.94-2.06-.94L8.5 2.5l-.94 2.06-2.06.94zm10 10l.94 2.06.94-2.06 2.06-.94-2.06-.94-.94-2.06-.94 2.06-2.06.94z\"/><path d=\"M17.41 7.96l-1.37-1.37c-.4-.4-.92-.59-1.43-.59-.52 0-1.04.2-1.43.59L10.3 9.45l-7.72 7.72c-.78.78-.78 2.05 0 2.83L4 21.41c.39.39.9.59 1.41.59.51 0 1.02-.2 1.41-.59l7.78-7.78 2.81-2.81c.8-.78.8-2.07 0-2.86zM5.41 20L4 18.59l7.72-7.72 1.47 1.35L5.41 20z\"/>\n",
              "  </svg>\n",
              "      </button>\n",
              "      \n",
              "  <style>\n",
              "    .colab-df-container {\n",
              "      display:flex;\n",
              "      flex-wrap:wrap;\n",
              "      gap: 12px;\n",
              "    }\n",
              "\n",
              "    .colab-df-convert {\n",
              "      background-color: #E8F0FE;\n",
              "      border: none;\n",
              "      border-radius: 50%;\n",
              "      cursor: pointer;\n",
              "      display: none;\n",
              "      fill: #1967D2;\n",
              "      height: 32px;\n",
              "      padding: 0 0 0 0;\n",
              "      width: 32px;\n",
              "    }\n",
              "\n",
              "    .colab-df-convert:hover {\n",
              "      background-color: #E2EBFA;\n",
              "      box-shadow: 0px 1px 2px rgba(60, 64, 67, 0.3), 0px 1px 3px 1px rgba(60, 64, 67, 0.15);\n",
              "      fill: #174EA6;\n",
              "    }\n",
              "\n",
              "    [theme=dark] .colab-df-convert {\n",
              "      background-color: #3B4455;\n",
              "      fill: #D2E3FC;\n",
              "    }\n",
              "\n",
              "    [theme=dark] .colab-df-convert:hover {\n",
              "      background-color: #434B5C;\n",
              "      box-shadow: 0px 1px 3px 1px rgba(0, 0, 0, 0.15);\n",
              "      filter: drop-shadow(0px 1px 2px rgba(0, 0, 0, 0.3));\n",
              "      fill: #FFFFFF;\n",
              "    }\n",
              "  </style>\n",
              "\n",
              "      <script>\n",
              "        const buttonEl =\n",
              "          document.querySelector('#df-84327a96-0e52-43fc-933e-2d97db0a68af button.colab-df-convert');\n",
              "        buttonEl.style.display =\n",
              "          google.colab.kernel.accessAllowed ? 'block' : 'none';\n",
              "\n",
              "        async function convertToInteractive(key) {\n",
              "          const element = document.querySelector('#df-84327a96-0e52-43fc-933e-2d97db0a68af');\n",
              "          const dataTable =\n",
              "            await google.colab.kernel.invokeFunction('convertToInteractive',\n",
              "                                                     [key], {});\n",
              "          if (!dataTable) return;\n",
              "\n",
              "          const docLinkHtml = 'Like what you see? Visit the ' +\n",
              "            '<a target=\"_blank\" href=https://colab.research.google.com/notebooks/data_table.ipynb>data table notebook</a>'\n",
              "            + ' to learn more about interactive tables.';\n",
              "          element.innerHTML = '';\n",
              "          dataTable['output_type'] = 'display_data';\n",
              "          await google.colab.output.renderOutput(dataTable, element);\n",
              "          const docLink = document.createElement('div');\n",
              "          docLink.innerHTML = docLinkHtml;\n",
              "          element.appendChild(docLink);\n",
              "        }\n",
              "      </script>\n",
              "    </div>\n",
              "  </div>\n",
              "  "
            ]
          },
          "metadata": {},
          "execution_count": 21
        }
      ]
    },
    {
      "cell_type": "markdown",
      "metadata": {
        "id": "zM9bp3lPGTcp"
      },
      "source": [
        "## Лабораторная работа 3"
      ]
    },
    {
      "cell_type": "code",
      "execution_count": 1,
      "metadata": {
        "id": "ZVlUjNrZGTcq",
        "colab": {
          "base_uri": "https://localhost:8080/"
        },
        "outputId": "e5adfc4b-20c8-4bba-e8c8-cfe2f95e63a7"
      },
      "outputs": [
        {
          "output_type": "stream",
          "name": "stdout",
          "text": [
            "Looking in indexes: https://pypi.org/simple, https://us-python.pkg.dev/colab-wheels/public/simple/\n",
            "Collecting line_profiler\n",
            "  Downloading line_profiler-4.0.3-cp310-cp310-manylinux_2_17_x86_64.manylinux2014_x86_64.whl (661 kB)\n",
            "\u001b[2K     \u001b[90m━━━━━━━━━━━━━━━━━━━━━━━━━━━━━━━━━━━━━━━\u001b[0m \u001b[32m661.9/661.9 kB\u001b[0m \u001b[31m5.9 MB/s\u001b[0m eta \u001b[36m0:00:00\u001b[0m\n",
            "\u001b[?25hInstalling collected packages: line_profiler\n",
            "Successfully installed line_profiler-4.0.3\n"
          ]
        }
      ],
      "source": [
        "!pip install line_profiler"
      ]
    },
    {
      "cell_type": "code",
      "source": [
        "%load_ext line_profiler"
      ],
      "metadata": {
        "id": "_RxNLfBHS6e_"
      },
      "execution_count": 2,
      "outputs": []
    },
    {
      "cell_type": "markdown",
      "metadata": {
        "id": "5IZTteEyGTcs"
      },
      "source": [
        "1. В файлах `recipes_sample.csv` и `reviews_sample.csv` (__ЛР 2__) находится информация об рецептах блюд и отзывах на эти рецепты соответственно. Загрузите данные из файлов в виде `pd.DataFrame` с названиями `recipes` и `reviews`. Обратите внимание на корректное считывание столбца(ов) с индексами. Приведите столбцы к нужным типам.\n",
        "\n",
        "Реализуйте несколько вариантов функции подсчета среднего значения столбца `rating` из таблицы `reviews` для отзывов, оставленных в 2010 году.\n",
        "\n",
        "A. С использованием метода `DataFrame.iterrows` исходной таблицы;\n",
        "\n",
        "Б. С использованием метода `DataFrame.iterrows` таблицы, в которой сохранены только отзывы за 2010 год;\n",
        "\n",
        "В. С использованием метода `Series.mean`.\n",
        "\n",
        "Проверьте, что результаты работы всех написанных функций корректны и совпадают. Измерьте выполнения всех написанных функций.\n"
      ]
    },
    {
      "cell_type": "code",
      "source": [
        "recipes = pd.read_csv('/content/recipes_sample.csv', delimiter = ',')\n",
        "reviews = pd.read_csv('/content/reviews_sample.csv', delimiter = ',')\n",
        "reviews['date'] = pd.to_datetime(reviews['date'], format=\"%Y-%m-%d\")\n",
        "reviews.info()"
      ],
      "metadata": {
        "colab": {
          "base_uri": "https://localhost:8080/"
        },
        "id": "A4pU47XNVFCM",
        "outputId": "e9ad2f91-ebb1-4fa4-ea60-8bd276c8f5d3"
      },
      "execution_count": 5,
      "outputs": [
        {
          "output_type": "stream",
          "name": "stdout",
          "text": [
            "<class 'pandas.core.frame.DataFrame'>\n",
            "RangeIndex: 126696 entries, 0 to 126695\n",
            "Data columns (total 6 columns):\n",
            " #   Column      Non-Null Count   Dtype         \n",
            "---  ------      --------------   -----         \n",
            " 0   Unnamed: 0  126696 non-null  int64         \n",
            " 1   user_id     126696 non-null  int64         \n",
            " 2   recipe_id   126696 non-null  int64         \n",
            " 3   date        126696 non-null  datetime64[ns]\n",
            " 4   rating      126696 non-null  int64         \n",
            " 5   review      126679 non-null  object        \n",
            "dtypes: datetime64[ns](1), int64(4), object(1)\n",
            "memory usage: 5.8+ MB\n"
          ]
        }
      ]
    },
    {
      "cell_type": "code",
      "source": [
        "def r1():\n",
        "    sums = 0\n",
        "    cnt = 0\n",
        "    for i in reviews.iterrows():\n",
        "        if i[1].date.year == 2010:\n",
        "            sums += i[1].rating\n",
        "            cnt += 1\n",
        "    return sums/cnt\n",
        "r1()"
      ],
      "metadata": {
        "colab": {
          "base_uri": "https://localhost:8080/"
        },
        "id": "Wa4LtwakdDeP",
        "outputId": "835a98d5-66e9-4b9c-8b31-984436876aae"
      },
      "execution_count": null,
      "outputs": [
        {
          "output_type": "execute_result",
          "data": {
            "text/plain": [
              "4.4544402182900615"
            ]
          },
          "metadata": {},
          "execution_count": 44
        }
      ]
    },
    {
      "cell_type": "code",
      "source": [
        "%time r1()"
      ],
      "metadata": {
        "colab": {
          "base_uri": "https://localhost:8080/"
        },
        "id": "xfzhpZONdSvm",
        "outputId": "7e53b02e-a04b-423e-ccc7-0191edb4d4a9"
      },
      "execution_count": null,
      "outputs": [
        {
          "output_type": "stream",
          "name": "stdout",
          "text": [
            "CPU times: user 7.42 s, sys: 19.2 ms, total: 7.44 s\n",
            "Wall time: 7.53 s\n"
          ]
        },
        {
          "output_type": "execute_result",
          "data": {
            "text/plain": [
              "4.4544402182900615"
            ]
          },
          "metadata": {},
          "execution_count": 45
        }
      ]
    },
    {
      "cell_type": "code",
      "source": [
        "def r2():\n",
        "    sums = 0\n",
        "    cnt = 0\n",
        "    for i in reviews[reviews['date'].dt.year == 2010].iterrows():\n",
        "        sums += i[1].rating\n",
        "        cnt += 1\n",
        "    return sums/cnt\n",
        "r2()"
      ],
      "metadata": {
        "colab": {
          "base_uri": "https://localhost:8080/"
        },
        "id": "njKHgUModavJ",
        "outputId": "8e691039-bef4-4eac-d8f1-204f7e2a2e7b"
      },
      "execution_count": null,
      "outputs": [
        {
          "output_type": "execute_result",
          "data": {
            "text/plain": [
              "4.4544402182900615"
            ]
          },
          "metadata": {},
          "execution_count": 46
        }
      ]
    },
    {
      "cell_type": "code",
      "source": [
        "%time r2()"
      ],
      "metadata": {
        "colab": {
          "base_uri": "https://localhost:8080/"
        },
        "id": "U6OcdqLMeGF6",
        "outputId": "c19af267-7d0c-43f4-8582-9e73a8a505d5"
      },
      "execution_count": null,
      "outputs": [
        {
          "output_type": "stream",
          "name": "stdout",
          "text": [
            "CPU times: user 657 ms, sys: 5.69 ms, total: 663 ms\n",
            "Wall time: 674 ms\n"
          ]
        },
        {
          "output_type": "execute_result",
          "data": {
            "text/plain": [
              "4.4544402182900615"
            ]
          },
          "metadata": {},
          "execution_count": 47
        }
      ]
    },
    {
      "cell_type": "code",
      "source": [
        "def r3():\n",
        "    return reviews[reviews['date'].dt.year == 2010]['rating'].mean()\n",
        "r3()"
      ],
      "metadata": {
        "colab": {
          "base_uri": "https://localhost:8080/"
        },
        "id": "2VcgPKwnehcY",
        "outputId": "085ab449-3207-41bb-9114-56e88abfa2cf"
      },
      "execution_count": null,
      "outputs": [
        {
          "output_type": "execute_result",
          "data": {
            "text/plain": [
              "4.4544402182900615"
            ]
          },
          "metadata": {},
          "execution_count": 48
        }
      ]
    },
    {
      "cell_type": "code",
      "source": [
        "%time r3()"
      ],
      "metadata": {
        "colab": {
          "base_uri": "https://localhost:8080/"
        },
        "id": "DzBf3qL3es2x",
        "outputId": "1118d20e-7574-4a16-a566-8627550172c8"
      },
      "execution_count": null,
      "outputs": [
        {
          "output_type": "stream",
          "name": "stdout",
          "text": [
            "CPU times: user 23.5 ms, sys: 0 ns, total: 23.5 ms\n",
            "Wall time: 24.1 ms\n"
          ]
        },
        {
          "output_type": "execute_result",
          "data": {
            "text/plain": [
              "4.4544402182900615"
            ]
          },
          "metadata": {},
          "execution_count": 49
        }
      ]
    },
    {
      "cell_type": "markdown",
      "metadata": {
        "id": "JOi7SRobGTct"
      },
      "source": [
        "2. Какая из созданных функций выполняется медленнее? Что наиболее сильно влияет на скорость выполнения? Для ответа использовать профайлер `line_profiler`. Сохраните результаты работы профайлера в отдельную текстовую ячейку и прокомментируйте результаты его работы.\n",
        "\n",
        "(*). Сможете ли вы ускорить работу функции 1Б, отказавшись от использования метода `iterrows`, но не используя метод `mean`?"
      ]
    },
    {
      "cell_type": "code",
      "source": [
        "%lprun -f r1 r1()"
      ],
      "metadata": {
        "id": "jKNRv9RRe7aD"
      },
      "execution_count": null,
      "outputs": []
    },
    {
      "cell_type": "markdown",
      "source": [
        "Timer unit: 1e-09 s\n",
        "\n",
        "Total time: 12.6791 s\n"
      ],
      "metadata": {
        "id": "9SRw2boRgFo8"
      }
    },
    {
      "cell_type": "markdown",
      "source": [
        "![Снимок1.PNG](data:image/png;base64,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)"
      ],
      "metadata": {
        "id": "BxR_075hgdy_"
      }
    },
    {
      "cell_type": "code",
      "source": [
        "%lprun -f r2 r2()"
      ],
      "metadata": {
        "id": "p6P9YKqGfs4S"
      },
      "execution_count": null,
      "outputs": []
    },
    {
      "cell_type": "markdown",
      "source": [
        "Timer unit: 1e-09 s\n",
        "\n",
        "Total time: 1.88009 s"
      ],
      "metadata": {
        "id": "eZet48CQgYyV"
      }
    },
    {
      "cell_type": "markdown",
      "source": [
        "![Снимок2.PNG](data:image/png;base64,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)"
      ],
      "metadata": {
        "id": "OVLCS6v0gje2"
      }
    },
    {
      "cell_type": "code",
      "source": [
        "%lprun -f r3 r3()"
      ],
      "metadata": {
        "id": "FH0DDxpxgcB-"
      },
      "execution_count": null,
      "outputs": []
    },
    {
      "cell_type": "markdown",
      "source": [
        "Timer unit: 1e-09 s\n",
        "\n",
        "Total time: 0.0325096 s"
      ],
      "metadata": {
        "id": "18TltXDPgwzA"
      }
    },
    {
      "cell_type": "markdown",
      "source": [
        "![Снимок3.PNG](data:image/png;base64,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)"
      ],
      "metadata": {
        "id": "vlDpx4r6g4AM"
      }
    },
    {
      "cell_type": "markdown",
      "source": [
        "Последняя функция с использованием mean() работает значительно быстрее предыдущих"
      ],
      "metadata": {
        "id": "gBHNaRq8hH3d"
      }
    },
    {
      "cell_type": "markdown",
      "metadata": {
        "id": "4jvuc5kqGTcw"
      },
      "source": [
        "3. Вам предлагается воспользоваться функцией, которая собирает статистику о том, сколько отзывов содержат то или иное слово. Измерьте время выполнения этой функции. Сможете ли вы найти узкие места в коде, используя профайлер? Выпишите (словами), что в имеющемся коде реализовано неоптимально. Оптимизируйте функцию и добейтесь значительного (как минимум, на один порядок) прироста в скорости выполнения."
      ]
    },
    {
      "cell_type": "code",
      "execution_count": null,
      "metadata": {
        "id": "FV2hh7YuGTcx"
      },
      "outputs": [],
      "source": [
        "def get_word_reviews_count(df):\n",
        "    word_reviews = {}\n",
        "    for _, row in df.dropna(subset=['review']).iterrows():\n",
        "        recipe_id, review = row['recipe_id'], row['review']\n",
        "        words = review.split(' ')\n",
        "        for word in words:\n",
        "            if word not in word_reviews:\n",
        "                word_reviews[word] = []\n",
        "            word_reviews[word].append(recipe_id)\n",
        "    \n",
        "    word_reviews_count = {}\n",
        "    for _, row in df.dropna(subset=['review']).iterrows():\n",
        "        review = row['review']\n",
        "        words = review.split(' ')\n",
        "        for word in words:\n",
        "            word_reviews_count[word] = len(word_reviews[word])\n",
        "    return word_reviews_count"
      ]
    },
    {
      "cell_type": "code",
      "source": [
        "%%time\n",
        "result_origin = get_word_reviews_count(reviews)"
      ],
      "metadata": {
        "colab": {
          "base_uri": "https://localhost:8080/"
        },
        "id": "u6vNNcQlhcvp",
        "outputId": "ebd7c65b-aca8-47be-b11f-7fc91727de91"
      },
      "execution_count": null,
      "outputs": [
        {
          "output_type": "stream",
          "name": "stdout",
          "text": [
            "CPU times: user 22.2 s, sys: 238 ms, total: 22.5 s\n",
            "Wall time: 22.6 s\n"
          ]
        }
      ]
    },
    {
      "cell_type": "code",
      "source": [
        "%lprun -f get_word_reviews_count get_word_reviews_count(reviews)"
      ],
      "metadata": {
        "id": "a_XIGyGQhura"
      },
      "execution_count": null,
      "outputs": []
    },
    {
      "cell_type": "markdown",
      "source": [
        "Timer unit: 1e-09 s\n",
        "\n",
        "Total time: 46.5354 s"
      ],
      "metadata": {
        "id": "SgT-gmKPiZGN"
      }
    },
    {
      "cell_type": "markdown",
      "source": [
        "![Снимок4.PNG](data:image/png;base64,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)"
      ],
      "metadata": {
        "id": "__Kd49RziqTt"
      }
    },
    {
      "cell_type": "code",
      "source": [
        "def get_word_reviews_count_opt(df):\n",
        "    word_reviews_count = {}\n",
        "    for row in df.dropna(subset=['review'])['review'].str.split(' '):\n",
        "        for word in row:\n",
        "            if word in word_reviews_count:\n",
        "                word_reviews_count[word] += 1\n",
        "            else:\n",
        "                word_reviews_count[word] = 1\n",
        "    return word_reviews_count"
      ],
      "metadata": {
        "id": "DMTQyN8siuAt"
      },
      "execution_count": null,
      "outputs": []
    },
    {
      "cell_type": "code",
      "source": [
        "%%time\n",
        "result_opt = get_word_reviews_count_opt(reviews)"
      ],
      "metadata": {
        "colab": {
          "base_uri": "https://localhost:8080/"
        },
        "id": "khFXHS8sjBKI",
        "outputId": "33426492-b50c-4a78-904d-9637d96ffc21"
      },
      "execution_count": null,
      "outputs": [
        {
          "output_type": "stream",
          "name": "stdout",
          "text": [
            "CPU times: user 3.51 s, sys: 515 ms, total: 4.03 s\n",
            "Wall time: 4.04 s\n"
          ]
        }
      ]
    },
    {
      "cell_type": "code",
      "source": [
        "%lprun -f get_word_reviews_count_opt get_word_reviews_count_opt(reviews)"
      ],
      "metadata": {
        "id": "2SGgRDGijHnI"
      },
      "execution_count": null,
      "outputs": []
    },
    {
      "cell_type": "markdown",
      "source": [
        "Timer unit: 1e-09 s\n",
        "\n",
        "Total time: 8.71564 s"
      ],
      "metadata": {
        "id": "AKwGk4najO2A"
      }
    },
    {
      "cell_type": "markdown",
      "source": [
        "![Снимок5.PNG](data:image/png;base64,iVBORw0KGgoAAAANSUhEUgAAAbsAAAHxCAYAAAD0qhIUAAAAAXNSR0IArs4c6QAAAARnQU1BAACxjwv8YQUAAAAJcEhZcwAADsMAAA7DAcdvqGQAAGTJSURBVHhe7b3br31bVe/Jv7ITXnw6D/t9J75Wckh8PC/u/ETKlGA8XtDCYKnExfJYpVWUKQTviQ9nL34Pirwg+xggBSXyYwFKgOCNgEZwQ/CCSBRk1mi99zZGa623fhlzjjnnmGN8P0nPWuPSW2+99d7bd46x5hjrVQcAAABg40DsAAAAbB6IHQAAgM1zktj9y7/8y+FrX/va4R//8R8P//Ef/5H2AgAAAOviKLH74he/ePjZn/3Zw5MnT8byhje84fDhD3/48J3vfCedBQAAAKyD2WL3yU9+8vCDP/iDh5/4iZ84fOhDHzp89atfPXzuc587/PIv/3IQvL/4i79IZ26bb3zjG4fHx8e0lUPH6BwAAADXZ5bY0e3Kn/qpnzrc399nifxb3/rW4Stf+cr4O51LtzhloX10jI//27/92+HrX//64WMf+9jhb/7mb7JbobT9pS996fDRj35UHaerx3/+53/O7DJkV+6jerRNdahuye4cSMzoipYE30L76FhNDAEAAJyHz372s4c3vvGNodDvxCyxe/bs2eF1r3vd4ROf+ETa4/NXf/VX4epP3uakQvvoGB//lV/5lWCPj5OI/sM//EOwQVeMb3nLW1T9n/mZnwn7//Vf//Xw1re+VR37gR/4gcMf/uEfBjEj8eS2aPsP/uAPwvGPfOQjVbtzYVGTguftAwAAcDl+/Md/fMzvJHjELLF797vfffjRH/3RpjCwmH3gAx8Yr77odyt2P/ZjP3b48z//83Bl9fGPf/zwQz/0Q4df+7VfO3z7298OV2K/93u/N7ZFt0rp+NOnT0ex+9Vf/dVw7Jvf/Obh7W9/e7jq/Kd/+icldiRw9Pt73/veIHw1u8cgxQ1CBwAA14dyPosdCR9xVrEj0WGkAPFxEiDJSy+9FFSYBIkgkXzPe95z+K3f+q3D+973vsNP//RPB4FjsXvb294WzqFbknRV+Eu/9EvhFia3RfZJyOjKjoSOKdk9FhY5CB0AAFwfunVJIkflIrcxW2InjxPvf//7gzh94QtfOPzZn/1ZuPVIV2u//uu/HsTtta99rRI7Ok5Xhz/yIz8SfqerR76NSdtvetObQjt09cjU7B4LxA4AANbN0V9QoS+WSOjLIPRNTbql2Ct28sqOROq3f/u3xys7Eh/6Wxo9y0eQwP38z/+8EjspUCTEJJSf//znx7ZI2MjXn/zJnzy88sor4bya3WNgoaOf8ncAAADrYZbYEfRoAYkKXR6+/PLLQUT40QO6QqJbhr1iR4Wuxui26O///u+Hq8aHh4cgfL/zO79z+OEf/uHDX//1XwchpduO3//936/Ejm9jkg+/+7u/Gx59kGJH7dAxEjv+BmnN7lw8cYPgAQDA+pgtdgQ9VE7faPy+7/u+kNipkIBQgqcvm/SK3Tvf+c4gUFSfbL3jHe8IV4YEiRRdRbL9X/iFXwjbUuz4GBWyR39/49uY3BZBtzFpm25b0t/3SnbngEcPAADgdjhK7BgSHbqy4ufXepFiSFdXdNuSbFns83FLsYRdPFQOAAC3w0lidyzelR8AAABwLiB2AAAANs9VxA4AAAC4JBA7AAAAmwdiBwAAYPNA7AAAAGweiB0AAIDNA7EDAACweSB2AAAANg/EDgAAwOaB2AEAANg8Suz45cgoly8AAADOB8RuJQUAAMD5eBX9+xsUFBQUFJQtl1d94QtfOKCgoKCgoGy5vOrLX/7yAQUFBQUFZcvlVfRPTFFQUFBQULZcXvXNb37zgIKCgoKCsuXyqm9961sHFBQUFBSULZdXfec73zlsozwe7p577vBcKE8OL/2dd86J5e9eOjwh+2999I+joKCgoKyyLPoGlVeePkliY8qTh8Mr6Zwmz+7mnZ9Bovfk8PCltDmDx/vnDk+eVlr+0kMUu/vHtGMdkN8y3nfP0oEGtl6pfjwvj6k33lnbHLNQvHF55fDwpHQMAACW4UyvC4tXWb1JV7FmsVshQXCk+FL8nrsbonAEQZhk7NI4PrX7I9R2NV7Bl/pYRP/vjh4zAADo4eJiZ68GxnPUFYAsMnFHu+Mx9wprvth5VyjWvrwK0gme2rs7PCQbT54+OlcqfPWSiud36v9csc0EOtg5TuyscD7epz5kIhipix31uTEOo935YxbjLmJ60gckAMDWuazY2asO75N/5crucbgCEKnYbyPsn5s4Iz1Xdvk5KemSSIT+RJ/keUEoRxGJwpe1c6TYyTZHUfXEtEklbseIXRJd/hCQC5KMw/wx6xkrAABgLih2fpLPklZF7Cx+wruG2KX2hO/TeXTcXGnN6GMfMd4kKC3/S9irOkVF7EYhoyLrJxGe/DFCrGIwf8wovsvGEACwZS4udvZKLBOPmhCkBCpLntznJ07mLGKXrtis34sl6hAT7m8Svdm2vfESFMROUxOzxLjPjtExY5baS/Es+g4AAANXvrJz9nlJkkiiIW364nRM4oycT+yO+xtaGy+mXuzrhCu0mkB2iV2yw2Ln9ZvjQz+TSGWldHVZw5kbAAAguejf7OJtL/s3O5MQS4nV7k8Jc0mxayb9gdlilwSpmcRTws77U8OxHeJi+s/i4vrQIY6lMZFkgmOF2BNm5vgxi3T0AQCway77BZUB/XceP8HpcyYxJAEZ9w+i8iCFhxO6KnMTaBIPrj+KQ+yPts1ti0Ttih1h7I51BUeJHWF9c/pcEbsQ04LA63HgwvZtn7xYa9/KfRMx7CIfj/lxAwDsiTOJHQAAALAeIHYAAAA2D8QOAADA5oHYAQAA2DwQOwAAAJsHYgcAAGDzQOwAAABsnquIHT+/lT2Hl541i89OneutIyfA/rUeEF8S8ezetYjPN855Dg6cRul5z/WgnyOd+5wkAJdncbFTD36nYkWtKHZMEJU9iV1Mbm48dix2OqHOIX/oXMew92F3HzXHi2PDgmXj1haysD5OGXOep9aG+jBZXn/cv+L6HNBj0xK71nhEVFxXKPDgtjmL2J38Nouri92lP6muW+yuxfFzicavNH9irHWirid2BY3HmIiTcJUEy/mntCGhj+fHtm0fT1tDaS4Nbet5Y/oZ1pgzx8N8G/wuzceE9rG1XmrjQZTjGFAxB+A4Lix2ccHFT2+VxVEUO1nfbydeNZ4gVOnTr5eASu1Sm7RPnjMmClqoti9in6wjy9hGSD4Ph8d0NayOJbQN2feUZOQn+jnCKetl40EJitqSYyLPqbcdxUBYFGMex5BtitKd8FLbaUvhjEfmywxCXRvT0BeOjRiPcX/aHsjrWzHW6NhoW8RoL80bFW/jZ75W41jePUuCqcQuCdLYtqyb+vnMH+vqeBDkazX+qW3jPwBzuNKVnUkCFpH4JmwS4IWZNhMxGVRs1wiJcM4n2ggnoHG/Sqi5n0Gc1OL2kksi+TSer2yntm1SM23XfOmiMh5TrP3xmdrWx4OfMgZOG31zyYPatv4mKH42aXr7OrHx1/0kP8RctO3w2AZfOV62iPpDjO5EPLK2pZiatrJ4D9h907zM56Ods3ps6mMdjxfGYyDaGvom+u3N0eBDxQ4ANS7wNztPeEwSsHjJlfaZhOQt4GMJtmo+JfQij+R+6P7p417f8+QykiViWZ9+t/Wkrbwtz/8m3ng4Prf6KY9nMXPaOMrXQIyLPwdtzNK5Zm51EXw28VfjZWLAx1K9SeSkf1YoKpiYqXjZeRPOFe2wDzwGypYZW9MOocfG9iGNr4oDjwWVvL9KxMh3Y48JdgvHAKhxO1d2YQHIBZOKTJhHwwuuvYi8/mWJOy1uN1lQPzKfc+EYsUlLxc6Lo7SVH7f+07aMpzt23ng4Pus45G3LBJjFrJlQDXY+qBgZbPJUdYc27Zh02Y5jrP2zfTbbo13Rz6zfMa5+v3meypLqkm3pp90eiEKR6g3H6NZ4bMeOpdlujk0+1l77IyEOfH4+j/x9kbEP2RoCoM5tiV1p8SxFWIT+ImO8/mWJO+vftHipfm6/vLjzfkvb9LutJ/flce4bH8OSYpeOZzGbK3azyH2RkC/z2okxzhJumj9uoXNDH40f2fjGuHr+UDzUuSJm4ZjX7lDceTUwzsVgx68b2muOTX2sc/T5+Tj76yH20c5DAPq4ob/ZxQTTsh0WWc12i7TwS+14/bMLOyxKK8whqQ1J1e5PhDpecqiKXd5W8GXczuPcNz4Gdzxmil2KK5+f+5knMn3O8bjjkZjfRvK1mMglNv4xZlN7nrA1xG5sN9kqJf9s3miK8y1gxzb2WY2dWiO2n/p8SzYe4UOC6IfdHqiNIQA9XFbswiSmBSrLtEh4EekiJ31KNKLYBRVt6AQ/H3/xynapcD8zv91FGW0UY2PaGM9riB0REsFY18YrP7fsg6Y+HjYhpvOV2Om6eqw4WVMZfAzf5NMJTp8zlC6BGbDzTNU70mbCj0kpsefxt+3nYxGPu2OUPjCMbT71YpZw502tXUn0QfVJxnSIGcVhstEY6+p4RHRcTZ+o/sxxAsCyuNjtEZ3kS3iJb8vsrb8AgDUDsVuAHrELV1+7+nQKsQMArAeI3QLUxG68xbi7vzdA7AAA6wFiBwAAYPNA7AAAAGweiB0AAIDNA7EDAACweXYndvELI/jixOVxnt26KunZMDyoDCrIZ1hLzyYip9wGi4udnBxcLpbg3Dd9aDY5MbMHiNcIxG71dKyfs3HOObyAbcobaxQ7CG0/ZxG7+tsZzsg1F+s1gdiBJYDYFblqXnOJH9biW3Qgdj1cVuyySaefxeJXEMVPK7HY5KhfK8TH06f0rIhJoF615C1oYyPzc6gjbTiLJ/p9RLJQvnERdihu4/5Sn2Tp8KGU2MwYybGwnyB5rOWY6PHKx6VX7Obanuac97otvU/NIff5yILtzpj5c7SX6OtUX7dXHo/8w0TwY+xfbQ7n45Tbb2DnoowrxWfYlnHRMRX1xtIxhxm1PkQMlrCd4PmoUPatTRoPip+MrT2nNIfbPN6nsQk+zBinHbM6sZODHrazJFKZqGHgGxPZPccmyJRwVKKQkzVu2yQWE1Gj/QzTdli4YvLayRyOmzayuPagYz8ibLXiPybeFCd9vh/T3sQ/z7YeD+t3qa/hPJmUAzXb7Zh1zcEise3cp4jtV9ge28rjq/sX+1Gdw0f7bm3FbT2nRb/snCaOmsPE0JaMV2jL9OFo2xPVvFbJKdNatvOqNs9m4MUSuFzgb3ZiILJJRwM8Hc+Sj5pEHZOhZ7F653gLJGtbT6jq5J9DNll1Pykmup08qR23mMlOalf0dRoDL9667TDWsl0Zs8wnx+8KVdv0u+lvntjNvJPzKpHNN6JquxUz3t/fT4U3D0da45HHtxqTgWwOyxjPILRjYqbGv2cuZOccS97PJWxX17sbt8Z4VOfZDELbpr/AZX1XdnKw5STqGVR30hm8c7zFoM7rSBRHE5PYaIt8Ef6FpD8ct2WJREG2yc4rT++GT8d3oX80BtEXJ2mYBTxvrJ0EV6Fp24mJnDuyPvfT4iaXhu16zBLSxoxxCf4Uz2+NRyO59szhnvXjUIwj96UwF7KYzYiVhPqhxsrG6QTbTBYriRu3xnjIOSKLjWOL0LadF8DjdsTOWawZPYvVOydMvNq+jkRxNHFRyAkvF0hXO0cuZor3k6ePQ/tDP4e43A3tUHuxfeqz9sXumzfW+eKvMc+2w3gO+ezPiWaSdqjHLIeOdY9Nte3WeFxZ7Izfal/PXOgZU4fQjvI57+extiXV+ejGrUPsTvQpENpu5EUQuLzYjZOCk/w0UHpxDphJ1E4cXkIwuBMz1pv8jr5N2x2JYiD4l9lu0Jr0IWaNyXzkhKd4P3k6JOwQ86GPQwK/49t0tMfEWyWwgepYG59ibBpjI6jazsbLg84ZxmKIX+m8bL4F6rZbMbPYmNWpt10fDzNnw7wZzh/7R7a1n3mMY/u9YzQSxlrWM3bMHA9+23Vywhy2czJbL0fallTnY7Bv131D7FKMijZ7WaBve+GyYjcQJyMnPr0A9WQYcCaRrB9tpAMML/JQjG1RLxZpO06+8ZhKgtpPwutn9M1O+hYs+rqofqk+Ucnb0P3r9CHZ5bY8/3W882O1sZY+0Xl0fjZeBVq2hzP0eA3F2o7t20Tgxzsfb318tN2IWT7POsdixLbdPx5xvaRjgwA8ki+zxG6gsH6ayLaHoux2zF/iqDkc+jXZDh9EHL+XsM2F+5aPNRW23RI7ojLPGvhtzxivHbK42IGZUCIQn0wDITn0LkgAVo43xwG4MBC7KxM+oZlEED69IzmArQCxAysAYnd1nNtqSyQGc1vJlvotwvOib8XZstUrWv+W2FjU7a01sYDfEDuwAiB2AAAANg/EDgAAwOaB2AEAANg8EDsAAACbB2IHAABg80DsAAAAbB6IHQAAgM0DsQMAALB5IHYAAAA2D8QOAADA5oHYAQAA2DwQOwAAAJsHYgcAAGDzQOwAAABsHogdAACAzQOxAwAAsHkgdgAAADYPxA4AAMDmgdgBAADYPBA7AAAAmwdiBwAAYPNA7AAAAGyeq4jdK0+fHJ577rnD3bO0A5yXLz0cngzxfu7+Me0A1+XxcEfj8eTh8EraA1qsLWavHB6eDP4Yn0JuW3Cd3WyuXGHOWVzsegb7agP47G707fH+ucOTp7eeamIC0HF09tUmXjh2N9QCp5MSslO8MVqT2PGanMqTw8OX0sGz0jmHazG7xhymXBJ8iaIXfJ3hRx7vVEz/Vil2Y98rQOyuzDBILHAkdquaQEfRmygqQOzOQlgHKxKzFpm/lNAuIng3OofHD84sdkL0ZjGzr2ugR+xWyIXFLg5s/BSTLySqS2JEQsSfdLxFwMf6r8x0PVVucNAmvIWi98lY6niVYqLHJYynOH5Ti/KKlMROxVOtE0qWQ+yfksjEYzx2MuZ6PJZL8Lm/MXlPcyZuj21nvkc/p/nWK5TtOVyOWd8cPg8iHkPcHsnHYt6r4fWfkH2z/aFjd8NciXF58vQx+SLP07Hpz5UdNMSunHPiWNK+co6vzbPTuNKVHQ1EPiF5UnOA9AK0i680ScpQgOP5fvu3hxcDPy7Ud3fC1z4V46rvaPTczcnXSVrkVCfdAqLxUueFq61pPFptzCG3pddbSE6jv3YtTgnKP79G/xzOY5a4+jwlf49t3+/rBB33xC7FN8yJWH9a46fnyiqdV3ZezgljOPjC++28q8+z01if2Mm6chLT7ybAfW1NUCDDgG8miadJ7xQ7sb2JF6jFIhxbcJHsCLuILfncjQvbzk953jh/R/x1dAzW37A9zgtqx8wRlfCS2Mn+dCbEOXM4j1niyuu5uLa6iP0vrzFvjMU+EefRD4qHiX0xdsdwqthJP9TYtebZadyO2FGnzWIIpWcAS3WHctuJ3Fso3j5/4gVaiULGbqFJtwfCXK7EK18nLbFLgsJjMZYFxU7ZFXMi+COPpTL2T/g+m/45nMcs0ZrD54STsVgn84TP7+sEHZ8pdqV815MrexBt1pgtds15dhq3JXYnddqfILeNt1C8ff7EC8xIFGRjG3E7P2EuV2KVr5M+sSsnxdOo+tucI3sVO84pZuxmrRG/rxPcRtoMiH0lsTvnOj2r2J1vHG9H7EKdQsLuguonWzRYTR9vgRiTnkRRFLvC+R7VhAgUrVjl66Qldun3MyWDur/Rt/KaubLYzZjDSzKtKdH/2ULT8p2OzxS7ZPP4XNngXGKX4lieZ6dxHrEbAq0KO09BssfEQNYDQcRBlPW7J3ghgdw23kKR+/J4UckWgRoXMx6i3rkS7RYJscsSQlrMKqZDCXNRJMzKXM3GZFZiLeP7K8l9n+aR8H02rTlci5mgMIfPhk34ov15cfD6P1DNlVSnJnZEvvaPGx8Hz7cxFnm7VNgvO5/zHF+bZ6exuNgBAAAAawNiBwAAYPNA7AAAAGweiB0AAIDNA7EDAACweSB2AAAANg/EDgAAwOaB2AEAANg8EDsAAACb5yxip9/ysORbN055U0Ob8iu1AAAA3DKLix0Jhha4x8PdYq/mgtgBAACYz7JiF95zVn8vnX23nxQuOkZiEwVTH5f7ZFHipN7Zpv2o2bY+jUWJtHnn20LvJAQAAHB+FhW7IBo1EQhiJK76wvYkSiw6LGC5vcqVnRVa01bbdv3KDld9AABwu1xQ7KJQWcGQIhLqd7wR2xM7qqtt63Pbtttih6s5AAC4TS4udlaolhK7IEbyNmMqS4kdt23tAgAAWD/L/s3O3JbURLHwrr6WEruyUPXYbtsYCXUheAAAcCssK3Z89aOu7qZvYwbBkQLj/V2tQ5DUOUxVaPtsh3O6blXGL6tA7AAA4DZYWOwIfbtPP4bAgsfH8m9MtgSJhYZtqCuxIHjTsblCmvk+nm++iTmUritAAAAAq+AMYgcAAACsC4gdAACAzQOxAwAAsHkgdgAAADYPxA4AAMDmgdgBAADYPBA7AAAAmwdiBwAAYPNA7AAAAGweiB0AAIDNA7EDAACweSB2AAAANs+yYpf+9Y18YXIo6YXK+iXQU+H/HuD/T7r0suhz2nZe9BwK/weERtvntI2YibJIzK44Ho22rzkeiJkonf263ng02r7ieKw5ZriyAwAAsHlwZXfjn1YQM1G6+nXF8Wi0fc3xQMxE6ezX9caj0fYVx2PNMcOVHQAAgM0DsQMAALB5IHYAAAA2D8QOAADA5oHYAQAA2DwQOwAAAJsHYgcAAGDzQOwAAABsHogdAACAzQOxAwAAcDT0VpQnT8M7Tmag35Yyv/58did28XU1/HoaAAAAp3CM2IU8nF7zdSl2JHbxk8TdU3q/GsQOAACWYL7YvXJ4eDK9s/JS7EbsHu/lS1IhdgAAcBxRrOTLlrXYtW5RpgsPiN2ZgdgBAMDR2FuQ+souCuG0LYSt9F8Lnrsbzjo/EDsAAAB9hPypxUmJHR3nf8mTCP96R/19Dld2lwFiBwAAx9ESu2d3zpXbUCB2VwBiBwAAx9EjdubKLgdidxkgdgAAcCRaqPi/g9u/0U3bHhC7s+L/y3aIHgAAzELeqrx/DLlVi1sUM5lrtbBB7AAAAICzALEDAACweSB2AAAANg/EDgAAwOaB2AEAANg8EDsAAACbB2IHAABg80DsAAAAbB6I3VFc5/8x1QhvIsdD8rdF69VKzquZIvqhXf32isu8QR6AW2N9Ytf1brVrA7FbPUWhuAA9c7jntXWFPoSxLvyX5/CmoNWvHwAuD8TuKNYndsCwarGz//OrgNuH9txTL+YFAASWF7uwQKdbLLGIBUuJYNwvPtm69ah0JKxSYjNJJ179cNGfqjlByHdo6oTSet9bmbm2p0TlJUWzT8XNi1XBdmfM7DtF5wp8rX55PPKEHuyMVzPpdp3s++hzPk65/QZ2LsqrKIpPeh8gH/fHQhYT55oYqvXh1E39q45DaWyJ5KOeUwBsn4XFziTisHCtoIntcHxGIihCCcBJZsJWSE5ZEp/aHhNvSmz6fCs6eTKuMc+2TmbW72Jf3QRXs92OWTVpdmBjLLH90ufm8Q3HldhJIdAxCxztu7UVt/WcnsYym9NEYw7zh58Ma0v2Ifye5pEqXh8r8zPZcdsHYMMsK3bZwteJgxKWXmTOojxK7MhOalckiClBOsnQtB0ESbYrE03mUyWZOFRt0++mv3liFzElX8ZjAmmTqdpuxYz39/dT48WcaY1HHt9qTAYyAfHi0UFox8RMjX/PXKjO4fLc6etDLa4TRUEFYKcsfGUXF+K4yGjRi8Uakv5w3Jb+RFGGbJOdV57eHe7u70IipMQVfcmTo0061eTQk+AqNG07MZGCJutzPzO8xNiwXY9ZQtqYMy7BHxtzpjUeeXwvKnYi9gE5/oW5kMWsGKuyWPX1oVxf4vYDgB1zltuYMrHKRZktZo9qoigTk/Tj0P6QHIYkcTe0MwmDlyD0vqpvhQTXSjjMPNsO4znkcyGBl8SuYrsesxw61j825GtN7GrjcWWxM31U+3rmQjXu5bnT1wcvdjnVOQfADllW7FqJm44XE2AiLPDGOQ4xcQ8JOyTEISEMCfyOb9PRHpOobVKrJgfjU7DVkXCYeuKJyauemOicIekN8av76CfGUp1WzCyeENSwMZfUxyMKwuh3mDfD+XPELvW9d4xGQhxlPWPHzPHgt417Yw6X5oOOQWw3/5tcT78qH8ZS/4rzCICNcvYru0wUOHGNxS5mTiDl4y7JLrcVkqmpG/f5dksJiJE+0Xl0fj3hTLRscwKbfMttx/bzBKpjxUX2rWK7EbPcdudYCHTMdb/0MWM7JeVwbBCAR/JlltgNqLlWFp8M2fZQlN2O+UtU53Cw4dWT64f8pX7a8zrELvjv+wWxA3vl/Fd2xYUNwA3izfHZmCvXhWl/uAJgfywqduHTrEkE4dP7yckBgJWwiNgNhCusGVebnXhrEABwiduYiyUGY1eUa36KtbfpdNnqFW1+a1SV8Xbj2ljA76XEjljSVsC77QkAIBYWOwAAAGB9QOwAAABsHogdAACAzQOxAwAAsHkgdgAAADbPjsTOfFN0td8YXB/xG6fLf01+1fA3gAvzRD00br5Rqb6ha47lD+o3HhA3VB9WPzvp26ylb5Cqb03r+VL12/u29Zz1GZ7l5bobmqcn9Ut/8xjPXe5I7GixTQMeJwImQIsYp7un53kmbK2ExDwk9AcSLSfp1p4d5brjTDM29DycSUh+k1DU/Fic1PaD6d9IOF6YI8ZvG6Mgdsf2Iwjl1G6wffEPAWfgpH6ZlxakDxNzPlRtkd3exrRJCOQ83qfFZhbepqG+pnnhzhE6XkzM6cOBTCohdjrRHyd2zltXLjYuQ79SnzOhCpBvJT8cv0OcxPnVmNbJx8gZgxvkpH6ZDxcE8h3ELm2BKhdLquvCmyMh2d8PV33ilviUyE0SD+h9x4udtR2TH7V/ycTuil0S9HDVl3yazolip300+44WO2s7busxuUVO61eco9O8DdtqTPbJPsWudssF5EDsRsI+GYsQmykx2Tr2/DHxcOn+wMViNyU+apPsXzKxu2IX1pP0I/mY+mbrcAyU2HE8Qpl3u47jwD4E+91xXSOn9Ws8L41LiH36QHLLUTmV/YmdSU6gA4jdiCcuet90xUXl7hltl5KMFoU63pXclBQvhRWuACXV6r7Uz+R//B+K5fkUxbAnMU925Zh4Y3RbnNavGL+hvhwTb4x2xr7ELgndbS+EKwCxG/E+XVeTEMWukmQ8ez4xAep2+GovbV4AV+zC/DDiVE2utQ8AA569AvkYXf4DwDk4qV/hik7Hr3+ebZf9iB2E7nggdhM2FrXYtOKW5qRNYKFdZ3/8xD7Zc4XnzPhtWiH2hJmJV6jlpB3r+nEf9tu2Q2IX9pxEf5N09SvFKptj6S7AGMNWzPfBbsSOE4gulUQEUnLdW8xSorBFJt+UiGLR8dAxKyUnvy5TEjtC2b+Y0Fm/vfZ13JTQVeJF2HnmimRJ7AhlfwNCxzT7VRI7Qo/H3oWO2OcXVAAAAOwKiB0AAIDNA7EDAACweSB2AAAANg/EDgAAwOaB2AEAANg8EDsAAACb54bFLj5jsqbnR+LzUVt/Du22GJ+vFM/Jjc91Xew5NQDAtYHYLQjEznLlMXLfOjFB44U36gCwDyB24Ixcd4zCFZx97ZSExLB2HACwGRYUu1Jio9fWTFc79tVA6nxKPnRriV8NREUlo/xVTt2JtGk7+j/atre9zC0vtU/arL7Wx9rui5l+bdD8q5FazJvHZIxCP7l/5Dv5KMdk6vt4+9CUS15JZf5bIHYA7IZFr+z820IicYekLcQgbHtJPZ0Tkisfj8Iw2S8JRYGq7ZScjQiNbZlzCbevSgwmarabMVO/zyeKWe5ToDEebbGjePL5dnyImWO0MBA7AACzqNhRconJTiS5MUF6ydAke5NslR06pq6uZibSmu0gKEYQTHtalJzzCVfs6rbrMSOovieIPcS6foza49EjdtJ2Li4zx2gk+i2vCEMxV9ct/A8SAne8AABbZNm/2VESp2Q3JJG7+7vDHSUaSighSfmJLxO7UkLLjs1MpDXbIek1kqusz/20eMmzZZttuTFLKBszknOoV7oqbI/H9cTuNIIfQ6y62uXYeuMJANgMy4pdStKPQ7K5ezYkuvshYY/CEBOf/qRt9tUEKTs2M5HWbKskXoKuNqJwkCC47Xp2WrarMcuJibxX8Cafc9rjcT2xu9CVXW1OAAA2xVnE7mG4QqGU93g/JPChqOQpEzUlG7tdFaQpcVMi6/70TlQTW0zKrU/3UeSGRFz10QpRw3YjZhk2Zg1CnAr+tsYjHB/rsgDx8R6xS+034nouPH8U1N8r+QYAuCzLih0nRE4gIXk6CTEkTSrmqqMqSLouiUEUn3SwRcM2J+/JN+eqIIhZvl/3iYsUpJrtRszS9lRKV2pl+IMBl+7xUH4Px55JMe8Tu0kkYymK+Bnw/RFQbCF2AOyChcUOgPUAsQMAMBA7sF0aV/N0xXvJK00AwPXYhNj5txG5zL/tdyvY25O6yNuo+2WMkbiCm+YLYgTAXsCVHQAAgM0DsQMAALB5IHYAAAA2D8QOAADA5oHYAQAA2DwQOwAAAJtnP2Jn30SytoeJ09tZPL/UIwaF58bUOdYG2w5lehSj9OiCfCtKT9tViv0yb5Vxx0O/fUW9LUf1yRxL8CMG+lj+NptYnEdUeM44vvm2IzauxXiaYz3ox2yWf3Si3K/WeLXflHNszFromNzYs5OVdc9wbObOldK63ys7vbKLC3ctiyIs1kFIHmhS20mv3vKREo46x9snCAm7c6KHxTGdy35xlMKiqyxKS61fdGyKf0yUajzSQvUXeDx/PGb85pg8efqgzysRYmSFg9qI7yn14l2yHfosz3dtJzK/GxhbYTyO+QDiUu+XHns7Xlw3bWdjt2DMLHSujMHcmF6R2voYCf27O9wN8WvOY0mI4W3E4VLs9jYmLd5ViB0tzjTRe8SEF8joOU3qYh1KMv0TXicdIyhESCSdSWhmv+w5tF1a3FkMBuR40vFY1+mDg6zLsD86Jm3bma1qzKKg9o2PERRiwcRe7ZfTjhoDR5w4fsSyMdPY8ZkX0yvStT44XnHsbdzKzFv3e2GnYrfOBVGe9BMqyQzERBE/MfNtnHFRpKTxQHX4uBGJCRsTL0bHxa2nX/qc1M5TSqLJb5H88gTn74t2GknCS6wieft2iYLtUJf3xyRV7DudWxwPi419bH9qaymcflk/Ux9LMQrbdDzr2wIxs4Txm8QyzKPumK6D0vqY9s8Uu1nrfj/sSuzGRUildzFdkKYopIU9TfqUGGSyDokjJcWURKZPzeVE4iV160/YPofYSZ+J1M+sbV6w4Xj9/EghuQrIrrqqMIllttgFJiHStgkes1i6E1iwSX2e6lPd3P9TcfpF40Ox5ziH+cb+iBil+Tadaz5EeLZHajFrIWJam2crxV0fKn56TjaZse73xG5vY4YFurJPO3VRiMmglpgjYh8nqXgg4u0rJqEpAVEJ/8svS2Btqv1KCVS17SVKs099cBn6Q//8Nk+SpX4lgk0t3lbcZotdSDRsM8WvOM/iWPUl92kspjZnJsEunH6xiMkxEeMxjoXs55x5NitmBjV/UlI/Yo5ek3x92HGdOc5e7N3x2Be7FTs3oV6ZsiikBOAcozpFAfT66Ez6buEne0csmGK/UqLyRUqLUGu8qI08GRSSa6KUZEYRVcX449qO9XV/6j6UxdRSsm39OhXH3xB7046cR0Gs9Nj4/VomZpLSGOZzar1kfUjrwp2Hveu0Y93vjV1/QaUvyVwO36e48Iu+2kSjtu3CPyGxeAmvE7dfaUGXkpKtUxuv8rFK3zr7M+/KLsZXnR/Go9SO71/oj7M/XkFNtro/pMyi0q+xLTuPYp2p36W4nxAzFgDT3xAruS+dl7e9XmpzOxJjlPcpxS6bX3Z87PY+2Y3YxURBEyOV6uS6JClR2JL8y/xORU58fY69+tH27YTPkoWgbrdFvV+c0HWRi5YXcipqvOp9islS1E1lilmy3TEHQgzkeU3btt+VPg3FS8olsSPUmCwpdL0xS/vzxKn7rXw/KWaJgtj1xnR91NeHJvYx7xf33YlXa43skP3exgQAALAbIHYAAAA2D8QOAADA5oHYAQAA2DwQOwAAAJsHYgcAAGDzQOwAAABsnrOJ3WnPaN0m8fko75mXBQnPG3nxXOC5mqLtdZM9C3cSFMczj+EpqGfWPD/Ts1eLxWMG/CzcWdou96v17CGty9t49g6ck/OIXZj0K04YZ+KaYhfaPjXJ3KLYheS/pM/nFzsaq6Mf8qX+Vh8m35/YjZRis9N8BDTnEbvmggRH4wpSTAQnf3q9ObGLV7PLfmrfhtht740ZHf2qxQY5afecRezCbYXCxNK3N02i4gnJnxCp9H5KHBO1uJ1nfIhXXlymhOYnnxkCIv11hYjaEn7NFRSKy1jXq39C0q/Zbo6H7NNQVLzp2GBL1hXHaR5QzOWYaP9j/H3bkertS9OvaXzzcdV2yO9hvJ75fgeKtiN6jk/xtHN/LL1znOAxSZv9TP2eYm5EXfVLHAv7zZwz++Q4uoJUsz13bEsUbEVmrGewSRYVOy0mUxknv100YdsuKqqTzgmJ0izIEmNS5fO1AITFIxZCTDyxHX9hHbE4gg8mKSQ7k19x200IHjYGso2xz7ZYHwrUbBPV8bD9SP1UoiF90edz4lfbanzuJr/cmMV9/vgkwRrrS/J6evzrftdtD5g5bvtF+B+uOiH7xYReI/ZDxjysV+63nQuqH3otEf6aKfStZtvOuUTJfpVGbI6yCTbDBa/svIRlFkdYBDKR1BKaISwafe5kO1+syja1mxaBrlNJah7uws37MGfRZcnDbcPrX5um7dp4yITFqPp5/GS/sxi4/ZrIY1YbnxgP1beR1ngU/B7nc832cHSIqR6H3F4W90RoZ7Bti7LXSOhlYr9VDIUtalv7pOOkY0TH/Nh7favbpvikcRf+lGJUpRWbo2MHtsDFxU4nAjOpT5mM1WSZJxzlD9UN7Q7n3d8NhayIRdiL60Peb5046mSL3m2DfM1j26JpuzYe3jFVP4+5nBdZDGzbYdsk/ux8P+EGVH0Zr9Z4OHPF9rVhW/kcirZ3VCJnjl4j/vpjyKfcb3G+HB/6veCD17e6bfIrxucxrL3YBtWZO5+bsZF9ALvjyld2Zt/RC3mgOpE9MZD76Peh7tA++UKLLvytaa4vrg95ktmM2Fk/1L5cNGS/62IX+yN9y2OW2y8R6o62W+NR99vSsu3hCQIRbZVEIXH0Gqn7VvJpYqpPfpbO9ey0bNPx8F/wqV9D/+6eUVt9Y6toxebo2IEtcNEvqOjEMKCS48Apk9EVgQlaUNK29pES3N3hIf2diI7RJ8xSgityBrHL/aQEaNuI+4tJNsR5qGfabNqujkc8f0pisZ/TNh0XCSvEZvIxi4EjdmN/Ul3tfz15K9Q8M35msTF+W18synbqVzY+Gh33mVTHpEYjXqEfdYEhv588fRzslPvnClvDdhC7pw9DGerRWNMVXiOGLo3YZHMO7IqLih0RkwElVSpmARy9kAdcodEEwRvblufGRDC2nZJr7dOoRPfJ2s+TzLxFl3wLNilelHxtP3sS8lA/a7Nhuzkesd2xz8q+OTaUagzM+OmY0geRPGbhHM8/7u9YzDxj8aQy1H9Utut+N20PZPMh81HGfSjZuFQ4eo3k8zAj65s/z3J/85hRUeunYjvGi+OYYnNMH6ux6eg/2DRnETsAYgLMhWBZYpLdVQI7Wux2QC02iNvugdiBM3EJsRsIVwz2CmTDIGmXKcUmXMlfYC6CVQOxA2fiQmI3kN0S3TJB3PlWIBI4oW4bO2IXvwCTNsBugdgBAADYPBA7AAAAmwdiBwAAYPNA7AAAAGyeM4hdxzNE4Y/s1/njenzW7jxtxz+Ue98M1M8h7eWP5fK5xtIzi0uMR/ELKifNszhmnt/UXu8zmACAdXA2sWs/vLonsWPO9GBr6SvXK4FifozY1eqNhLlUiPmZxI6P4Rt+ANwOVxS77T0bFcSuKjoQuzm06zVE56R51rDd8cYeAMB6uI7YleCkLV/npG5PxQSU3xqLberEaPZJm26Siuez7andUn/Il7lXDUfGJiTtyTe/T7Jw/6b24hUUlXk+x6vVyfbkO9kmW3JM/OTvilZlPGybYzG3KsN53u3LC1ET4xhviCEAa2F9YhcSW0oSISFyco52p+SiP3nnV1UFMQo28yQUkpMROG7LT2qXEruOdopXdrE9iqnsS7dAFGIVYduTbyXbfvwSlTaq9Y6K5cIU455iAbEDYDWsUOxkYhe2KCmaxKI/2RtRIFteUneTK9U1+0Qio3Zi0jX+zE5mx8SGfKsl/YGW2Mk4VBJ0RuhjyV+nLwXb5xG7Yz5sLMxRcwAAcA3WeRszbSroWLjqM0Ukcpkc6XfXBy9BpaSe2WZfqG1qZzgv/HNXaoPq9IrGyJGxUf45ybUYtxPGgpFxV20UxM7x7yxiF+pdWewGr68uuACALm5L7FriMp7jXKkxXnKtJNwAHR/s0r+CCf9Y8n5og9ryrhyrnC4+8e9ZxtdibBYQOwGJz9ROQewcP84idkMNXNkBAHq5HbELya2W/IgkcoOdeck1+lwUryR2D/QfzIfNx3v6567HPGtViQ31na6eWgIazjP+hz55ib9vLIKIDW23ztN/F7W2y+NzrNjlf4eVnDDPlqIyX2NM/X4BAC7PDYkdERPqeFvNSdDxyidP/HG/rquTUfRbHp8SdGqXhSgJ0/w+VmJTEjvePxb/akb3j/vVNxYlsctj1hsvIh8reU57PAjTholNsFGdL+elJuIQOwDWxbrEbvNsKTZr6EsU1Kv4gFuYANwUELuLArFbnHDle2nRuaLIAgCO4mxiV7r1tE/0LT2I3bKE25kXnGfUXvFvkACAVXIGsQMAAADWBcQOAADA5oHYAQAA2DwQOwAAAJsHYgcAAGDzQOwAAABsnh2KHT8acen3KhYeP8jekJKK+Cq9ftvIvLeM2Ha9r8yzfe8xgnrbHYSHrz2/Bs/Sm1tCsW9C4XqpuI84qHPKb83RdU28bP2TxyOi+lYakyPe/nLyeJwLFbf2G4zUPLQxd+ZKC2X/im/VmUUjZtX10UNl7e2R3YldWBT0nwsuKXZp0vU9kxaT8ZgMwoKYklrwX0x82p4SR0yi07axlfnBxx9Cvcw/03ZYfDMWHfv6QPXMgrP9CLbHc8gvMT7BDzNe3r6RRr8spp+aeePB5xcTTKr/kNXrwLQ9dzzOB807ExMZT/Jb+hnmYWvs+nu1njjMoSNmaj1U5pRDbe3tlX2J3bjIaKKVFtvy0GLsE7qB4CNPem/h131XomGSIyGP04KIfkWR1D46bVeTlIHOTe0onwJOe6rfFns++Vb2o96vHPKvmFznjodKUpbh3JSUORkVWnU4cTwuifEr9DUb/7Lf1fGwUFs3J3QOjbGcNV/IVnHt7ZcdiZ1MFvXFtiyprackPMPEC6WU1O1Cjz57IlRK4HJy2yQTtqn9bNGQj9amjVE8h+q3xMOSLzgv/t4+xvgXEkO6Oko++YnA1PNItpYaj3h+vKJk37z254udjU/s2zHjcXZs4g7bUxzDfCj2vTYPcuIcH65ghjHgeHcL5ZqwMTPMny+RfO3tl/2InbqVMm9BnURa6HLCFRe7k3jtJGfBchNcuJKb+hUTwWAt7E9tOm3EeFibHKOYzLlNnfz78Bac3Re2C2OSxSv1x4pQvqi9fmmq/Zk9HhwrUceMCWPttFluPM5LaSwmv/NjUxxLx0tk8yatt9qYr49SzBIn9CnEZ0Y8t8xOxM6Km90+I564uIJTmpgiSQzlydPHYdvx3VkQYwKxQpElWU8U4j6qP+2PvsxddH6/JvuxDdrOYxL7YPZ7fejulyDErDwP5o+HFx8/ZseJHccq7SrYviYhZrZfam5y/PKxZubEhtqzYu/tWzNuzEbiuB/bH38O75N9iF26EnDL2ScCTVaTUIsC2CPAjiikZJItiNBvfW5IJAXh8ZK0tun0pYOuBUd9MAs+Cp3Tnhe/I8Su6teR45En2qXEbrnxOBchnnZcBvI4e30ReONbwJvP+Risl1LMInH+NtdOhTz2+2VfX1AZuWySsBPOm4B9k9JJ3iWhC9jF4tQP+Put2MxP0JFm3xxhKQpdwCbLUvIs9XegIWZHj4f9gOF84CBqsQxtn3E8zkH02U/a4Zj0M81Zd1wG3NinOll/7Tg2xnVN1GI2HDVr1yPO+/I6KcRyp0DsLgJPylTs5AsJseBPOMZ183PigrFFnpcWTSp5Ypb18nNigk3HZiVW3e5YUt+V3WzBF+qq9vU5Suia/UrjUUoCJ4wHUe6bmQdcTFx5TD0xOH48zggLkS1jfPN+F+cYFW9cSmJHdIzJ6mjELItJKnpOlMSuvvb2yk7FDgAAwJ6A2AEAANg8EDsAAACbB2IHAABg80DsAAAAbB6IHQAAgM0DsQMAALB5ziZ29eeobp34fIv3HFSZ9OzLWp6NAgCAHXEesbuhtxgcB8QOAABuifOIHb3RYNNJ/RixAwAAcC3OInbhFmZB7OxrcJRgsEjKV+n0vOImnO/cKjWiq1+tpa886Ri9ckr6p8UsfwVPr9ipPmf9IbuD77LPcz4otGIm98tjnTEjYty2disaALAnFhU7/z2N4r2FlEhl0gzbQnTCNtVJ54SE3HM7lATDOU8kbivAUYAmX0bfkxjo8+OVnH3x8Nwru2DTFTvR57TdbbsaM2srbsd+tGPGQOwAALfOBa/srGBE+IoqYMWvW1TovFRPXLFM4uIJiLYdErr0WV75ZAKwtNhp0VExaVGJmTsOY19aMQMAgO1wcbGzApGJXVavD7ITE/zd4e7+LiRx8qN8FZOLXVFg1i52hZi57Ynz6zEDAIDtcOUrO7PvBLGLSZr+a/RwhTJcqdwNNjmZR0Gx4qT3bVbszDG5rx4zAADYDhf9gkrYL//2Q4nabhcSd4uYuIeEHcRkEJAhgd/xbTraMyRxadv6WBWYcJvP2MrEs01o84JiF/2WfmqBb8WMif0V4wQAADfGRcWOCMeGhBuLSawniF0UzimRewmaRSqW/FhNYKTfdB6d3yd28SpwajeVUfTOKHZEEjxuV9ntiBlR2g8AALfCWcQOAAAAWBMQOwAAAJsHYgcAAGDzQOwAAABsHogdAACAzQOxAwAAsHkgdgAAADYPxA4AAMDm2Y/YmYerQ8neZnJO4ttLuO3sgXTlX/4WE36oXdcrPLCu6ut2vYfV1YP+zgPq8aHyVObELD20HkvpzSxTGfvmjRUV4ZutW+tzKHP6Zds3dVU9a1f1eShuvJJ/jk8t9EsZVvigP/d/RjwneD7nc6VFaw6vD7t2TZ+7Y1aive73xr7E7lqLIE3c4htXQoIoLfC4KMJrvWo2mGCLkyDXTb12/AiJu5V8jvpQQIttSsYxGZltaVf5nRP8FOfTdjkWuu2cWr+orhwLE0Pyc6zXio+pS6R+PlD/585HE6P62F2DGLu7ezO2BjuWTJwTdyb+bdYXhyOYOf/rmHnXyj87AWJ3AeqJmSZmeXFTAoh14ye11oSltlRiNgtILZpWTFRiP5Gw4KZ+Kj+JcLy02K0AxfpHi12tX44fma+CkKArMdR1B7/Sua16OY5wmpheG55b2QcZg3t87Es+1lWo3pXW9aJU538hZiVa636nQOzOTlq8T2kCDhMuFDER0yQPn/T5uOsn2WmInVkwdoGEbWE/Hn+IVyepbZlMY6KOV5R8vCW2RYJvIomFBcn26ldI3kIn344Vu3q/ki88BsHPcvINvhXnVTlx1+t5WFtxPpw0JksiEqw3XhMxvtpnKeTlmHm05vCtMD9mZaytsE2xmTXftseO/2ZXToaLwu2KyRc+ZalkKhdoKfHH5Fab8DGJT9N5nPSpjdCmEMTgh0wsydfYRvJDxqmR+MvU+6T7b/GTX/R9Krr+ZDcWWb+vX2OCqM0TFa+Jqe5Qsj5HwjlHiR37H9u1Y34dok8ch3HeSXgOUrH9pmPjPn+8S9Tn8NqR89Tpcy1mFVrrfq/sR+wMMSFdYPC9SSb3qYWe8PalhVFcxMFmIWFLW8K2lyinfTqBRbx9bUJC8vo4+psWfdbn1AdnvybWLyZ91VarX/F3TtYcw7zPjTYTJf/7+iWZEuPky3HjsTShL0Lc7HZGGA9eE9QvOW/tdp36HL4l4vgWx1LFrA7PWTW/xLrfK7sVO1eEzoKzeGXbnh/uxKwvhiAo7qdpbVsmIi8pyUSRJ435yTX4lcU52tG2vf41EoCgnuD0GFT7VYqZGo/oVzWhM4V5lttsUYpZvzCch+hXSK5ZKfkm/A7x9uoOpSO+rTl8S8yZw1Ua636v7FTs0gK90OCHhC/a0ts2iXlJjYgJ1k38zlVdxCZlY8PWs9t20TiLqEbop3u+E/9gW/ehWxCcupLgh7RT61dmy/pqY1rHjj1T61uMWz7WoY7wrTs+F6aVWOt+F5J6mJtmHInWHL4VGn77MUtzM6vXWPc7ZTdiFxNFTCJULvvJjydlKlkiSJPT8y0kX1E3lWniOsKh0LazCa/s54tNx61f6MbkZItZgNMx03aq7y9QW9f4ZWPmxKbWLztXZP3sWCrsZ63ucFTPAy4miZXEjlD2Vyh0RPBR9tuOR9VvGlsn6fN88uo25vA6acz/rpiVxI5orPsdst/bmAAAAHYDxA4AAMDmgdgBAADYPBA7AAAAmwdiBwAAYPNA7AAAAGweiB0AAIDNA7EDAACwec4jdvwAqPMwb6T1kPX1oQd75z54Hh8GvpWHWh3CuM14cPzspAdjV/rwNADgdriK2IU3LKw8gUHs1gDELoPerIF4ADCbq9zGPEZILs0t+Lg4qxM7kAGxA+AoFhe7eHUTiy8W8RbmPCGJdfL3u+n36Nn3EqrzOUnwVSeVxnsLu32UNjOxILvko3xXXaeglMTHJDwZc31lOcVtOsdcedp38M0QO/5AIOOux0i/n2+KZ9zvncv71Fi6dwgKtrtiZse6v8+Rev2e8WDUeyTJx+F32XfdL2mXi/U9xaVwVwWAvXK2KztOhBM6OU3FJN8CuT2CbKb6IWmLhR+2he0xqadzQvKYjocEJRKE314DN9FyYuS24nafbdE/iUjcITEK4YuJkn2YkjK3p/ppYlAUigLBFsU02dO+2H7G8edEb+NdaluJwUjNdmfMMpu9pJgW6veMR1XsRDzjtomJ6IdPjMXx/QNgm1xQ7BibqPqgpBDriIQxJkjfpvIhJA6ZBD07E2X/K7gJu5HgqlDd5LOwPdXXAhKR7cXfVVsiWWZ9LAhOiSBYMvHK+vS7Scqq36ataXw1bqyqtlsxS7/P6KfCE6CRvvEozoVMyBzhboodAMDjZsQuLHJKCkMCu7u/O9xR/THp5UmEyMSulCRM4iXWIXbRD6r7ytOhz0O/KfFR/eibdxVTT66SrI+u/2WqMQqiMIihLWO/rZ+2HxE3Vg3b9ZhF6ByuN2ecgz9FsZk/Hqp/2RyF2AGwFLcjdknYHofkcPdssHE/LHha+CFReDbNvlqSWLHYxST9ONgY7A72SeQ5mcdkqG3rfXnbkqyPS4tdIymPcUhj653rxqphux4zS4xX91hX254/Hqp/mW2qC7EDYAluTuwehk/qlBoe7wfRGwrbCUlDJmpKCna7M0lFW0f6eBaxo6vZ0OvD3ZDA78RVEMVZ9ivYHrfrYqfPjTGYc3uvKnbJXjWGaUzjB5i0z+DHqm67FTPN3PlYb7tnPMa6YY4O588RuzDHSn0hon+98wuAvbCw2KWFZopODEeKnV3EKVFkIjK2O/MTMSee1EZMmH0+6na5sGicJna2nyGZGkGK+2y7RF3s+HisR/GiGC8ldkQ+H6wvXn+0X6KomFVsV2Pm2J4tDLbt3vEYCGKVjiWhV3O6JXYDer7Z2CXfZvcJgG1ztis7AAAAYC1A7AAAAGweiB1w0bfibLG3zjaCvMXolPm33gEAawFiBwAAYPNA7AAAAGweiB0AAIDNA7EDAACweSB2AAAANs/uxE59y/CiD97qB5GzB73VNwHLDxLreoWHr1V93a73jUL1kLLz4P3RMZMP6ts+ed98zGw3YkZwG6Ju6Zuktn48L4/1yNlsd/SrQP2B8mth52F5/nKZ5mHPHG7TmsOrpLY+BhYZa2cO75UdiV1aVNcY9JTYi0ktTMjS4o5+h9df1WwwwRYvDK6blr7jR0jKxeRwSswooU8LNC5csWDJl1pSasUsQG3E18ZVfQy2ZHyj2NwNMS2/eutMtrv6VUCN7dBSdeyuiPEzbEs/s5gZbP0Gq41Dlcb6MDEIx2f3sXMO74T9iB1NnisNOC3GcnIjQSkvfJrksW5Koo0kSW2N4uYkjZAYOA6UdGoLaMmY2QTXaLseswj3JSSCip/2OL1XNfhRSbrnst3TLx/zwYWo+H9Vgl8mUasYxiRc8pti5N2BcGnMo5tBjaUz1o2YefTO4b2wG7GLCyheHfGtgeOSzlzSJH1KwsNtCwFKieGBJiQfdxdvh9g1kkzYFvbj8Yd49Zbalgts0ZipxZy2i0mqETNCCHl9MVeShPWJOZvtjn4VsW3R9oljciaymIVYTHMrJOHS2Idze2PSnsM3g5ovUez0uHr7KnTP4f2wE7GLE0UlljAZColqSdJCl5NNLfbgh1ygyddscsbkVpvsUZymhT5O8tRGaFMkk+CHjEHyNbaxZMycPnFcxiLaacUs2eNY1BZzdaGHdmx/zmi72a8aLHY8LtFHO+bXYxJff45MfhdjNjC3P/U5fCvk6yPMLTEvwnZ3v/rn8J7YldjpieLtOwNh8YlETsh9JCA22Xn7UjIp+uskV14gypaw7SWWad9yMQsJKeuPJvqaYtKImV285cV8ZMzOZLvVrzqTmExtXmgOz8bEJvSRt6PP6sMN48WsQX0O3wb++uA4xRL/P2NfbPrn8L7Y2W1MOZ0ulSho4VeSnpfsjhC7sGDshA5XYtq2nPjeIpBxWiJmwa+eZK7iUIuZTgK66DqhfzWRzZLrOW0TjblQJfqmx8OxtxLsPNLzzOuLd16b1hxeO93rI4x1/zzpmcN7Y19fUJGTxRGCc2EXsd62C99PBHGyF4TGTaxErDO1ZWzYenb7xJj1L+S0QIsxyrclXsLL+upRjNvE0rZ7+hXjltsPvgibTcG9FqbvoT/Sz3Dc9K81FqlO1l9br2VnRcRx7lkfpfnGwlbvrz+H98d+xG4gJouYSC4ldBHzaauQPPm4ErogMKJuKtPEz4VCo21nC0bZzxfN0THj5GRL8lPb9cS9FbMJbzFnCVZg247FTxjL2273qyR2hLK/GqHTcyyPpenzUHTfWnN4oCR2RGMOr5LG+ujrE8e13mdvDu+RXYkdAACAfQKxAwAAsHkgdgAAADYPxA4AAMDmgdgBAADYPBA7AAAAmwdiBwAAYPNA7AAAAGyeGxa7+ECl9+DttYgPA9/IQ61rYCUPA9O4qYfa1QO/GE8AtgDEbkEgdpbGGJHYreAtIJnYjdCbQdY3nphnAMwHYgfOCMRuWeJruer/YR0A4LGg2JUSm04Y9t2B6nxOfvI2knqnm30H3wyxa9qO/o+2xbHgs0nKap+67eW9P7Jkuy9m+nZfKTGXqcW8eUzGKPST+0e+k49yTKa+x6uPvCjfC2Lni4+JlYr5UFw/hW+qHTMeQ1la7Lw5cyo9/2EdAOCz6JWdn6REwghJW4hB2BaLdkzq6Ry1qGOCmuyXhKJA1Xb03YrQ2JaTXNy+jklWU7PdjJn6fT5RzHKfAo3xaIsdxZPPt+NDNMaI2nMEIWs3IG1FEZvsxm09XtI3fb4ej7idjwFxfOzPIXYjznwEANRZVOxogcekIRLTmCC9ZGgSjUm2yk6WGBuJ1FKzHZKaEQTTnk6IzvmEK3Z12/WYETFR27j1Eev6MWqPR4/YSdu5SDXGKBvTBO1PdiZ/qC9x/FwhkbaCn7rd0Y4zRnpsJVObc3F9TOMhryhD8WJQI/QBYgfAHJb9mx0nqWEx3t3fHe44uYTF7Cc+lWhKyY/IjjUSqaVmOyXHahKS9bmfFieRNm2zLTdmCWXD2K8R6pWSYns8riZ2Y/8HcaCYBJskFLHtvJ0BaUv5aXCOLSZ2wbYYY1F8+0cS2oHYATCHZcUuJanHIRndPRsS3f2QfEZhiIlPL3qzr5T8iOxYI5FaarZryXFkSnyUHN12PTst29WY5YRE3/SVqSXr9nhcTeyC30M7w3Hy5XEQvMcUJzo3tGPqqX21mDvHcGUHwPY5i9g9UHIaNukP6ndDUclTJhpKdna7tPDNAqcERYliEbEb9lJSLgkME0VuSFhVH22SbdhuxCzDxqxBiFPB39Z46ITNiZqP94hdar/U9+KYRLF7eDqUYbzJLl3hjXZCnGXb0bdx2x0HRp8bY3ApsVsIsxYAAG2WFbuUSMakFJKnkxDpnFDMgq0Kkq4bP/Fr21UatgfrUZRG35wEmJKs3a/7xEUm25rtRszS9lTmJzn+YMClezyU38OxZ1JE+sRu7F8qKnbFMUnt8jEv7mmfa7cqdgMypoO/5Lcd08i6xM6fZ8f5B8DeWFjsAJhB8wPItTle7AAA6wJiB64HxA4AcCE2IXb+7R0u201W9vakLpXbeGtB3aJd0TipW6QQOwC2AK7sAAAAbB6IHQAAgM0DsQMAALB5IHYAAAA2D8QOAADA5tmJ2OUPdeObdgAAsB/2e2UXvvZ+A1/PBwAAcDK7FTt6Rs1/RRQAAICtsU+xa707EQAAwKbYpdjhqg4AAPbF/sQuXNXhiykAALAndid24X2S2b+hAQAAsGX2JXa4qgMAgF2yI7FLz9rhqg4AAHbHLr+gAgAAYF9A7AAAAGweiB0AAIDNA7EDAACweSB2AAAANg/EDgAAwOaB2AEAANg8Fxa7x8Md/pccAACAC3OlKzsSPYgdAACAywCxAwAAsHnOIHbyVmXpX+mUxe6Vp0/GulTunqUDgbbtWB9CCgAAYGJhsYvvn5xEKIqTFiyiIHbVf6raZxtiBwAAwLKs2JFYPXkYZGkiiE/28uWa2HniONBtGwAAANAsK3bP7sZbjKr0ih0hbUhx67YNAAAAaJYXO3P15VMRO0H4R6tsr9s2AAAAoFn4b3bx72j+l1IkfWIXblOOAtdnG3+zAwAAYFlY7IgoSvJW4/g3OPdW5CRMUajkMftllYrtBMQOAACA5QxiBwAAAKwLiB0AAIDNA7EDAACweSB2AAAANg/EDgAAwOaB2AEAANg8EDsAAACbB2IHAABg80DsAAAAbJ5diV1412bl7StXJf3HB/tia+tz2ff4L5Cyt8ew3WK9CLfjHy/YPiv2bTn1t+lkr5FTb+vJ/dZv61nSNscqFfcl6NPx9qv1NHW/VwDHRvU7f/PR9BpAE6+xdM41M7839f7cxhyu0rnu98RuxC4kCbkAw0RaR7IIvg2L9IEEp/VfHMIkLiTv+7shqchjMcmME71QN8TiyVB3SDreovBtn5OYAKUvQYzH2MTjo1CkhV3qZxQIMdZm7NULx0+0TduTgMX4T9vGth2fFlW/1wD158nh7p7myxjtAdo/Y62dsDb1PLlhWnO4Sue63xm7ETtaBFOSGQgT4LgFtSjkR1qcPQs1Co85Z5zMMdmoBWKSYRaHcWHkAhMo2D4veVuq304ylLHL4ygXvxWcAZkMTrKdo853bLvj6dLwewVwX/M+UYz61xrZ0XO0n/54rpu580zSt+73x35uY4ZEoxPe2hZFPsEtuQjoJKiPewvf7pva9MSubPvcBL84QYakPvlm+xC2h+Nxgdt+pLEejvv9iEmE58ZptnPUmNIctFdi3j6Xut9XRwi5jWH0tVPswlj3C6PGjs+tMn+eSfL4+/v2xs6+oDIliJ5Jc2laYudOWJUsTUK0n/yTaIw2VGJxEkXN9iUICZTGS7c7xoGPk49jX6Z+RMGMYz3FjvsxJRA+V513lG1DsCF9j/NvinGaj7PEzvf7uui5k8cj9XMs5Xl0VH/GeTKUrliunZnzzNJa9ztlZ1d2PAHmJJnLESZ2cULaRElwAkyb2XZKPNTX1N/HYTsmE52g8u227XMSYsHjk5IZJ8GxT3L86JywPYmBTJpTEo1xpONe30+zLUgJRo/XgEzMJKC03ZWE6n5fE5uEm0k5xMCZSzZJH0OwfeyV4VqYMc8KlNf9ftmJ2MXJowc7Jo9rJwpJTezC5JUJmFCJ05SCHWoj9Jk/7XmF2jnC9mJ4SU8mMSehyQSbx1GKQmkupPZOsp1Ise1JLmS7Lwk1/L4a0S93nhR98/2uzf9+1hCT0+maZzMY1/2O2ZXYqckTktq6FkV5sfcKc32h15NJazFdMIk4V0XB91HsYzymvpj4JKHW25OAxU+9U1/0B4nTbM8VuuwDzEDoq2wjUfd7PQS/ivMs9c/67X3AkaS4tvq71pjMpjXPAvxBo74u6+t+P+zob3YpiY3lQom7ifUrFTE53eTgQrZkv7TtegJekdgRabGPJeu/7lvmt6pvk0RKinx8QdssVLpw3Dg5pVJIQCWxI+p+r4NM7OxYZv12PoxaSmLXnCc3TGMOT/PJrss5634/7OwLKgAAAPYIxA4AAMDmgdgBAADYPBA7AAAAmwdiBwAAYPNA7AAAAGweiB0AAIDNc8Ni13ou7PLE56PW8vzeDaCeI7pe3Gjc1LNI/EzXlf0CACwHxG5BIHaWxhiR2K3gIeBM7EYu/CB9gh8cX9PcBuDWgdiBMwKxm0eM15OnD+ENGJjbACzHgmJXSmw6YajXHdkFzclP3kZSrxDSr8HJ6tdo2o7+j7bFseCzScpqn7rtVXutj7XdFzN9u2/+639qMW8ekzEK/eT+ke/koxyTqe/xKjcvyveC2PniY2KlYj4U10/hm2rHjMdQ1iB2FO/Yv+h3Pi8AAMey6JWdn6REwghJW4hB2PaSejonJC0+HhPUZL8kFAWqtqPvVoTGtsy5hNvXMclqarabMVO/zyeKWe5ToDEebbGjePL5dnyIxhhRe47YZe0GpC0rBnFbj5f0TZ+vxyNu52NAnBb747H9AwCcyqJiR0kqJg2RmMYE6SVDk2hMslV2ssTYSKSWmu2QXIwgmPZ0QnTOJ1yxq9uux4yIic/GrY9a0myPR4/YSdu5SDXGKBvTBO1PdiZ/qC9x/EI7tp60lcROtjvaccZIj61karMXsiWvGGOZK5i1cQMAHMOyf7PjJDUklLv7u8MdJ5eQhPzEpxJNKfkR2bFGIrXUbKfkmCUpeb6sz/20OIm0aZttuTFLKBvGfo1Qr5Ro2+NxNbEb+z8kfYpJsEkCENvO2xmQtpSfBufYkmK3DBA7AJZmWbFLSYr+K+7dsyHR3Q/JZxSGmPh0UjH7SsmPyI41EqmlZruWHEemxEfJ0W3Xs9OyXY1ZTkj0TV+ZWrJuj8fVxC74PbQzHCdfHgfBe0xxonNDO6ae2leLuXNsSbEjW9kHm9mCCbEDYGnOInYPlJyGzcf7IYEPRSVPmWgo2dltN/kNhCQ1JQ1OKouI3bCXknJJYJgockMiqvpok2zDdiNmGTZmDUKcCv62xkOLSkzA0/EesUvtl/peHJModg9PhzKMN9mlK7zRToizbNuIgzsOjD43xmA5sVsG0x8AwMksK3ZpkY5JKSRPJyHSOaGYRFIVJF03fuKfkRAatgfrUZRG35wEmJKs3a/7xEUm25rtRszS9lTmJ1/+YMClezyU38OxZ1JE+sRu7F8qKnbFMUnt8jEv7mmfa7cqdgMypoO/5Lcd08iFxS4b61i65zgAoMjCYgfADIpitxYuLHYAgLMBsQPXA2IHALgQmxA7/zYil+0mK3t7UpfKbby1oG7brWic1C1SiB0AWwBXdgAAADYPxA4AAMDmgdgBAADYPBA7AAAAmwdiB8BK+MpXvnL4oz/6o/Bzac5pG4BbYFdip769uOqvvNf54he/GBIX/bwEMW74ViIh59CLL754+Lmf+7nD888/nz34Tee98MILh/v7+8Nr/u8PpL0D4pueVO833/3Bw2c+85lw6O///u+bgqS/edz/jduzil3hYXj7ggHlu1p/5qUL2YsJGqz1W72nclK/Ki9z2Cm7Ebuw0MQCC0lr7qJaAf/+7/9++NCHPnT42Mc+Fn7S9vmIC+buKSVoiJ0lCMh7Xzq86TVvErFJiXuYW/yh5OMf//jh29/+djo2xfGL73/bIIZvP7z0uU4BCslvErgwhzs/tJ1V7DJiDGSCrfmq32AT51x3cg4fHqaYRkG9gcduWpzULxP/9AFr72/i2YnYpaQtBztMgNtbFJSsSOS+9rWvHT74wQ+eNXnRezrDYjMLD0Tog8YfPbzt8IZ3vjeJ2QAJ0iB0tE0iRx9KaJy+/vWvx+OCz3zm5cNvvPnNh7f+Sc8HllxA5ozLRcXOri3annEnZc4H0fxcZ63fICf1y3woIubEdKvsSOxsUvD2rR+65UWFkynfAjsrELsCj4f/58W3HF76H9MVNiWVJ8OV8C8+/3y4xfk93/M94ValveUcr9DfM9R/sTMx2/kakx/douqpf0mxizGYpC1cldw/xCve5HPtyq0/MccPAFP/4/bt37Y7rV8x3lP84lXhUH/GB44tspvbmHYBhe0bS+B8C5MTFiXQ0lWDl9y4PtchoaRzvMK33qj+B9/33w+vf/71Way4vmyD27WF2vzbv/3bdNYEnf+JT3xiPO8jH/mIskcEH4pXR5/Jbue2zqd2bBv09zJqm/3gUvu7KCWRF375w8IeJ6W7wweGeuTXN/74vx3e/Oa3HV76E/2hhM5/9+/cH17zppfGBET7JluRaYw/cvg//6efOPz39718eOnt94c3vvGNh//9//1aJiw0ZlyHbNHPz3/+89W/B9q+U53Pfe5z09XqgBdnIts/fDB63Xe99fCeYR8dI57dv/rwn//z/zr4Hn2iW7//23/5L4e7P5nsj4Srkt51OYlCXM8xFjbZ3x6n9Ws8j//mRyJnr7Z3yI6+oDJ9EqYS/lXPjQ0+JTGZWFi8vIRsEydfCUoRoJ9f/epXQ7J79uxZKPQ77aPbpATV98SO2uTkKBMot0sJluxw+exnP5udS+2TPyR21C77IX0kgg9mHzNH7Fo+y/6zYHixjcT59Iv/X+xDTOwpSQ1JnGIdPzB8+fDSW148/MZ7tI+fetebhiu/3zx8xPTT+sZ+fPrTLx/e8frXH777u7/78H+9P+774AdfPjy8fvpyDI8x2aB4Uz84pl6/vfN5rMh+9D8Kkucbzz+5n5Lz8//HR0J93vfy2188/MpLL4e+cGz/8B3/8+G17/pyOD4SErK8omnhX/HYDwC3x2n9CmI31FVXciR8uLLbKTP/jnBtODHxp2WGtmVSYmRy4rqUgDzB4OMlO1bsWKQ+/elPq6RGyHYlnjCTHXse25bnBR8KvveKXc1nz4bnhyQklGH+fNnEjhLS6971d6Kvrxxe+q8vHH773VNMvvyu1x7e8Ib/dnjpQzredNzGjmzQvs985qMhAXKyi+e++/A28eUYPlfWJ3h8S7ZJEC3sC/ffGz86h2JEV4Vhf7rd/dKfTR/KqNDfNV98+8upViRL3Eno5ooU2dFXO9NV0S1zUr+cv9n1XhVumX2KXVqUfbdK1gEnX5vIOCmV9lMio2ROdT2xIOaIHZ9Lycz7kkzJH7qF6e23cFKVoh58KPjfI3Ytn+eLXbyq48RD54ztDYnmhRd+6fAHYvv5538xbNN5lHSeH2JJt/SsbfKJYvThX34h3X3QAhY/scd5O4rIW+Jt0NoYEmyb+9063ztOcZLb5Bvto5+0n25XUkKlfVSIYOdDLx3eRrdyP/+NsC9bfz1Cl87Jrk7SrbpRBJxEf5N09YuvAG0uS3exRnHT83Wv7Ebsxkv7UG5vMXgJmfDEgeDkRsUmd4uX2AiKGT0rxs+SUexeM1xJUKKmRM6CIG3LdmWh87wriG9+85shWdIVF31zkc+X/SGbo5gYvLjY88k+b9d8pv7zrTyuQz8t4VO3SLpsk8/96MNbDm9+85sP3/Vd3xXm2rMxvu893L361ePzd/QzzMdki/2wYif7wvOYbL/5bS8dPpriVJoHDNvmfrfOJ2xsyRfe5jlD9qh86D2/Mfj0usNLf1O4Anz3b4Y+f+/3fu/hP/2n/0Ul5xDPsC5lMQm8JHZEEoZYNiB0TLNfJbEjkuClsnehI/Z7G/OG4MTEQuAVmZQITm4sIPSFgxIlsSNCokrJlm1yIqsJR+lvdjIJ0u+0j26D0XESQyrUl6XErsdn4hvf+Ib62xYX6W8JHh+KH4m39Z8gO+yT5zPBvkrfZD0Jt8nt2G2Ltd06n7B+ytjR73/8x38cjrEt3k+/W39pXnFfyI/afATgHEDsbgBKIpQkKFlIAeFC+21ilsnNOy7pETu6/UdJTJ4jkx8j27VQ8uT6pWTr7WcfbAIlbEIm5vpMsN8cIz6vFDML+0Fi7dlne1/60peCP7bfBPsg61L7VM/23caJt70xJHgOsG06h84tne8d533UJtmTx2ift99C++k8r08AnBOI3crhBFNLIF6is4mTPknLZC6ptUH1KTHR1ZdNUJzAZXK27TK2Da5r/eH6nMQJ9sFLjnQe9d0Tu16fvfiV/CvBfpfebMNtsE+eXbYhfaPzbB8ItifjVBIRPtezTfu828vsi/WTtukKmIo8Rr9T/D71qU9ldSxePwE4NxC7ldObdG2i8xIKneMlsJbYUR2vHvsm2+DzW7cxOQFz3/gcfuOITOJkU54nC/lMxyhh0y1EPn+Oz3QOnSv39cadkYLixZHg+JNdHicJ+2198873xE7GlGJJ8aH6FFOOv7TN4077+Xwq9DvZqM0H6xPHy7ZBPtHtTvKDbNM4kVCSn3QMgEsBsVs5pWRn4WTDyc9LnDK5ySTO+2vJTSZVhtuUbfD5ttB59qFy+3cySrLe37xKNm1hP+b4bOPG8H4ZpxZkg9ot1WG/vDgTfJx9I0rj74kdQTFlYaNCV5Jkz7NNkB/UBp0n63hXewS3a/vAc8iKGO2nuwrUB7ZP/pGfAFwSiB24eTgB20QOAAAMxA7cPBA7AEALiB24eSB2AIAWELvVsb7XHcWHfr0HVwEA4DZYn9jRWwO8tyTsBojd6glv89jQmzoA2AEQu9WxPrEDBogdADfHwmI3JerpfXfmikC9700c43ffZYWTCr3rTduiNsaXx44JSLwTTogmvVOQzpXv4esTlJL4aH+kXdtn9lO+n1Pb0++xy49X4A8HMn7q7eba9vSy3dgv/fJds0+NSe3dfKmM7fbFTL+vdEafE7X65WO5b+Fc9dLcoa+y7+M8yscpFj3eAID1cRaxowTACTOIACeSkEBEYgjCZ5Jo8cpOJ0oiFzuZeGJi4qTGyY/PD9udV5CqnZHJH2srtjX1axTCFAd9vhGYtN2d+McPD6k9FWNr24mJikEe40CwmYudGlvTVitmJZu92Bgr7LwK2zomdbET8UzbajxO9B0AcHnOI3Zj4hgQ4kVJRSdAJ7GfKHbSljyuE9rAjIQ1+S38Hes7ydD0K4iC7JNsO+uvE5MaKpETxkcTyzyxi7pkS8aIcWNFdc0+d6y9mPHvM/qp8GLOxPb0PJNzIY9vNSYDmXC78QAArJmz3cb0CEl/SFK2qPNPErtyAjpF7EYRGOrc3d8d7qhNqh/8zP2ycciSpSTrbz2GGcV4DdAxJ94yDtI3+t1t14tV2OfYZl+qMUtI/0p98Aht25gzfvymfkLsANgjFxe7YtJnisn7imKXkvTjYOPu2dDH+8E/TubBL9tnva/a76y/eQzplVDeK6jC/ve/rS52LREZzyGfp3jwq6/Cs2terFrxq8Ysh2LU9HUknwsTMX463nJfHt89iR2Nq33FGEH7vNeYyfPpp30d2FxoHnvtgwjFhtc6nh9dlouKXfwkX0pSiZBIvHO0gIQENWxfUuwehisUOv/xfkjgQ+G2baIObYntqtiZ/gZbRjzlApCE/TWxSzErth1IIjeMzZve9anx/YVqgbmximNdEq9WzCw2Zi1q4hjnhvA3zDveNmIYjsl+dIhdOKcyz1cMjasVLH6vpX0HJ+9fMtlC7OqwwPE69NY9OI7Lih3ByWUsNolysnKOy7pDclJJqCFeJ4ldSm5j/eSH7CeLVObzQJ4sNbK/dB6dv4zYEcl3Uez4UPsvvPBfDy/9D50E9ThwkX1LgieOT/2sxyy33TsWEzrmul/avvnwFMY+HRtiR1ef88RuQM1j78PZOiExo2QqRY338UujGe/cU4HYgWuxsNiBc1AVu2E/fwLnT4Nc5G0pOk8eswmn1Iakdg7ttzYllDDlm++lb/YKgrfpfPk2fluX2pPJmetJP+h3W1/W6bVB/ZMxZB8k8jgVaYNo+VKKEfsk68nj7F8PbEueT7+TDS4M+Sb7KdthO/TfEdg3e2VIUB3pL/3rJ9kGUYsb/S63vVt77D9B+9mO548H1ZXtc5HtEtJPa5vOpePyHBk7pmWjNRcJ2UcqZJOp2eDfZV0q0s+afxayKe1QkW2vDYjdDUCTSk5oxttP27RfQvsoQfBVm11EnEDov2jTT5641k7JD8JrV0L/3ocXjm2ft3mh0H65AAnPPm3LxUXnWL/pd+kznS9t99qgfWzH+k/QsVqMCfq95kstRgzVt/us3RbWBtf3YuOdR7B/MiHScVtfbpN9G1uyV4ub9cmzQb/TfvKDbLE/9J/q+fcaVN/Gz8aItq0f0m86t2eOtGzQPobOt30l6BzeRz+5TaLXBu339tX8s9i26XxZf21A7FYM34p7zWtec3jDG95wePWrXz3eOgu3Hd+b39O3k5gmKv3zTLvoaZv203EqNKnlxPYWq53cEttuC7kwuK24iF8+vNP0lWPw4osvqlvR1B4vbE509srB+ky/ywXZa0NuE3wu/eyJMdHyxeIlDy/O1m4LsstjLX23v9M5HBtCtsNjJtuV/ZW2JGSD/S+dI+3Q7xxngurS+Pzpn/5p8EHakPXm4MVPxtnzk/vP8ZH9YqTvvTb4d65buhJmf+mY9H2ODbmvxz+LbZt+t/N1TUDsbgSaWPQJjQtt28lG2ElME5UmvE0AcnJ7E53gxcL7rQ9UeCHYdj3oHFmXFwYvKvqP2p6vhGeftql9rk/n0LY8z/p8rA3aL5Exo/NbMSZavhClGDGlOMg6VMinEuQX+UvnULHjQPvIZ/Jd9knGQZ7LyPni1Sek/1S3FTfZDu3/6Ec/Gv7xq4y99b/Vf4vsF2P9tPHlwu14NmQ/em3Q79wPskfb7AfD5/Hvst1eG7J/BJ3j+UaF27JQfXmebWNtQOxuGJpcdoF5k7iVUOTvErvftidt23YldJzO46REUF2bpEjsSn8n8OzTNtmhY2yLtuV5NZ+JY2wQMjbWJiPPIWq+UKnFiKH60jfC2qX2yJYXR4brWHu8TT9t27Id2k/HyUdGtluKiWyvN25ch7b5io62qT4dY58YOo/mkWfbQ/aL6fFT4tmQ/ei1wX0qzUUbG9tujw1C9o/o8c9i2z7GxiWB2N0wdrIRdhLToqAJyIuDoW1aNDQxvcRF2Lq2PbnwbLsS2RZD5/NilO3Tfk/wPPu0/dnPfladbxd2zWei14bcJuTCpnqtGBM1X+y5hIwRU4qDtUv+2PGU0PnPnj0LRZ7H/frkJz+pbBKyHW/OyDjI3yVkg/0vnUPbMha0TSJHt+O4fWr3U5/6lDtvCfbP9sHDxo+g7ZafEtkvhmNJ/ei10ZqLtC3nBB2TvvfYIGT/iB7/LLZtOZ/XCMTuhrGTjbCTmKBtXnSElwhoQcgFwudIW7Y9uZi9dhm7kOgntcWLltsiewTZkv4SpX7R7RPrU6/PRK8NOof9o7pkQ9ahc6RdL8Y1X1oxYqi+9I2wdq0tD7Yvx5zgvtn9hGzHjhlh26Xzpf90rr3dRb9zDAgvbp5P9JPuBEhRJPvsj/SPjteSsI0fYePs+fmXf/mXY9/o+DFzxLMh65A99kP2iaFjto3WfCZs/wjarvlnsW1TO7L+2oDY3TB2shHeJCZoPy0CLrYeQZNVnuMtBnmcCi+8UruMbJ8WLH9lnRZSaRG37NM222DofHke2+Fik3ivDbqqoPPYjjzOtGLc8qUWI6YUB2mXioylB8fc2ifInpe0aD/3ievLdqgvVI/7xOewT1zf+i/7TYXbkFAd6SvblraoXYqptUP77VWzRPaL8fyk7ZKfdKxnjrRsyD4SPBdtLG1hOzUbEq9/BO3z7HrYc70PSGsCYgdAA1rUtUUP1o2X7Jfm3HOExItu5XpiQu1ifraB2AHQAGJ329DYta50TwVit34gdgA0gNiBFpgj6wdiBwAAYPNA7AAAAGweiB0AAIDNA7EDAACweSB2AAAANg/EDgAAwOaB2IGLwm+CoOeeqMi3PdBXt+UbGWyhr3eDMrXYArB3IHbgorTEriRotB9iVwdiB0CJw+H/B+zZN3S6m/lTAAAAAElFTkSuQmCC)"
      ],
      "metadata": {
        "id": "z3Wh_U_UjQ6_"
      }
    },
    {
      "cell_type": "markdown",
      "metadata": {
        "id": "SEzZ7nFkGTcz"
      },
      "source": [
        "4. Напишите несколько версий функции `MAPE` (см. [MAPE](https://en.wikipedia.org/wiki/Mean_absolute_percentage_error)) для расчета среднего абсолютного процентного отклонения значения рейтинга отзыва на рецепт от среднего значения рейтинга по всем отзывам для этого рецепта. \n",
        "    1. Без использования векторизованных операций и методов массивов `numpy` и без использования `numba`\n",
        "    2. Без использования векторизованных операций и методов массивов `numpy`, но с использованием `numba`\n",
        "    3. С использованием векторизованных операций и методов массивов `numpy`, но без использования `numba`\n",
        "    4. C использованием векторизованных операций и методов массивов `numpy` и `numba`\n",
        "    \n",
        "Измерьте время выполнения каждой из реализаций.\n",
        "\n",
        "Замечание: удалите из выборки отзывы с нулевым рейтингом.\n"
      ]
    },
    {
      "cell_type": "code",
      "execution_count": null,
      "metadata": {
        "id": "0Hdod6l0GTc0"
      },
      "outputs": [],
      "source": [
        "#1 способ\n",
        "def MAPE_1(rev: pd.DataFrame):\n",
        "    rating_clear = rev[rev['rating'] != 0]['rating']\n",
        "    mean = rating_clear.mean()\n",
        "    return rating_clear.apply(lambda x: abs(mean - x)).sum() / mean * 100 / rating_clear.count()"
      ]
    },
    {
      "cell_type": "code",
      "source": [
        "%time MAPE_1(reviews)"
      ],
      "metadata": {
        "colab": {
          "base_uri": "https://localhost:8080/"
        },
        "id": "rQ5FyK2gkrwd",
        "outputId": "1cfded83-b744-4c55-e4f2-4b3891c4fb8e"
      },
      "execution_count": null,
      "outputs": [
        {
          "output_type": "stream",
          "name": "stdout",
          "text": [
            "CPU times: user 154 ms, sys: 0 ns, total: 154 ms\n",
            "Wall time: 163 ms\n"
          ]
        },
        {
          "output_type": "execute_result",
          "data": {
            "text/plain": [
              "11.079150232267242"
            ]
          },
          "metadata": {},
          "execution_count": 64
        }
      ]
    },
    {
      "cell_type": "code",
      "source": [
        "#2 способ\n",
        "@njit\n",
        "def MAPE_2(rev: pd.DataFrame):\n",
        "    rating_clear = rev[rev['rating'] != 0]['rating']\n",
        "    mean = rating_clear.mean()\n",
        "    return rating_clear.apply(lambda x: abs(mean - x)).sum() / mean * 100 / rating_clear.count()"
      ],
      "metadata": {
        "id": "pw8PXfWVmQT2"
      },
      "execution_count": 11,
      "outputs": []
    },
    {
      "cell_type": "code",
      "source": [
        "#3 способ\n",
        "def MAPE_3(rev: pd.DataFrame):\n",
        "    rating_clear = rev[rev['rating'] != 0]['rating'].to_numpy()\n",
        "    mean = rating_clear.mean()\n",
        "    return np.absolute(rating_clear - mean).sum() / mean * 100 / rating_clear.shape[0]"
      ],
      "metadata": {
        "id": "mk0-7LW-k5Ze"
      },
      "execution_count": null,
      "outputs": []
    },
    {
      "cell_type": "code",
      "source": [
        "%time MAPE_3(reviews)"
      ],
      "metadata": {
        "colab": {
          "base_uri": "https://localhost:8080/"
        },
        "id": "ZiGIjimIlFHp",
        "outputId": "799a5132-a820-417c-e27e-451d5bc7de28"
      },
      "execution_count": null,
      "outputs": [
        {
          "output_type": "stream",
          "name": "stdout",
          "text": [
            "CPU times: user 28 ms, sys: 0 ns, total: 28 ms\n",
            "Wall time: 28.8 ms\n"
          ]
        },
        {
          "output_type": "execute_result",
          "data": {
            "text/plain": [
              "11.079150232267242"
            ]
          },
          "metadata": {},
          "execution_count": 67
        }
      ]
    },
    {
      "cell_type": "code",
      "source": [
        "#4 способ\n",
        "@njit\n",
        "def MAPE_4_0(a: np.array):\n",
        "    mean = a.mean()\n",
        "    return np.absolute(a - mean).sum() / mean * 100 / a.shape[0]"
      ],
      "metadata": {
        "id": "sGCF5WaqlOUv"
      },
      "execution_count": null,
      "outputs": []
    },
    {
      "cell_type": "code",
      "source": [
        "def MAPE_4(rev: pd.DataFrame):\n",
        "    rating_clear = rev[rev['rating'] != 0]['rating'].to_numpy()\n",
        "    return MAPE_4_0(rating_clear)"
      ],
      "metadata": {
        "id": "cGUy0Of2ljvg"
      },
      "execution_count": null,
      "outputs": []
    },
    {
      "cell_type": "code",
      "source": [
        "%time MAPE_4(reviews)"
      ],
      "metadata": {
        "colab": {
          "base_uri": "https://localhost:8080/"
        },
        "id": "VkWoJQV1ltsY",
        "outputId": "6ad6951e-fd73-4b79-a4aa-aba22e40d851"
      },
      "execution_count": null,
      "outputs": [
        {
          "output_type": "stream",
          "name": "stdout",
          "text": [
            "CPU times: user 1.05 s, sys: 133 ms, total: 1.19 s\n",
            "Wall time: 1.12 s\n"
          ]
        },
        {
          "output_type": "execute_result",
          "data": {
            "text/plain": [
              "11.079150232261632"
            ]
          },
          "metadata": {},
          "execution_count": 71
        }
      ]
    }
  ],
  "metadata": {
    "kernelspec": {
      "display_name": "Python 3",
      "language": "python",
      "name": "python3"
    },
    "language_info": {
      "codemirror_mode": {
        "name": "ipython",
        "version": 3
      },
      "file_extension": ".py",
      "mimetype": "text/x-python",
      "name": "python",
      "nbconvert_exporter": "python",
      "pygments_lexer": "ipython3",
      "version": "3.7.4"
    },
    "colab": {
      "provenance": []
    }
  },
  "nbformat": 4,
  "nbformat_minor": 0
}